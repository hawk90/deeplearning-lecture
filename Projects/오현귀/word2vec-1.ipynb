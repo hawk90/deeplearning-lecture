{
 "cells": [
  {
   "cell_type": "code",
   "execution_count": null,
   "metadata": {},
   "outputs": [],
   "source": [
    "!pip install gensim"
   ]
  },
  {
   "cell_type": "markdown",
   "metadata": {},
   "source": [
    "방법1"
   ]
  },
  {
   "cell_type": "code",
   "execution_count": 23,
   "metadata": {},
   "outputs": [],
   "source": [
    "import pandas as pd\n",
    "import matplotlib.pyplot as plt\n",
    "import urllib.request\n",
    "from gensim.models.word2vec import Word2Vec\n",
    "from konlpy.tag import Okt"
   ]
  },
  {
   "cell_type": "code",
   "execution_count": 2,
   "metadata": {},
   "outputs": [],
   "source": [
    "##1000건의 데이터\n",
    "#file = r'C:\\Users\\user\\ohg\\in_data\\중학생+질문 20201005-1(질문).csv'\n",
    "\n",
    "#84460건의 데이터\n",
    "file = r'C:\\Users\\user\\ohg\\in_data\\중학생+질문 20201202(QA).csv'\n",
    "df = pd.read_csv(file) \n",
    "train_data = df = pd.read_csv(file) \n"
   ]
  },
  {
   "cell_type": "code",
   "execution_count": 3,
   "metadata": {},
   "outputs": [
    {
     "name": "stdout",
     "output_type": "stream",
     "text": [
      "84460\n",
      "False\n"
     ]
    }
   ],
   "source": [
    "# 데이터건수 출력\n",
    "print(len(train_data))\n",
    "# NULL 값 존재 유무\n",
    "print(train_data.isnull().values.any())"
   ]
  },
  {
   "cell_type": "code",
   "execution_count": 5,
   "metadata": {},
   "outputs": [],
   "source": [
    "# 정규 표현식을 통한 한글 외 문자 제거\n",
    "train_data['question'] = train_data['question'].str.replace(\"[^ㄱ-ㅎㅏ-ㅣ가-힣 ]\",\"\")"
   ]
  },
  {
   "cell_type": "code",
   "execution_count": 6,
   "metadata": {},
   "outputs": [
    {
     "name": "stdout",
     "output_type": "stream",
     "text": [
      "                date                                           question  \\\n",
      "0       2020.10.02.   차 재난지원금 중학생 질문이용 제가 광주광역시 중학생입니다 북구 신용중인데 차 재난...   \n",
      "1       2020.02.06.   중학생 인강 질문 질문  중학생 과목별 인강 추천해주세요 질문  인강으로 어떻게 공...   \n",
      "2       2020.04.05.   인천서구정신건강복지센터 중학생 질문  중학생이고 이시국에 가도 되나요 정신적으로 문...   \n",
      "3       2020.02.13.   중학생이 쌍수 질문 드립니다  전문인분들 제 질문에 자세히 답 좀 부탁드려요 ㅜㅁㅜ...   \n",
      "4       2020.06.02.   예비 중학생 질문 내공냠냠튀면 신고요 저 예비 중학생인데 제가 낯가림도 심하고 적응...   \n",
      "...              ...                                                ...   \n",
      "84455   2017.10.25.   중학생 냉 질염 질문  그래서 요즘 자주 팬티가 축축해요ㅜㅠ 질문은 냉 어떻게 할까...   \n",
      "84456   2019.12.05.   중학생인데 눈위치에 의문을 가져 질문를 올려봅니다 제가 거울을 보거나 카메라 셀카모...   \n",
      "84457   2017.03.26.   중학생염색 질문 중학생 어제도 물어봤는데 오늘또 물어봅니다 중학생이고 방학이에요 이...   \n",
      "84458   2008.08.18.   예비중학생 준비물 질문 안녕하세요 올해 살인 초딩입니다ㅇㅇ 반년만 지나면 중학생이 ...   \n",
      "84459   2009.12.10.    예비 중학생의 질문   고민끝에 지식인에 질문하게 됐네요 최대한 성의껏해주세요  ...   \n",
      "\n",
      "                                                  answer  \\\n",
      "0      위의 보건복지부 보도참고자료(9.22 발표)에 나와 있듯이 개별학교에서 스쿨뱅킹 등...   \n",
      "1      ... 질문 1. 중학생 과목별 인강 추천해주세요. -> 수박씨닷컴은 주요과목의 경...   \n",
      "2      안녕하세요. 아산시 청소년상담복지센터 사이버상담원입니다. 글쓴이님의 글은 잘 읽어보...   \n",
      "3      ... 경우 중학생 이전의 나이라도 바로잡아주는 것이 좋습니다. 단 청소년기에는 흉...   \n",
      "4      1.중학교 1학년 과목은 무엇이 있나요? 중학교는 고등학교와 달리 공통 교육과정에 ...   \n",
      "...                                                  ...   \n",
      "84455  중학생 냉?? 질염..?? 질문 중학교 1학년인 여학생입니다 (저체중->34kg) ...   \n",
      "84456  안녕하세요. 하이닥-네이버 지식iN 상담의 박장우 입니다. 그건 사람마다 다릅니다 ...   \n",
      "84457  결론적으로... 1. 남들의 시선이나 인식이 두렵고 용기나지 않아 안해야겠다. 2....   \n",
      "84458  안녕하세요 ㅋㅋ 저는 중3인데 저가 중학교1학년들어올때가생각나네요.. 1. 저는 가...   \n",
      "84459  1. 예비소집일날 학교에서 말해 줄텐데 ㅎㅎ 저희 때는 교복을 입고갔어요 2. 요즘...   \n",
      "\n",
      "                                                     url  \n",
      "0      https://kin.naver.com/qna/detail.nhn?d1id=12&d...  \n",
      "1      https://kin.naver.com/qna/detail.nhn?d1id=11&d...  \n",
      "2      https://kin.naver.com/qna/detail.nhn?d1id=6&di...  \n",
      "3      https://kin.naver.com/qna/detail.nhn?d1id=7&di...  \n",
      "4      https://kin.naver.com/qna/detail.nhn?d1id=11&d...  \n",
      "...                                                  ...  \n",
      "84455  https://kin.naver.com/qna/detail.nhn?d1id=7&di...  \n",
      "84456  https://kin.naver.com/qna/detail.nhn?d1id=7&di...  \n",
      "84457  https://kin.naver.com/qna/detail.nhn?d1id=13&d...  \n",
      "84458  https://kin.naver.com/qna/detail.nhn?d1id=13&d...  \n",
      "84459  https://kin.naver.com/qna/detail.nhn?d1id=13&d...  \n",
      "\n",
      "[84460 rows x 4 columns]\n"
     ]
    }
   ],
   "source": [
    "print(train_data)"
   ]
  },
  {
   "cell_type": "code",
   "execution_count": 7,
   "metadata": {},
   "outputs": [
    {
     "name": "stdout",
     "output_type": "stream",
     "text": [
      "﻿중학생\n",
      "질문\n",
      "제\n",
      "좀\n",
      "요\n",
      "때\n",
      "저\n",
      "답변\n",
      "내공\n",
      "이제\n",
      "중\n",
      "지금\n",
      "가지\n",
      "추천\n",
      "전\n",
      "것\n",
      "뭐\n",
      "정도\n",
      "이번\n",
      "대해\n",
      "이\n",
      "올해\n",
      "가요\n",
      "그냥\n",
      "하나요\n",
      "답\n",
      "안\n",
      "날\n",
      "요즘\n",
      "곳\n",
      "해\n",
      "더\n",
      "번\n",
      "막\n",
      "곧\n",
      "성의껏\n",
      "애\n",
      "거\n",
      "일단\n",
      "꼭\n",
      "현재\n",
      "정말\n",
      "조금\n",
      "저희\n",
      "한번\n",
      "보통\n",
      "참고\n",
      "부탁\n",
      "또\n",
      "등\n",
      "관련\n",
      "지식인\n",
      "거기\n",
      "쪽\n",
      "게\n",
      "몇개\n",
      "무엇\n",
      "이면\n",
      "제일\n",
      "데\n",
      "예\n",
      "진짜\n",
      "우선\n",
      "저가\n",
      "등등\n",
      "해도\n",
      "여러가지\n",
      "혹시\n",
      "거의\n",
      "이구\n",
      "원래\n",
      "혹시\n",
      "뭔가\n",
      "몇\n",
      "고요\n",
      "만약\n",
      "헤헤\n",
      "약간\n",
      "때문\n",
      "가장\n",
      "여기\n",
      "별로\n",
      "고\n",
      "존나\n",
      "죄송\n",
      "흣\n",
      "아시\n",
      "대답\n",
      "못\n",
      "성심\n",
      "대부분\n",
      "쫌\n",
      "를\n",
      "내\n",
      "헤\n",
      "살짝\n",
      "먼저\n",
      "다시\n",
      "호호\n",
      "뭘\n",
      "과\n",
      "자주\n",
      "다음\n",
      "미래\n",
      "여러분\n",
      "얼마나\n",
      "이상\n",
      "자신\n",
      "우리\n",
      "아주\n",
      "꽤\n",
      "무슨\n",
      "동안\n",
      "겸\n",
      "평소\n",
      "새끼\n",
      "어제\n",
      "모두\n",
      "전체\n",
      "그때\n",
      "자기\n",
      "하자\n",
      "웬만큼\n",
      "오\n",
      "쯤\n",
      "무쟈\n",
      "나중\n",
      "내일\n",
      "법좀\n",
      "대충\n",
      "얘\n",
      "주로\n",
      "처\n",
      "왜\n",
      "처럼\n",
      "갑자기\n",
      "나\n",
      "외\n",
      "제발\n",
      "정성껏\n",
      "전혀\n",
      "래서\n",
      "네\n",
      "부쩍\n",
      "그때되\n",
      "요기\n",
      "어디가\n",
      "하이\n",
      "옛날\n",
      "점점\n",
      "뎅\n",
      "아마\n",
      "잠깐\n",
      "만쿤\n",
      "것습니\n",
      "후기\n",
      "비롯\n",
      "함\n",
      "서로\n",
      "이건\n",
      "한가지\n",
      "각각\n",
      "겉\n",
      "다음주\n",
      "저녁\n",
      "관해\n",
      "이요\n",
      "몇시\n",
      "답좀\n",
      "아예\n",
      "짓\n",
      "그다음\n",
      "무척\n",
      "떈\n",
      "가튼뎁\n",
      "대략\n",
      "뇬\n",
      "우린\n",
      "웃\n",
      "땐\n",
      "그거\n",
      "겹\n",
      "모든\n",
      "확\n",
      "안녕\n",
      "전부\n",
      "이예\n",
      "밨\n",
      "간다\n",
      "무조건\n",
      "따라서\n",
      "한편\n",
      "제대로\n",
      "이쯤\n",
      "며칠\n",
      "체적\n",
      "그게\n",
      "요약\n",
      "건가\n",
      "떄문\n",
      "\n",
      "\n",
      "\n",
      "\n",
      "\n",
      "\n",
      "\n",
      "\n",
      "\n",
      "\n"
     ]
    }
   ],
   "source": [
    "# 불용어 정의 및 가져오기\n",
    "stopwords = open(\"./stopword/stopword.txt\", encoding = \"UTF8\").read()\n",
    "print(stopwords)"
   ]
  },
  {
   "cell_type": "code",
   "execution_count": 8,
   "metadata": {},
   "outputs": [
    {
     "name": "stderr",
     "output_type": "stream",
     "text": [
      "IOPub data rate exceeded.\n",
      "The notebook server will temporarily stop sending output\n",
      "to the client in order to avoid crashing it.\n",
      "To change this limit, set the config variable\n",
      "`--NotebookApp.iopub_data_rate_limit`.\n",
      "\n",
      "Current values:\n",
      "NotebookApp.iopub_data_rate_limit=1000000.0 (bytes/sec)\n",
      "NotebookApp.rate_limit_window=3.0 (secs)\n",
      "\n"
     ]
    }
   ],
   "source": [
    "# 형태소 분석기 OKT를 사용한 토큰화 작업\n",
    "okt = Okt()\n",
    "tokenized_data = []\n",
    "for sentence in train_data['question']:\n",
    "    temp_X = okt.morphs(sentence, stem=True) # 토큰화\n",
    "    #temp_X = okt.nouns(sentence) # 토큰화\n",
    "    temp_X = [word for word in temp_X if not word in stopwords] # 불용어 제거\n",
    "    tokenized_data.append(temp_X)"
   ]
  },
  {
   "cell_type": "code",
   "execution_count": 33,
   "metadata": {
    "scrolled": true
   },
   "outputs": [
    {
     "name": "stdout",
     "output_type": "stream",
     "text": [
      "총 샘플 수 : 84460\n"
     ]
    }
   ],
   "source": [
    "print('총 샘플 수 :',len(tokenized_data))"
   ]
  },
  {
   "cell_type": "code",
   "execution_count": 35,
   "metadata": {},
   "outputs": [
    {
     "name": "stdout",
     "output_type": "stream",
     "text": [
      "질문의 최대 길이 : 52\n",
      "질문의 평균 길이 : 36.72153682216434\n"
     ]
    },
    {
     "data": {
      "image/png": "[encoded data removed]",
      "text/plain": [
       "<Figure size 432x288 with 1 Axes>"
      ]
     },
     "metadata": {
      "needs_background": "light"
     },
     "output_type": "display_data"
    }
   ],
   "source": [
    "# 질문 길이 분포 확인\n",
    "print('질문의 최대 길이 :',max(len(l) for l in tokenized_data))\n",
    "print('질문의 평균 길이 :',sum(map(len, tokenized_data))/len(tokenized_data))\n",
    "plt.hist([len(s) for s in tokenized_data], bins=50)\n",
    "plt.xlabel('length of samples')\n",
    "plt.ylabel('number of samples')\n",
    "plt.show()"
   ]
  },
  {
   "cell_type": "code",
   "execution_count": 36,
   "metadata": {},
   "outputs": [],
   "source": [
    "model = Word2Vec(sentences = tokenized_data, size = 100, window = 5, min_count = 5, workers = 4, sg = 0)"
   ]
  },
  {
   "cell_type": "code",
   "execution_count": 37,
   "metadata": {},
   "outputs": [
    {
     "data": {
      "text/plain": [
       "(1245, 100)"
      ]
     },
     "execution_count": 37,
     "metadata": {},
     "output_type": "execute_result"
    }
   ],
   "source": [
    "# 완성된 임베딩 매트릭스의 크기 확인\n",
    "model.wv.vectors.shape"
   ]
  },
  {
   "cell_type": "code",
   "execution_count": 38,
   "metadata": {},
   "outputs": [
    {
     "name": "stdout",
     "output_type": "stream",
     "text": [
      "[('입다', 0.29871687293052673), ('따다', 0.2822904586791992), ('눈', 0.2617693841457367), ('가나', 0.25258153676986694), ('선호', 0.24061694741249084), ('완젼', 0.2327723503112793), ('웹툰', 0.2326330542564392), ('위치', 0.23237599432468414), ('걸', 0.22605106234550476), ('마이', 0.22544187307357788)]\n"
     ]
    }
   ],
   "source": [
    "print(model.wv.most_similar(\"교복\"))"
   ]
  },
  {
   "cell_type": "code",
   "execution_count": 39,
   "metadata": {},
   "outputs": [
    {
     "name": "stdout",
     "output_type": "stream",
     "text": [
      "[('언니', 0.7902485132217407), ('친하다', 0.784408688545227), ('와', 0.7740681767463684), ('선생님', 0.7522331476211548), ('한테', 0.7382252216339111), ('과목', 0.7365961074829102), ('이나', 0.7333923578262329), ('배우다', 0.7278238534927368), ('되어다', 0.7238489389419556), ('초등학생', 0.7136223316192627)]\n"
     ]
    }
   ],
   "source": [
    "print(model.wv.most_similar(\"친구\"))"
   ]
  },
  {
   "cell_type": "code",
   "execution_count": 40,
   "metadata": {
    "scrolled": true
   },
   "outputs": [
    {
     "name": "stdout",
     "output_type": "stream",
     "text": [
      "Word2Vec(vocab=1245, size=100, alpha=0.025)\n"
     ]
    }
   ],
   "source": [
    "print(model)"
   ]
  },
  {
   "cell_type": "code",
   "execution_count": 45,
   "metadata": {},
   "outputs": [],
   "source": [
    "from gensim.models import KeyedVectors\n",
    "model.wv.save_word2vec_format('./question_w2v') # 모델 저장\n"
   ]
  },
  {
   "cell_type": "code",
   "execution_count": 42,
   "metadata": {},
   "outputs": [],
   "source": [
    "loaded_model = KeyedVectors.load_word2vec_format(\"./question_w2v\") # 모델 로드"
   ]
  },
  {
   "cell_type": "code",
   "execution_count": 47,
   "metadata": {},
   "outputs": [
    {
     "name": "stderr",
     "output_type": "stream",
     "text": [
      "2020-12-10 21:10:06,275 - word2vec2tensor - INFO - running C:\\Users\\user\\anaconda3\\lib\\site-packages\\gensim\\scripts\\word2vec2tensor.py --input question_w2v --output question_w2v\n",
      "2020-12-10 21:10:06,275 - utils_any2vec - INFO - loading projection weights from question_w2v\n",
      "2020-12-10 21:10:06,484 - utils_any2vec - INFO - loaded (1245, 100) matrix from question_w2v\n",
      "2020-12-10 21:10:06,622 - word2vec2tensor - INFO - 2D tensor file saved to question_w2v_tensor.tsv\n",
      "2020-12-10 21:10:06,622 - word2vec2tensor - INFO - Tensor metadata file saved to question_w2v_metadata.tsv\n",
      "2020-12-10 21:10:06,622 - word2vec2tensor - INFO - finished running word2vec2tensor.py\n"
     ]
    }
   ],
   "source": [
    "!python -m gensim.scripts.word2vec2tensor --input question_w2v --output question_w2v"
   ]
  },
  {
   "cell_type": "markdown",
   "metadata": {},
   "source": [
    "구글의 임베딩 프로젝터를 사용해서 워드 임베딩 모델을 시각화"
   ]
  },
  {
   "cell_type": "code",
   "execution_count": null,
   "metadata": {},
   "outputs": [],
   "source": [
    "https://projector.tensorflow.org/"
   ]
  },
  {
   "cell_type": "markdown",
   "metadata": {},
   "source": [
    "PCA , T-SNE"
   ]
  },
  {
   "cell_type": "code",
   "execution_count": 44,
   "metadata": {},
   "outputs": [],
   "source": [
    "from sklearn.manifold import TSNE \n",
    "from sklearn.decomposition import PCA \n",
    "import matplotlib as mpl \n",
    "import matplotlib.pyplot as plt \n",
    "\n",
    "# 그래프에서 마이너스 폰트 깨지는 문제에 대한 대처 \n",
    "mpl.rcParams['axes.unicode_minus'] = False \n",
    "plt.rc('font', family='D2Coding') \n",
    "def show_tsne(): \n",
    "    tsne = TSNE(n_components=2) \n",
    "    X = tsne.fit_transform(X_show) \n",
    "    \n",
    "    df = pd.DataFrame(X, index=vocab_show, columns=['x', 'y']) \n",
    "    fig = plt.figure() \n",
    "    fig.set_size_inches(30, 20) \n",
    "    ax = fig.add_subplot(1, 1, 1) \n",
    "    ax.scatter(df['x'], df['y']) \n",
    "    \n",
    "    for word, pos in df.iterrows(): \n",
    "        ax.annotate(word, pos, fontsize=10) \n",
    "        \n",
    "    plt.xlabel(\"t-SNE 특성 0\") \n",
    "    plt.ylabel(\"t-SNE 특성 1\") \n",
    "    plt.show() \n",
    "    \n",
    "def show_pca(): \n",
    "    # PCA 모델을 생성합니다 \n",
    "    pca = PCA(n_components=2) \n",
    "    pca.fit(X_show) \n",
    "    # 처음 두 개의 주성분으로 숫자 데이터를 변환합니다 \n",
    "    x_pca = pca.transform(X_show) \n",
    "    \n",
    "    plt.figure(figsize=(30, 20)) \n",
    "    plt.xlim(x_pca[:, 0].min(), x_pca[:, 0].max()) \n",
    "    plt.ylim(x_pca[:, 1].min(), x_pca[:, 1].max()) \n",
    "    for i in range(len(X_show)): \n",
    "        plt.text(x_pca[i, 0], x_pca[i, 1], str(vocab_show[i]), \n",
    "                 fontdict={'weight': 'bold', 'size': 9}) \n",
    "        plt.xlabel(\"첫 번째 주성분\") \n",
    "        plt.ylabel(\"두 번째 주성분\") \n",
    "        plt.show() \n",
    "        \n",
    "        model_name = r'C:\\Users\\user\\ohg\\question_w2v' \n",
    "        model = KeyedVectors.load_word2vec_format(model_name) \n",
    "        \n",
    "        vocab = list(model.wv.vocab) \n",
    "        X = model[vocab] \n",
    "        \n",
    "        # sz개의 단어에 대해서만 시각화 \n",
    "        sz = 800 \n",
    "        X_show = X[:sz,:] \n",
    "        vocab_show = vocab[:sz] \n",
    "    show_tsne() \n",
    "    show_pca()\n",
    "\n"
   ]
  },
  {
   "cell_type": "code",
   "execution_count": null,
   "metadata": {},
   "outputs": [],
   "source": []
  }
 ],
 "metadata": {
  "kernelspec": {
   "display_name": "Python 3",
   "language": "python",
   "name": "python3"
  },
  "language_info": {
   "codemirror_mode": {
    "name": "ipython",
    "version": 3
   },
   "file_extension": ".py",
   "mimetype": "text/x-python",
   "name": "python",
   "nbconvert_exporter": "python",
   "pygments_lexer": "ipython3",
   "version": "3.8.3"
  }
 },
 "nbformat": 4,
 "nbformat_minor": 4
}
