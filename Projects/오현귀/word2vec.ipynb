{
 "cells": [
  {
   "cell_type": "code",
   "execution_count": null,
   "metadata": {},
   "outputs": [],
   "source": [
    "!pip install gensim"
   ]
  },
  {
   "cell_type": "markdown",
   "metadata": {},
   "source": [
    "방법1"
   ]
  },
  {
   "cell_type": "code",
   "execution_count": 1,
   "metadata": {},
   "outputs": [],
   "source": [
    "import pandas as pd\n",
    "import matplotlib.pyplot as plt\n",
    "import urllib.request\n",
    "from gensim.models.word2vec import Word2Vec\n",
    "from konlpy.tag import Okt"
   ]
  },
  {
   "cell_type": "code",
   "execution_count": 14,
   "metadata": {},
   "outputs": [],
   "source": [
    "##1000건의 데이터\n",
    "#file = r'C:\\Users\\user\\ohg\\in_data\\중학생+질문 20201005-1(질문).csv'\n",
    "\n",
    "#84460건의 데이터\n",
    "file = r'C:\\Users\\user\\ohg\\in_data\\중학생+질문 20201202(QA).csv'\n",
    "df = pd.read_csv(file) \n",
    "train_data = df = pd.read_csv(file) \n"
   ]
  },
  {
   "cell_type": "code",
   "execution_count": 15,
   "metadata": {},
   "outputs": [
    {
     "name": "stdout",
     "output_type": "stream",
     "text": [
      "84460\n",
      "False\n"
     ]
    }
   ],
   "source": [
    "# 데이터건수 출력\n",
    "print(len(train_data))\n",
    "# NULL 값 존재 유무\n",
    "print(train_data.isnull().values.any())"
   ]
  },
  {
   "cell_type": "code",
   "execution_count": 16,
   "metadata": {},
   "outputs": [
    {
     "name": "stdout",
     "output_type": "stream",
     "text": [
      "﻿[\n",
      "]\n",
      "#\n",
      "^\n",
      ".\n",
      "(\n",
      ")\n",
      ">\n",
      "<\n",
      "♥\n",
      "ㄳ\n",
      "☆\n",
      "★\n",
      "♡\n",
      "♤\n",
      "❢\n",
      "o\n",
      "ㅁ\n",
      "ㅋ\n",
      "ㄱ\n",
      "\\\n",
      "%\n",
      "~\n",
      "(:\n",
      "※\n",
      "①\n",
      "②\n",
      "③\n",
      "④\n",
      "중학생\n",
      "질문\n",
      "제\n",
      "좀\n",
      "요\n",
      "때\n",
      "저\n",
      "답변\n",
      "내공\n",
      "이제\n",
      "중\n",
      "지금\n",
      "가지\n",
      "추천\n",
      "전\n",
      "것\n",
      "뭐\n",
      "정도\n",
      "이번\n",
      "대해\n",
      "이\n",
      "올해\n",
      "가요\n",
      "그냥\n",
      "하나요\n",
      "답\n",
      "안\n",
      "날\n",
      "요즘\n",
      "곳\n",
      "해\n",
      "더\n",
      "번\n",
      "막\n",
      "곧\n",
      "성의껏\n",
      "애\n",
      "거\n",
      "일단\n",
      "꼭\n",
      "현재\n",
      "정말\n",
      "조금\n",
      "저희\n",
      "한번\n",
      "보통\n",
      "참고\n",
      "부탁\n",
      "또\n",
      "등\n",
      "관련\n",
      "지식인\n",
      "거기\n",
      "쪽\n",
      "게\n",
      "몇개\n",
      "무엇\n",
      "이면\n",
      "제일\n",
      "데\n",
      "예\n",
      "진짜\n",
      "우선\n",
      "저가\n",
      "등등\n",
      "해도\n",
      "여러가지\n",
      "혹시\n",
      "거의\n",
      "이구\n",
      "원래\n",
      "혹시\n",
      "뭔가\n",
      "몇\n",
      "고요\n",
      "만약\n",
      "헤헤\n",
      "약간\n",
      "때문\n",
      "가장\n",
      "여기\n",
      "별로\n",
      "고\n",
      "존나\n",
      "죄송\n",
      "흣\n",
      "아시\n",
      "대답\n",
      "못\n",
      "성심\n",
      "대부분\n",
      "쫌\n",
      "를\n",
      "내\n",
      "헤\n",
      "살짝\n",
      "먼저\n",
      "다시\n",
      "호호\n",
      "뭘\n",
      "과\n",
      "자주\n",
      "다음\n",
      "미래\n",
      "여러분\n",
      "얼마나\n",
      "이상\n",
      "자신\n",
      "우리\n",
      "아주\n",
      "꽤\n",
      "무슨\n",
      "동안\n",
      "겸\n",
      "평소\n",
      "새끼\n",
      "어제\n",
      "모두\n",
      "전체\n",
      "그때\n",
      "자기\n",
      "하자\n",
      "웬만큼\n",
      "오\n",
      "쯤\n",
      "무쟈\n",
      "나중\n",
      "내일\n",
      "법좀\n",
      "대충\n",
      "얘\n",
      "주로\n",
      "처\n",
      "왜\n",
      "처럼\n",
      "갑자기\n",
      "나\n",
      "외\n",
      "제발\n",
      "정성껏\n",
      "전혀\n",
      "래서\n",
      "네\n",
      "부쩍\n",
      "그때되\n",
      "요기\n",
      "어디가\n",
      "하이\n",
      "옛날\n",
      "점점\n",
      "뎅\n",
      "아마\n",
      "잠깐\n",
      "만쿤\n",
      "것습니\n",
      "후기\n",
      "비롯\n",
      "함\n",
      "서로\n",
      "이건\n",
      "한가지\n",
      "각각\n",
      "겉\n",
      "다음주\n",
      "저녁\n",
      "관해\n",
      "이요\n",
      "몇시\n",
      "답좀\n",
      "아예\n",
      "짓\n",
      "그다음\n",
      "무척\n",
      "떈\n",
      "가튼뎁\n",
      "대략\n",
      "뇬\n",
      "우린\n",
      "웃\n",
      "땐\n",
      "그거\n",
      "겹\n",
      "모든\n",
      "확\n",
      "안녕\n",
      "전부\n",
      "이예\n",
      "밨\n",
      "간다\n",
      "무조건\n",
      "따라서\n",
      "한편\n",
      "제대로\n",
      "이쯤\n",
      "며칠\n",
      "체적\n",
      "그게\n",
      "요약\n",
      "건가\n",
      "떄문\n",
      "\n",
      "\n",
      "\n",
      "\n",
      "\n",
      "\n",
      "\n",
      "\n",
      "\n",
      "\n"
     ]
    }
   ],
   "source": [
    "# 불용어 정의 및 가져오기\n",
    "stopwords = open(\"./stopword/stopword.txt\", encoding = \"UTF8\").read()\n",
    "print(stopwords)"
   ]
  },
  {
   "cell_type": "code",
   "execution_count": null,
   "metadata": {},
   "outputs": [],
   "source": [
    "# 형태소 분석기 OKT를 사용한 토큰화 작업\n",
    "okt = Okt()\n",
    "tokenized_data = []\n",
    "for sentence in train_data['question']:\n",
    "    #temp_X = okt.morphs(sentence, stem=True) # 토큰화\n",
    "    temp_X = okt.nouns(sentence) # 토큰화\n",
    "    temp_X = [word for word in temp_X if not word in stopwords] # 불용어 제거\n",
    "    tokenized_data.append(temp_X)\n",
    "print(tokenized_data)"
   ]
  },
  {
   "cell_type": "code",
   "execution_count": 7,
   "metadata": {},
   "outputs": [
    {
     "name": "stdout",
     "output_type": "stream",
     "text": [
      "질문의 최대 길이 : 18\n",
      "질문의 평균 길이 : 7.668\n"
     ]
    },
    {
     "data": {
      "image/png": "[encoded data removed]",
      "text/plain": [
       "<Figure size 432x288 with 1 Axes>"
      ]
     },
     "metadata": {
      "needs_background": "light"
     },
     "output_type": "display_data"
    }
   ],
   "source": [
    "# 질문 길이 분포 확인\n",
    "print('질문의 최대 길이 :',max(len(l) for l in tokenized_data))\n",
    "print('질문의 평균 길이 :',sum(map(len, tokenized_data))/len(tokenized_data))\n",
    "plt.hist([len(s) for s in tokenized_data], bins=50)\n",
    "plt.xlabel('length of samples')\n",
    "plt.ylabel('number of samples')\n",
    "plt.show()"
   ]
  },
  {
   "cell_type": "code",
   "execution_count": 8,
   "metadata": {},
   "outputs": [],
   "source": [
    "from gensim.models import Word2Vec\n",
    "model = Word2Vec(sentences = tokenized_data, size = 100, window = 5, min_count = 5, workers = 4, sg = 0)"
   ]
  },
  {
   "cell_type": "code",
   "execution_count": 9,
   "metadata": {},
   "outputs": [
    {
     "data": {
      "text/plain": [
       "(362, 100)"
      ]
     },
     "execution_count": 9,
     "metadata": {},
     "output_type": "execute_result"
    }
   ],
   "source": [
    "# 완성된 임베딩 매트릭스의 크기 확인\n",
    "model.wv.vectors.shape"
   ]
  },
  {
   "cell_type": "code",
   "execution_count": 10,
   "metadata": {},
   "outputs": [
    {
     "name": "stdout",
     "output_type": "stream",
     "text": [
      "[('과외', 0.9407587051391602), ('머리', 0.9378435015678406), ('개인', 0.9323831796646118), ('예비', 0.9307996034622192), ('중학교', 0.9261023998260498), ('학원', 0.9237028956413269), ('공부', 0.9204938411712646), ('집', 0.9195700883865356), ('사람', 0.9178169965744019), ('친구', 0.9167762994766235)]\n"
     ]
    }
   ],
   "source": [
    "print(model.wv.most_similar(\"교복\"))"
   ]
  },
  {
   "cell_type": "code",
   "execution_count": 11,
   "metadata": {},
   "outputs": [
    {
     "name": "stdout",
     "output_type": "stream",
     "text": [
      "[('머리', 0.945189356803894), ('과외', 0.9425258040428162), ('예비', 0.9414204359054565), ('영어', 0.9404187202453613), ('중학교', 0.9353958368301392), ('학년', 0.9329538345336914), ('여자', 0.9278048276901245), ('수', 0.9275861382484436), ('키', 0.9273991584777832), ('로션', 0.9235938191413879)]\n"
     ]
    }
   ],
   "source": [
    "print(model.wv.most_similar(\"친구\"))"
   ]
  },
  {
   "cell_type": "code",
   "execution_count": 13,
   "metadata": {},
   "outputs": [
    {
     "name": "stdout",
     "output_type": "stream",
     "text": [
      "Word2Vec(vocab=362, size=100, alpha=0.025)\n"
     ]
    }
   ],
   "source": [
    "print(model)"
   ]
  },
  {
   "cell_type": "markdown",
   "metadata": {},
   "source": [
    "방법2"
   ]
  },
  {
   "cell_type": "code",
   "execution_count": null,
   "metadata": {},
   "outputs": [],
   "source": [
    "from konlpy.tag import Okt  \n",
    "okt=Okt()\n",
    "\n",
    "##1000건의 데이터\n",
    "#file = r'C:\\Users\\user\\ohg\\in_data\\중학생+질문 20201005-1(질문).csv'\n",
    "\n",
    "#84460건의 데이터\n",
    "file = r'C:\\Users\\user\\ohg\\in_data\\중학생+질문 20201202(QA).csv'\n",
    "\n",
    "fread = open(file, encoding=\"utf8\")\n",
    "# 파일을 다시 처음부터 읽음.\n",
    "n=0\n",
    "result = []\n",
    "\n",
    "while True:\n",
    "    line = fread.readline() #한 줄씩 읽음.\n",
    "    if not line: break # 모두 읽으면 while문 종료.\n",
    "    n=n+1\n",
    "    if n%5000==0: # 5,000의 배수로 While문이 실행될 때마다 몇 번째 While문 실행인지 출력.\n",
    "        print(\"%d번째 While문.\"%n)\n",
    "    tokenlist = okt.pos(line, stem=True, norm=True) # 단어 토큰화\n",
    "    temp=[]\n",
    "    for word in tokenlist:\n",
    "        if word[1] in [\"Noun\"]: # 명사일 때만\n",
    "            temp.append((word[0])) # 해당 단어를 저장함\n",
    "\n",
    "    if temp: # 만약 이번에 읽은 데이터에 명사가 존재할 경우에만\n",
    "      result.append(temp) # 결과에 저장\n",
    "fread.close()"
   ]
  },
  {
   "cell_type": "code",
   "execution_count": null,
   "metadata": {},
   "outputs": [],
   "source": [
    "print('총 샘플의 개수 : {}'.format(len(result)))"
   ]
  },
  {
   "cell_type": "code",
   "execution_count": null,
   "metadata": {},
   "outputs": [],
   "source": [
    "from gensim.models import Word2Vec\n",
    "model = Word2Vec(result, size=100, window=5, min_count=5, workers=4, sg=0)\n",
    "model_result1 = model.wv.most_similar(\"교복\")\n",
    "print(model_result1)"
   ]
  },
  {
   "cell_type": "code",
   "execution_count": null,
   "metadata": {},
   "outputs": [],
   "source": []
  }
 ],
 "metadata": {
  "kernelspec": {
   "display_name": "Python 3",
   "language": "python",
   "name": "python3"
  },
  "language_info": {
   "codemirror_mode": {
    "name": "ipython",
    "version": 3
   },
   "file_extension": ".py",
   "mimetype": "text/x-python",
   "name": "python",
   "nbconvert_exporter": "python",
   "pygments_lexer": "ipython3",
   "version": "3.8.3"
  }
 },
 "nbformat": 4,
 "nbformat_minor": 4
}
