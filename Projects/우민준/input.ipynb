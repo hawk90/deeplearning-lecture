{
 "cells": [
  {
   "cell_type": "code",
   "execution_count": 4,
   "metadata": {},
   "outputs": [],
   "source": [
    "import os\n",
    "os.chdir('C://Users//user')\n"
   ]
  },
  {
   "cell_type": "code",
   "execution_count": 5,
   "metadata": {},
   "outputs": [],
   "source": [
    "f = os.popen(\"dir\")"
   ]
  },
  {
   "cell_type": "code",
   "execution_count": 6,
   "metadata": {},
   "outputs": [
    {
     "name": "stdout",
     "output_type": "stream",
     "text": [
      " C 드라이브의 볼륨에는 이름이 없습니다.\n",
      " 볼륨 일련 번호: 524F-0486\n",
      "\n",
      " C:\\Users\\user 디렉터리\n",
      "\n",
      "2020-11-12  오후 12:06    <DIR>          .\n",
      "2020-11-12  오후 12:06    <DIR>          ..\n",
      "2020-10-29  오후 09:06             2,954 .bash_history\n",
      "2020-01-17  오전 12:10    <DIR>          .conda\n",
      "2020-10-26  오후 08:57    <DIR>          .docker\n",
      "2019-12-17  오후 07:31    <DIR>          .eclipse\n",
      "2020-10-28  오후 09:13               310 .gitconfig\n",
      "2019-10-29  오전 12:15    <DIR>          .idlerc\n",
      "2020-11-12  오후 12:06    <DIR>          .ipynb_checkpoints\n",
      "2020-01-17  오전 12:53    <DIR>          .ipython\n",
      "2020-07-03  오전 10:07    <DIR>          .jupyter\n",
      "2020-11-06  오후 06:34    <DIR>          .keras\n",
      "2019-11-22  오후 02:31    <DIR>          .m2\n",
      "2020-11-10  오후 06:59    <DIR>          .matplotlib\n",
      "2019-12-22  오후 02:56    <DIR>          .p2\n",
      "2020-07-13  오후 09:36    <DIR>          .thumbnails\n",
      "2019-11-22  오후 12:31    <DIR>          .tooling\n",
      "2020-10-28  오후 10:23            10,626 .viminfo\n",
      "2020-09-06  오후 07:44    <DIR>          3D Objects\n",
      "2020-11-12  오후 12:06    <DIR>          ANACONDA TESTFILE\n",
      "2020-07-03  오전 10:03    <DIR>          Anaconda3\n",
      "2020-09-06  오후 07:44    <DIR>          Contacts\n",
      "2020-05-09  오전 10:24    <DIR>          Creative Cloud Files\n",
      "2020-11-12  오전 10:54    <DIR>          Desktop\n",
      "2020-11-01  오후 12:28    <DIR>          Documents\n",
      "2020-11-11  오후 07:59    <DIR>          Downloads\n",
      "2019-12-17  오후 07:31    <DIR>          eclipse\n",
      "2019-12-20  오후 05:04    <DIR>          eclipse-workspace\n",
      "2020-10-29  오후 04:45    <DIR>          Favorites\n",
      "2020-11-11  오전 10:21               565 file.jason\n",
      "2020-11-11  오전 11:21               600 file.json\n",
      "2019-11-22  오후 02:30    <DIR>          git\n",
      "2020-10-28  오후 10:23    <DIR>          hello-git\n",
      "2020-11-12  오전 11:41                 0 HL.txt\n",
      "2017-06-05  오후 06:03    <DIR>          Intel\n",
      "2020-04-06  오전 09:33            10,850 KCase.log\n",
      "2020-09-06  오후 07:44    <DIR>          Links\n",
      "2020-10-28  오후 09:01    <DIR>          loc-git\n",
      "2015-07-11  오전 12:55               468 Media Player Center.lnk\n",
      "2015-07-11  오전 12:55               468 Messenger Center.lnk\n",
      "2020-09-06  오후 07:44    <DIR>          Music\n",
      "2020-10-29  오후 08:34    <DIR>          OneDrive\n",
      "2020-02-19  오후 02:26    <DIR>          onesstars002@naver.com Creative Cloud Files\n",
      "2020-09-06  오후 07:44    <DIR>          Pictures\n",
      "2020-11-07  오전 10:02            10,250 practice1이진분류.ipynb\n",
      "2020-09-06  오후 07:44    <DIR>          Saved Games\n",
      "2020-09-06  오후 07:44    <DIR>          Searches\n",
      "2020-11-01  오후 03:51             4,110 study about print.ipynb\n",
      "2020-11-09  오후 01:14             3,312 Untitled1.ipynb\n",
      "2020-11-10  오후 12:04             3,019 Untitled2.ipynb\n",
      "2020-11-11  오후 01:12             5,031 Untitled3.ipynb\n",
      "2020-11-12  오전 10:40               555 Untitled4.ipynb\n",
      "2020-11-12  오후 12:02             3,657 Untitled5.ipynb\n",
      "2020-09-06  오후 07:44    <DIR>          Videos\n",
      "2019-12-30  오전 12:46    <DIR>          wekafiles\n",
      "2017-06-05  오후 06:18             1,142 한컴 사전.lnk\n",
      "              17개 파일              57,917 바이트\n",
      "              39개 디렉터리  33,749,962,752 바이트 남음\n",
      "\n"
     ]
    }
   ],
   "source": [
    "print(f.read())"
   ]
  },
  {
   "cell_type": "code",
   "execution_count": 12,
   "metadata": {},
   "outputs": [
    {
     "data": {
      "text/plain": [
       "['C:/Users/user\\\\Untitled1.ipynb',\n",
       " 'C:/Users/user\\\\Untitled2.ipynb',\n",
       " 'C:/Users/user\\\\Untitled3.ipynb',\n",
       " 'C:/Users/user\\\\Untitled4.ipynb',\n",
       " 'C:/Users/user\\\\Untitled5.ipynb']"
      ]
     },
     "execution_count": 12,
     "metadata": {},
     "output_type": "execute_result"
    }
   ],
   "source": [
    "import glob\n",
    "glob.glob('C:/Users/user/Un*')"
   ]
  },
  {
   "cell_type": "code",
   "execution_count": 13,
   "metadata": {},
   "outputs": [],
   "source": [
    "import random\n",
    "a=random.random()"
   ]
  },
  {
   "cell_type": "code",
   "execution_count": 14,
   "metadata": {},
   "outputs": [
    {
     "data": {
      "text/plain": [
       "0.17539519445114227"
      ]
     },
     "execution_count": 14,
     "metadata": {},
     "output_type": "execute_result"
    }
   ],
   "source": [
    "a"
   ]
  },
  {
   "cell_type": "code",
   "execution_count": null,
   "metadata": {},
   "outputs": [],
   "source": []
  }
 ],
 "metadata": {
  "kernelspec": {
   "display_name": "Python 3",
   "language": "python",
   "name": "python3"
  },
  "language_info": {
   "codemirror_mode": {
    "name": "ipython",
    "version": 3
   },
   "file_extension": ".py",
   "mimetype": "text/x-python",
   "name": "python",
   "nbconvert_exporter": "python",
   "pygments_lexer": "ipython3",
   "version": "3.7.6"
  }
 },
 "nbformat": 4,
 "nbformat_minor": 4
}
