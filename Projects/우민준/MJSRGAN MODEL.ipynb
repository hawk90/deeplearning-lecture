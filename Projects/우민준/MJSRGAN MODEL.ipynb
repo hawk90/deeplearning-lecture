{
 "cells": [
  {
   "cell_type": "code",
   "execution_count": 2,
   "metadata": {},
   "outputs": [],
   "source": [
    "import tensorflow as tf\n",
    "import keras"
   ]
  },
  {
   "cell_type": "code",
   "execution_count": 3,
   "metadata": {},
   "outputs": [],
   "source": [
    "#Generator"
   ]
  },
  {
   "cell_type": "code",
   "execution_count": 6,
   "metadata": {},
   "outputs": [
    {
     "ename": "SyntaxError",
     "evalue": "EOL while scanning string literal (<ipython-input-6-e6db081213c4>, line 21)",
     "output_type": "error",
     "traceback": [
      "\u001b[1;36m  File \u001b[1;32m\"<ipython-input-6-e6db081213c4>\"\u001b[1;36m, line \u001b[1;32m21\u001b[0m\n\u001b[1;33m    'kernel_initializer=\"he_normal\"''),\u001b[0m\n\u001b[1;37m                                       ^\u001b[0m\n\u001b[1;31mSyntaxError\u001b[0m\u001b[1;31m:\u001b[0m EOL while scanning string literal\n"
     ]
    }
   ],
   "source": [
    "'''\n",
    "참조\n",
    "generator = keras.models.Sequential([\n",
    "    keras.layers.Dense(7 * 7 * 128, input_shape=[codings_size]),\n",
    "    keras.layers.Reshape([7, 7, 128]),\n",
    "    keras.layers.Conv2DTranspose(64, kernel_size=5, strides=2, padding=\"SAME\",\n",
    "                                 activation=\"selu\"),\n",
    "    keras.layers.BatchNormalization(),\n",
    "    keras.layers.Conv2DTranspose(1, kernel_size=5, strides=2, padding=\"SAME\",\n",
    "                                 activation=\"tanh\"),\n",
    "])\n",
    "\n",
    "'''\n",
    "class ResidualBlock(keras.layers.Layer):\n",
    "    def __init__(filters=64, kernel_size=3,strides=1,padding,activation='PReLU'):\n",
    "        super().__init__(**kwargs)\n",
    "        self.hidden = [keras.layers.Conv2D(filters=filters, kerner_size=kernel_size, stride=stride, activation=\"PReLU\", 'kernel_initializer=\"he_normal\"'),\n",
    "                       keras.layers.BatchNormalization(act=tf.nn.relu,'??gama'),\n",
    "                       keras.layers.Conv2D(filters=filters, kerner_size=kernel_size, stride=stride, activation=\"PReLU\", 'kernel_initializer=\"he_normal\"'),\n",
    "                       keras.layers.BatchNormalization('??gama')\n",
    "                       ]\n",
    "\n",
    "    def call(self, inputs):\n",
    "        Z = inputs\n",
    "        for layer in self.hidden:\n",
    "            Z = layer(Z)\n",
    "        return inputs + Z\n",
    "        \n",
    "class GENERATOR(keras.models.Model):\n",
    "    def __init__(self, **kwargs):\n",
    "        super().__init__(**kwargs)\n",
    "        self.front1 = keras.layers.Conv2D(filters=64, kerner_size=9, stride=1, activation=\"PReLU\",\n",
    "                                          'kernel_initializer=\"he_normal\"')\n",
    "        self.block1 = ResidualBlock(?, ?)\n",
    "        \n",
    "        self.back1 = Keras.models.Sequential([\n",
    "        keras.layers.Conv2D(filters=64, kerner_size=3, stride=1, activation=\"PReLU\", 'kernel_initializer=\"he_normal\"'), \n",
    "        keras.layers.BatchNormalization(act=tf.nn.relu,'??gama')])\n",
    "        \n",
    "        self.back2 = keras.models.Sequential([keras.layers.Conv2D(filters=256, kerner_size=3, stride=1, activation=\"PReLU\", 'kernel_initializer=\"he_normal\"'), \n",
    "        SubpixelConv2d(scale=2, n_out_channels=None, act=tf.nn.relu)])\n",
    "        \n",
    "        self.back3 = keras.models.Sequential([keras.layers.Conv2D(filters=256, kerner_size=3, stride=1, activation=\"PReLU\", 'kernel_initializer=\"he_normal\"'), \n",
    "        SubpixelConv2d(scale=2, n_out_channels=None, act=tf.nn.relu)])\n",
    "        \n",
    "        self.back4 = keras.models.Sequential([keras.layers.Conv2D(filters=3, kerner_size=9, stride=1, activation=\"PReLU\", 'kernel_initializer=\"he_normal\"')\n",
    "\n",
    "    def call(self, inputs):\n",
    "        Z = self.front1(inputs)\n",
    "        Z1= self.front1(inputs)# calculate?  Z.copy?\n",
    "        for _ in range(0,5):\n",
    "            Z = self.block1(Z)\n",
    "        Z=self.back1(Z)\n",
    "        Z2=Z1+Z\n",
    "        Z2=self.back2(Z2)\n",
    "        Z2=self.back3(Z2)\n",
    "        Z2=self.back4(Z2)\n",
    "        return Z2#reshape?"
   ]
  },
  {
   "cell_type": "code",
   "execution_count": 7,
   "metadata": {},
   "outputs": [],
   "source": [
    "#DISCRIMINATOR"
   ]
  },
  {
   "cell_type": "code",
   "execution_count": 10,
   "metadata": {},
   "outputs": [
    {
     "ename": "SyntaxError",
     "evalue": "positional argument follows keyword argument (<ipython-input-10-5b4a76e5a74a>, line 2)",
     "output_type": "error",
     "traceback": [
      "\u001b[1;36m  File \u001b[1;32m\"<ipython-input-10-5b4a76e5a74a>\"\u001b[1;36m, line \u001b[1;32m2\u001b[0m\n\u001b[1;33m    keras.layers.Conv2D(filters=3, kerner_size=64, stride=1, activation=\"LeakyLeRU\", 'kernel_initializer=\"he_normal\"'),\u001b[0m\n\u001b[1;37m                                                                                    ^\u001b[0m\n\u001b[1;31mSyntaxError\u001b[0m\u001b[1;31m:\u001b[0m positional argument follows keyword argument\n"
     ]
    }
   ],
   "source": [
    "DISCRIMINATOR = Keras.models.Sequential([\n",
    "        keras.layers.Conv2D(filters=64, kerner_size=3, stride=1, activation=\"LeakyLeRU\", 'kernel_initializer=\"he_normal\"'),\n",
    "        keras.layers.Conv2D(filters=64, kerner_size=3, stride=2, activation=\"LeakyLeRU\", 'kernel_initializer=\"he_normal\"'),\n",
    "        keras.layers.BatchNormalization(act=tf.nn.relu,'??gama'),\n",
    "        keras.layers.Conv2D(filters=128, kerner_size=3, stride=1, activation=\"LeakyLeRU\", 'kernel_initializer=\"he_normal\"'),\n",
    "        keras.layers.BatchNormalization(act=tf.nn.relu,'??gama'),\n",
    "        keras.layers.Conv2D(filters=128, kerner_size=3, stride=2, activation=\"LeakyLeRU\", 'kernel_initializer=\"he_normal\"'),\n",
    "        keras.layers.BatchNormalization(act=tf.nn.relu,'??gama'),\n",
    "        keras.layers.Conv2D(filters=256, kerner_size=3, stride=1, activation=\"LeakyLeRU\", 'kernel_initializer=\"he_normal\"'),\n",
    "        keras.layers.BatchNormalization(act=tf.nn.relu,'??gama'),\n",
    "        keras.layers.Conv2D(filters=256, kerner_size=3, stride=2, activation=\"LeakyLeRU\", 'kernel_initializer=\"he_normal\"'),\n",
    "        keras.layers.BatchNormalization(act=tf.nn.relu,'??gama'),\n",
    "        keras.layers.Conv2D(filters=512, kerner_size=3, stride=1, activation=\"LeakyLeRU\", 'kernel_initializer=\"he_normal\"'),\n",
    "        keras.layers.BatchNormalization(act=tf.nn.relu,'??gama'),\n",
    "        keras.layers.Conv2D(filters=512, kerner_size=3, stride=2, activation=\"LeakyLeRU\", 'kernel_initializer=\"he_normal\"'),\n",
    "        keras.layers.BatchNormalization(act=tf.nn.relu,'??gama'),\n",
    "        keras.layers.Dense(1024,activation='LeakyLeRU', kernel_initializer=\"he_normal\"),\n",
    "        #keras.layers.LeakyReLU()??\n",
    "        keras.layers.Dense(1,activation=sigmoid, kernel_initializer=\"he_normal\")\n",
    "        ]) \n",
    "\n",
    "generator=GENERATOR()\n",
    "\n",
    "SRGAN = keras.models.Sequential([generator, DISCRIMINATOR])"
   ]
  },
  {
   "cell_type": "code",
   "execution_count": 11,
   "metadata": {},
   "outputs": [
    {
     "ename": "NameError",
     "evalue": "name 'discriminator' is not defined",
     "output_type": "error",
     "traceback": [
      "\u001b[1;31m---------------------------------------------------------------------------\u001b[0m",
      "\u001b[1;31mNameError\u001b[0m                                 Traceback (most recent call last)",
      "\u001b[1;32m<ipython-input-11-da5ee1b44f3a>\u001b[0m in \u001b[0;36m<module>\u001b[1;34m\u001b[0m\n\u001b[1;32m----> 1\u001b[1;33m \u001b[0mdiscriminator\u001b[0m\u001b[1;33m.\u001b[0m\u001b[0mcompile\u001b[0m\u001b[1;33m(\u001b[0m\u001b[0mloss\u001b[0m\u001b[1;33m=\u001b[0m\u001b[1;34m\"\"\u001b[0m\u001b[1;33m,\u001b[0m \u001b[0moptimizer\u001b[0m\u001b[1;33m=\u001b[0m\u001b[1;34m\"\"\u001b[0m\u001b[1;33m)\u001b[0m\u001b[1;33m\u001b[0m\u001b[1;33m\u001b[0m\u001b[0m\n\u001b[0m\u001b[0;32m      2\u001b[0m \u001b[0mdiscriminator\u001b[0m\u001b[1;33m.\u001b[0m\u001b[0mtrainable\u001b[0m \u001b[1;33m=\u001b[0m \u001b[1;32mFalse\u001b[0m\u001b[1;33m\u001b[0m\u001b[1;33m\u001b[0m\u001b[0m\n\u001b[0;32m      3\u001b[0m \u001b[0mgan\u001b[0m\u001b[1;33m.\u001b[0m\u001b[0mcompile\u001b[0m\u001b[1;33m(\u001b[0m\u001b[0mloss\u001b[0m\u001b[1;33m=\u001b[0m\u001b[1;34m\"\"\u001b[0m\u001b[1;33m,\u001b[0m \u001b[0moptimizer\u001b[0m\u001b[1;33m=\u001b[0m\u001b[1;34m\"\"\u001b[0m\u001b[1;33m)\u001b[0m\u001b[1;33m\u001b[0m\u001b[1;33m\u001b[0m\u001b[0m\n",
      "\u001b[1;31mNameError\u001b[0m: name 'discriminator' is not defined"
     ]
    }
   ],
   "source": [
    "discriminator.compile(loss=\"\", optimizer=\"\")\n",
    "discriminator.trainable = False\n",
    "gan.compile(loss=\"\", optimizer=\"\")"
   ]
  },
  {
   "cell_type": "code",
   "execution_count": null,
   "metadata": {},
   "outputs": [],
   "source": []
  }
 ],
 "metadata": {
  "kernelspec": {
   "display_name": "Python 3",
   "language": "python",
   "name": "python3"
  },
  "language_info": {
   "codemirror_mode": {
    "name": "ipython",
    "version": 3
   },
   "file_extension": ".py",
   "mimetype": "text/x-python",
   "name": "python",
   "nbconvert_exporter": "python",
   "pygments_lexer": "ipython3",
   "version": "3.7.6"
  }
 },
 "nbformat": 4,
 "nbformat_minor": 4
}
