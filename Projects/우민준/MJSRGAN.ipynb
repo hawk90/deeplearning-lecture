{
 "cells": [
  {
   "cell_type": "code",
   "execution_count": 2,
   "metadata": {},
   "outputs": [],
   "source": [
    "import tensorflow as tf\n"
   ]
  },
  {
   "cell_type": "code",
   "execution_count": 3,
   "metadata": {},
   "outputs": [],
   "source": [
    "#Generator"
   ]
  },
  {
   "cell_type": "code",
   "execution_count": null,
   "metadata": {},
   "outputs": [],
   "source": [
    "'''\n",
    "참조\n",
    "generator = keras.models.Sequential([\n",
    "    keras.layers.Dense(7 * 7 * 128, input_shape=[codings_size]),\n",
    "    keras.layers.Reshape([7, 7, 128]),\n",
    "    keras.layers.Conv2DTranspose(64, kernel_size=5, strides=2, padding=\"SAME\",\n",
    "                                 activation=\"selu\"),\n",
    "    keras.layers.BatchNormalization(),\n",
    "    keras.layers.Conv2DTranspose(1, kernel_size=5, strides=2, padding=\"SAME\",\n",
    "                                 activation=\"tanh\"),\n",
    "])\n",
    "\n",
    "'''\n",
    "class ResidualBlock(keras.layers.Layer):\n",
    "    def __init__(self, n_layers, n_neurons, **kwargs,filters,kernel_size,strides=1,padding=??,activation='PReLU'):\n",
    "        super().__init__(**kwargs)\n",
    "        self.hidden = [keras.layers.Conv2D(filters=filters, kerner_size=kernel_size, stride=1, activation=\"PReLU\",\n",
    "                                          'kernel_initializer=\"he_normal\"'),\n",
    "                       keras.layers.BatchNormalization(act=tf.nn.relu,'??gama'),\n",
    "                       keras.layers.Conv2D(filters=filters, kerner_size=kernel_size, stride=1, activation=\"PReLU\",\n",
    "                                          'kernel_initializer=\"he_normal\"''),\n",
    "                         keras.layers.BatchNormalization(act=tf.nn.relu,'??gama')\n",
    "                       ]\n",
    "\n",
    "    def call(self, inputs):\n",
    "        Z = inputs\n",
    "        for layer in self.hidden:\n",
    "            Z = layer(Z)\n",
    "        return inputs + Z\n",
    "        \n",
    "class GENERATOR(keras.models.Model):\n",
    "    def __init__(self, output_dim, **kwargs):\n",
    "        super().__init__(**kwargs)\n",
    "        self.hidden1 = keras.layers.Conv2D(filters=9, kerner_size=kernel_size, stride=1, activation=\"PReLU\",\n",
    "                                          'kernel_initializer=\"he_normal\"'\n",
    "        self.block1 = ResidualBlock(?, ?)\n",
    "        self.out = keras.layers.Dense(output_dim)\n",
    "\n",
    "    def call(self, inputs):\n",
    "        Z = self.hidden1(inputs)\n",
    "        for _ in range(0,5):\n",
    "            Z = self.block1(Z)\n",
    "        Z"
   ]
  }
 ],
 "metadata": {
  "kernelspec": {
   "display_name": "Python 3",
   "language": "python",
   "name": "python3"
  }
 },
 "nbformat": 4,
 "nbformat_minor": 4
}
