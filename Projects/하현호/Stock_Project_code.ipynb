{
 "cells": [
  {
   "cell_type": "code",
   "execution_count": 1,
   "metadata": {},
   "outputs": [],
   "source": [
    "import tensorflow as tf\n",
    "import numpy as np\n",
    "import matplotlib.pyplot as plt\n",
    "from selenium import webdriver"
   ]
  },
  {
   "cell_type": "code",
   "execution_count": 2,
   "metadata": {},
   "outputs": [],
   "source": [
    "chrome = webdriver.Chrome('../chromedriver')      # 크롬 드라이버 로드\n",
    "#chrome.get(\"https://finance.naver.com/sise/\")\n",
    "chrome.get(\"https://finance.naver.com/item/main.nhn?code=005930#\") # 삼성전자"
   ]
  },
  {
   "cell_type": "code",
   "execution_count": 3,
   "metadata": {},
   "outputs": [],
   "source": [
    "market_sum = chrome.find_element_by_class_name(\"wrap_company\")\n",
    "#stock_name = market_sum.find_element_by_class_name\n",
    "#market = chrome.find_element_by_class_name(\"strong\")\n",
    "#chrome.find\n",
    "market_sum\n",
    "company_name = market_sum.text.split(\"\\n\")[0]"
   ]
  },
  {
   "cell_type": "code",
   "execution_count": 4,
   "metadata": {},
   "outputs": [
    {
     "name": "stdout",
     "output_type": "stream",
     "text": [
      "동화약품000020\n",
      "KR모터스000040\n",
      "경방000050\n",
      "메리츠화재000060\n",
      "삼양홀딩스000070\n",
      "삼양홀딩스우000075\n",
      "하이트진로000080\n",
      "하이트진로2우B000087\n"
     ]
    }
   ],
   "source": [
    "for i in range(0,100):\n",
    "    j = '{:06d}'.format(i)\n",
    "    chrome.get(\"https://finance.naver.com/item/main.nhn?code=\"+j+\"#\")\n",
    "    try:\n",
    "        market = chrome.find_element_by_class_name(\"wrap_company\")\n",
    "        company_name = market.text.split(\"\\n\")[0]\n",
    "        company_number = market.text.split(\"\\n\")[1]\n",
    "        print(company_name + company_number)\n",
    "    except:\n",
    "        pass"
   ]
  },
  {
   "cell_type": "code",
   "execution_count": 5,
   "metadata": {},
   "outputs": [],
   "source": [
    "# j = '{:06d}'.format(20)\n",
    "# print(j)\n",
    "# chrome.get(\"https://finance.naver.com/item/main.nhn?code=\"+j+\"#\")\n",
    "# #try:\n",
    "# market = chrome.find_element_by_class_name(\"wrap_company\")\n",
    "# company_name = market.text.split(\"\\n\")[0]\n",
    "# print(company_name)\n",
    "# #except:\n",
    "# #    pass\n",
    "# print(company_name)"
   ]
  },
  {
   "cell_type": "code",
   "execution_count": 6,
   "metadata": {},
   "outputs": [],
   "source": [
    "# chrome.get(\"https://finance.naver.com/item/main.nhn?code=005930#\")\n",
    "# try:\n",
    "#     err = chrome.find_element_by_class_name(\"error_desc\")\n",
    "# except:\n",
    "#     pass\n",
    "    \n",
    "# print(err.text)\n",
    "\n",
    "# chrome.get(\"https://finance.naver.com/item/main.nhn?code=000000#\")\n",
    "# try:\n",
    "#     err = chrome.find_element_by_class_name(\"error_desc\")\n",
    "# except:\n",
    "#     pass\n",
    "# print(err.text)\n",
    "\n",
    "# if(err):\n",
    "#     print(\"err\")\n",
    "# else:\n",
    "#     print(\"good\")"
   ]
  },
  {
   "cell_type": "code",
   "execution_count": 7,
   "metadata": {},
   "outputs": [
    {
     "name": "stdout",
     "output_type": "stream",
     "text": [
      "삼성전자\n",
      "005930\n"
     ]
    }
   ],
   "source": [
    "chrome.get(\"https://finance.naver.com/item/main.nhn?code=005930#\")\n",
    "\n",
    "market = chrome.find_element_by_class_name(\"wrap_company\")\n",
    "company_name = market.text.split(\"\\n\")[0]\n",
    "print(company_name)\n",
    "company_number = market.text.split(\"\\n\")[1]\n",
    "print(company_number)"
   ]
  },
  {
   "cell_type": "code",
   "execution_count": 8,
   "metadata": {},
   "outputs": [],
   "source": [
    "tab_right = chrome.find_element_by_id(\"tab_con1\")\n",
    "market_sum = tab_right.find_element_by_id(\"_market_sum\")\n",
    "market_sum.text\n",
    "market_sum_number = market_sum.text.replace(\"조 \",\"\").replace(\",\",\"\")\n",
    "# print(market_sum_number)\n",
    "# a = \"100조 3000\"\n",
    "# b = \"203350,303,203\"\n",
    "# c = a.replace(\"조 \",\"\").replace(\",\",\"\")\n",
    "# d = b.replace(\"조 \",\"\").replace(\",\",\"\")\n",
    "# print(c+\"\\n\"+d)"
   ]
  },
  {
   "cell_type": "code",
   "execution_count": 18,
   "metadata": {},
   "outputs": [
    {
     "data": {
      "text/plain": [
       "'주요재무정보 최근 연간 실적 최근 분기 실적\\n2017.12 2018.12 2019.12 2020.12(E) 2019.09 2019.12 2020.03 2020.06 2020.09 2020.12(E)\\nIFRS연결\\nIFRS연결\\nIFRS연결\\nIFRS연결\\nIFRS연결\\nIFRS연결\\nIFRS연결\\nIFRS연결\\nIFRS연결\\nIFRS연결\\n매출액 2,395,754 2,437,714 2,304,009 2,384,040 620,035 598,848 553,252 529,661 669,642 631,513\\n영업이익 536,450 588,867 277,685 371,055 77,779 71,603 64,473 81,463 123,532 101,611\\n당기순이익 421,867 443,449 217,389 278,835 62,877 52,270 48,849 55,551 93,607 79,444\\n영업이익률 22.39 24.16 12.05 15.56 12.54 11.96 11.65 15.38 18.45 16.09\\n순이익률 17.61 18.19 9.44 11.70 10.14 8.73 8.83 10.49 13.98 12.58\\nROE(지배주주) 21.01 19.63 8.69 10.44 10.05 8.69 8.45 8.49 9.51  \\n부채비율 40.68 36.97 34.12   34.14 34.12 34.19 32.67 36.09  \\n당좌비율 181.61 204.12 233.57   235.80 233.57 237.80 250.04 229.69  \\n유보율 24,536.12 27,531.92 28,856.02   28,541.64 28,856.02 29,134.12 29,477.97 30,242.29  \\nEPS(원) 5,421 6,024 3,166 4,069 899 770 720 808 1,364 1,101\\nPER(배) 9.40 6.42 17.63 16.39 13.73 17.63 15.24 16.52 15.89 60.61\\nBPS(원) 30,427 35,342 37,528 40,401 37,600 37,528 38,053 38,534 39,446 40,401\\nPBR(배) 1.67 1.09 1.49 1.65 1.30 1.49 1.25 1.37 1.48 1.65\\n주당배당금(원) 850 1,416 1,416 1,561\\n시가배당률(%) 1.67 3.66 2.54\\n배당성향(%) 14.09 21.92 44.73\\n분기 실적은 해당 분기까지의 누적 실적에서 직전 분기까지의 누적 실적을 차감하는 방식으로 계산되므로,\\n기업에서 공시한 분기 실적과 차이가 있을 수 있습니다.\\n컨센서스(E) : 최근 3개월간 증권사에서 발표한 전망치의 평균값입니다.\\n더보기'"
      ]
     },
     "execution_count": 18,
     "metadata": {},
     "output_type": "execute_result"
    }
   ],
   "source": [
    "finance = chrome.find_element_by_class_name(\"cop_analysis\")\n",
    "finance.text"
   ]
  },
  {
   "cell_type": "code",
   "execution_count": 31,
   "metadata": {},
   "outputs": [
    {
     "data": {
      "text/plain": [
       "['주요재무정보 최근 연간 실적 최근 분기 실적',\n",
       " '2017.12 2018.12 2019.12 2020.12(E) 2019.09 2019.12 2020.03 2020.06 2020.09 2020.12(E)',\n",
       " 'IFRS연결',\n",
       " 'IFRS연결',\n",
       " 'IFRS연결',\n",
       " 'IFRS연결',\n",
       " 'IFRS연결',\n",
       " 'IFRS연결',\n",
       " 'IFRS연결',\n",
       " 'IFRS연결',\n",
       " 'IFRS연결',\n",
       " 'IFRS연결',\n",
       " '매출액 2,395,754 2,437,714 2,304,009 2,384,040 620,035 598,848 553,252 529,661 669,642 631,513',\n",
       " '영업이익 536,450 588,867 277,685 371,055 77,779 71,603 64,473 81,463 123,532 101,611',\n",
       " '당기순이익 421,867 443,449 217,389 278,835 62,877 52,270 48,849 55,551 93,607 79,444',\n",
       " '영업이익률 22.39 24.16 12.05 15.56 12.54 11.96 11.65 15.38 18.45 16.09',\n",
       " '순이익률 17.61 18.19 9.44 11.70 10.14 8.73 8.83 10.49 13.98 12.58',\n",
       " 'ROE(지배주주) 21.01 19.63 8.69 10.44 10.05 8.69 8.45 8.49 9.51  ',\n",
       " '부채비율 40.68 36.97 34.12   34.14 34.12 34.19 32.67 36.09  ',\n",
       " '당좌비율 181.61 204.12 233.57   235.80 233.57 237.80 250.04 229.69  ',\n",
       " '유보율 24,536.12 27,531.92 28,856.02   28,541.64 28,856.02 29,134.12 29,477.97 30,242.29  ',\n",
       " 'EPS(원) 5,421 6,024 3,166 4,069 899 770 720 808 1,364 1,101',\n",
       " 'PER(배) 9.40 6.42 17.63 16.39 13.73 17.63 15.24 16.52 15.89 60.61',\n",
       " 'BPS(원) 30,427 35,342 37,528 40,401 37,600 37,528 38,053 38,534 39,446 40,401',\n",
       " 'PBR(배) 1.67 1.09 1.49 1.65 1.30 1.49 1.25 1.37 1.48 1.65',\n",
       " '주당배당금(원) 850 1,416 1,416 1,561',\n",
       " '시가배당률(%) 1.67 3.66 2.54',\n",
       " '배당성향(%) 14.09 21.92 44.73']"
      ]
     },
     "execution_count": 31,
     "metadata": {},
     "output_type": "execute_result"
    }
   ],
   "source": [
    "finance2 = finance.find_element_by_class_name(\"sub_section\")\n",
    "finance2.text\n",
    "outcome = finance2.text.split(\"\\n\")\n",
    "outcome"
   ]
  },
  {
   "cell_type": "code",
   "execution_count": 43,
   "metadata": {},
   "outputs": [
    {
     "data": {
      "text/plain": [
       "'매출액 2,395,754 2,437,714 2,304,009 2,384,040 620,035 598,848 553,252 529,661 669,642 631,513'"
      ]
     },
     "execution_count": 43,
     "metadata": {},
     "output_type": "execute_result"
    }
   ],
   "source": [
    "매출액 = outcome[12]"
   ]
  },
  {
   "cell_type": "code",
   "execution_count": 85,
   "metadata": {},
   "outputs": [
    {
     "name": "stdout",
     "output_type": "stream",
     "text": [
      "['2,395,754 2,437,714 2,304,009 2,384,040 620,035 598,848 553,252 529,661 669,642 631,513']\n",
      "['850 1,416 1,416 1,561']\n",
      "['1.67 1.09 1.49 1.65 1.30 1.49 1.25 1.37 1.48 1.65']\n"
     ]
    }
   ],
   "source": [
    "import re\n",
    "a = re.compile('[0-9]+,*.*[0-9]*,*[0-9]*')\n",
    "out = a.findall(매출액)\n",
    "out2 = a.findall(outcome[25])\n",
    "out3 = a.findall(outcome[24])\n",
    "print(out)\n",
    "print(out2)\n",
    "print(out3)"
   ]
  },
  {
   "cell_type": "code",
   "execution_count": null,
   "metadata": {},
   "outputs": [],
   "source": [
    "for i in range(12,28):\n",
    "    b = re.compile('[0-9]*,[0-9]*,?[0-9]*')"
   ]
  },
  {
   "cell_type": "code",
   "execution_count": 97,
   "metadata": {},
   "outputs": [
    {
     "data": {
      "text/plain": [
       "['2,395,754',\n",
       " '2,437,714',\n",
       " '2,304,009',\n",
       " '2,384,040',\n",
       " '620,035',\n",
       " '598,848',\n",
       " '553,252',\n",
       " '529,661',\n",
       " '669,642',\n",
       " '631,513']"
      ]
     },
     "execution_count": 97,
     "metadata": {},
     "output_type": "execute_result"
    }
   ],
   "source": [
    "out_array = out[0].split(\" \")\n",
    "out_array"
   ]
  },
  {
   "cell_type": "code",
   "execution_count": null,
   "metadata": {},
   "outputs": [],
   "source": []
  },
  {
   "cell_type": "code",
   "execution_count": null,
   "metadata": {},
   "outputs": [],
   "source": []
  }
 ],
 "metadata": {
  "kernelspec": {
   "display_name": "Python 3",
   "language": "python",
   "name": "python3"
  },
  "language_info": {
   "codemirror_mode": {
    "name": "ipython",
    "version": 3
   },
   "file_extension": ".py",
   "mimetype": "text/x-python",
   "name": "python",
   "nbconvert_exporter": "python",
   "pygments_lexer": "ipython3",
   "version": "3.8.3"
  }
 },
 "nbformat": 4,
 "nbformat_minor": 4
}
