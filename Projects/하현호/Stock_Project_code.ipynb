{
 "cells": [
  {
   "cell_type": "code",
   "execution_count": 19,
   "metadata": {},
   "outputs": [],
   "source": [
    "import tensorflow as tf\n",
    "import numpy as np\n",
    "import matplotlib.pyplot as plt\n",
    "from selenium import webdriver"
   ]
  },
  {
   "cell_type": "code",
   "execution_count": 20,
   "metadata": {},
   "outputs": [],
   "source": [
    "chrome = webdriver.Chrome('../chromedriver')      # 크롬 드라이버 로드\n",
    "#chrome.get(\"https://finance.naver.com/sise/\")\n",
    "chrome.get(\"https://finance.naver.com/item/main.nhn?code=005930#\") # 삼성전자"
   ]
  },
  {
   "cell_type": "code",
   "execution_count": 33,
   "metadata": {},
   "outputs": [],
   "source": [
    "market_sum = chrome.find_element_by_class_name(\"wrap_company\")\n",
    "#stock_name = market_sum.find_element_by_class_name\n",
    "#market = chrome.find_element_by_class_name(\"strong\")\n",
    "#chrome.find\n",
    "market_sum\n",
    "company_name = market_sum.text.split(\"\\n\")[0]"
   ]
  },
  {
   "cell_type": "code",
   "execution_count": 88,
   "metadata": {},
   "outputs": [
    {
     "name": "stdout",
     "output_type": "stream",
     "text": [
      "동화약품000020\n",
      "KR모터스000040\n",
      "경방000050\n",
      "메리츠화재000060\n",
      "삼양홀딩스000070\n",
      "삼양홀딩스우000075\n",
      "하이트진로000080\n",
      "하이트진로2우B000087\n"
     ]
    }
   ],
   "source": [
    "for i in range(0,100):\n",
    "    j = '{:06d}'.format(i)\n",
    "    chrome.get(\"https://finance.naver.com/item/main.nhn?code=\"+j+\"#\")\n",
    "    try:\n",
    "        market = chrome.find_element_by_class_name(\"wrap_company\")\n",
    "        company_name = market.text.split(\"\\n\")[0]\n",
    "        company_number = market.text.split(\"\\n\")[1]\n",
    "        print(company_name + company_number)\n",
    "    except:\n",
    "        pass"
   ]
  },
  {
   "cell_type": "code",
   "execution_count": 82,
   "metadata": {},
   "outputs": [],
   "source": [
    "# j = '{:06d}'.format(20)\n",
    "# print(j)\n",
    "# chrome.get(\"https://finance.naver.com/item/main.nhn?code=\"+j+\"#\")\n",
    "# #try:\n",
    "# market = chrome.find_element_by_class_name(\"wrap_company\")\n",
    "# company_name = market.text.split(\"\\n\")[0]\n",
    "# print(company_name)\n",
    "# #except:\n",
    "# #    pass\n",
    "# print(company_name)"
   ]
  },
  {
   "cell_type": "code",
   "execution_count": 83,
   "metadata": {},
   "outputs": [],
   "source": [
    "# chrome.get(\"https://finance.naver.com/item/main.nhn?code=005930#\")\n",
    "# try:\n",
    "#     err = chrome.find_element_by_class_name(\"error_desc\")\n",
    "# except:\n",
    "#     pass\n",
    "    \n",
    "# print(err.text)\n",
    "\n",
    "# chrome.get(\"https://finance.naver.com/item/main.nhn?code=000000#\")\n",
    "# try:\n",
    "#     err = chrome.find_element_by_class_name(\"error_desc\")\n",
    "# except:\n",
    "#     pass\n",
    "# print(err.text)\n",
    "\n",
    "# if(err):\n",
    "#     print(\"err\")\n",
    "# else:\n",
    "#     print(\"good\")"
   ]
  },
  {
   "cell_type": "code",
   "execution_count": 89,
   "metadata": {},
   "outputs": [
    {
     "name": "stdout",
     "output_type": "stream",
     "text": [
      "삼성전자\n",
      "005930\n"
     ]
    }
   ],
   "source": [
    "chrome.get(\"https://finance.naver.com/item/main.nhn?code=005930#\")\n",
    "\n",
    "market = chrome.find_element_by_class_name(\"wrap_company\")\n",
    "company_name = market.text.split(\"\\n\")[0]\n",
    "print(company_name)\n",
    "company_number = market.text.split(\"\\n\")[1]\n",
    "print(company_number)"
   ]
  },
  {
   "cell_type": "code",
   "execution_count": 96,
   "metadata": {},
   "outputs": [
    {
     "name": "stdout",
     "output_type": "stream",
     "text": [
      "4047513\n",
      "1003000\n",
      "203350303203\n"
     ]
    }
   ],
   "source": [
    "tab_right = chrome.find_element_by_id(\"tab_con1\")\n",
    "market_sum = tab_right.find_element_by_id(\"_market_sum\")\n",
    "market_sum.text\n",
    "market_sum_number = market_sum.text.replace(\"조 \",\"\").replace(\",\",\"\")\n",
    "# print(market_sum_number)\n",
    "# a = \"100조 3000\"\n",
    "# b = \"203350,303,203\"\n",
    "# c = a.replace(\"조 \",\"\").replace(\",\",\"\")\n",
    "# d = b.replace(\"조 \",\"\").replace(\",\",\"\")\n",
    "# print(c+\"\\n\"+d)"
   ]
  },
  {
   "cell_type": "code",
   "execution_count": null,
   "metadata": {},
   "outputs": [],
   "source": []
  },
  {
   "cell_type": "code",
   "execution_count": null,
   "metadata": {},
   "outputs": [],
   "source": []
  },
  {
   "cell_type": "code",
   "execution_count": null,
   "metadata": {},
   "outputs": [],
   "source": []
  },
  {
   "cell_type": "code",
   "execution_count": null,
   "metadata": {},
   "outputs": [],
   "source": []
  },
  {
   "cell_type": "code",
   "execution_count": null,
   "metadata": {},
   "outputs": [],
   "source": []
  },
  {
   "cell_type": "code",
   "execution_count": null,
   "metadata": {},
   "outputs": [],
   "source": []
  }
 ],
 "metadata": {
  "kernelspec": {
   "display_name": "Python 3",
   "language": "python",
   "name": "python3"
  },
  "language_info": {
   "codemirror_mode": {
    "name": "ipython",
    "version": 3
   },
   "file_extension": ".py",
   "mimetype": "text/x-python",
   "name": "python",
   "nbconvert_exporter": "python",
   "pygments_lexer": "ipython3",
   "version": "3.8.3"
  }
 },
 "nbformat": 4,
 "nbformat_minor": 4
}
