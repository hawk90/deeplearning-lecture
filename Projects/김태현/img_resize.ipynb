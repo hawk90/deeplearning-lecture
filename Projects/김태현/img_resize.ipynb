{
 "cells": [
  {
   "cell_type": "code",
   "execution_count": 4,
   "metadata": {},
   "outputs": [
    {
     "data": {
      "image/png": "[encoded data removed]",
      "text/plain": [
       "<Figure size 432x288 with 1 Axes>"
      ]
     },
     "metadata": {
      "needs_background": "light"
     },
     "output_type": "display_data"
    }
   ],
   "source": [
    "import matplotlib.image as img\n",
    "import matplotlib.pyplot as plt\n",
    "\n",
    "fileName = \"./syllable/00000000.png\"\n",
    "\n",
    "text = img.imread(fileName)\n",
    "plt.imshow(text)\n",
    "plt.show()"
   ]
  },
  {
   "cell_type": "code",
   "execution_count": 5,
   "metadata": {},
   "outputs": [
    {
     "name": "stderr",
     "output_type": "stream",
     "text": [
      "진행률: 100%|████████████████████████████████████████████████████████████████| 878100/878100 [00:00<00:00, 1312494.95it/s]\n"
     ]
    },
    {
     "name": "stdout",
     "output_type": "stream",
     "text": [
      "widht 평균:  81.5\n",
      "widht 최소:  45\n",
      "widht 최대:  118\n",
      "height 평균:  117.32075471698113\n",
      "height 최소:  90\n",
      "height 최대:  212\n"
     ]
    }
   ],
   "source": [
    "# 이미지 너비 & 높이 최소값 구하기\n",
    "\n",
    "import json\n",
    "from pathlib import Path\n",
    "import shutil\n",
    "from shutil import copytree, Error\n",
    "from tqdm import tqdm\n",
    "\n",
    "try:\n",
    "    with open('printed_data_info.json', 'rt', encoding='UTF8') as json_file:\n",
    "        try:\n",
    "            json_data = json.load(json_file)\n",
    "\n",
    "        except ValueError as ev:\n",
    "            print(\"ValueError: {0}\".format(ev))\n",
    "        \n",
    "        # id값과 file_name 매칭 시키기\n",
    "        dict_file = {} # img id와 img 파일 네임을 매칭 시킬 딕셔너리\n",
    "        img_id = [] # img id list\n",
    "        text_type = [] # img file name list\n",
    "        \n",
    "        for i in range(0, len(json_data[\"annotations\"])):\n",
    "            img_id.append(json_data[\"annotations\"][i][\"image_id\"])\n",
    "            text_type.append(json_data[\"annotations\"][i][\"attributes\"][\"type\"])\n",
    "            \n",
    "        dict_type = dict(zip(img_id, text_type)) # id와 file_name을 dictionary로 만들기\n",
    "        \n",
    "        \n",
    "        # img 분류하기\n",
    "        img_w_list = []\n",
    "        img_h_list = []\n",
    "        \n",
    "        for i in tqdm(range(0, len(json_data[\"images\"])), desc=\"진행률\"):\n",
    "            if(dict_type.get(json_data[\"images\"][i][\"id\"]) == \"글자(음절)\"):\n",
    "                #width 리스트\n",
    "                img_w = json_data[\"images\"][i][\"width\"]\n",
    "                img_w_list.append(img_w)\n",
    "                #height 리스트\n",
    "                img_h = json_data[\"images\"][i][\"height\"]\n",
    "                img_h_list.append(img_h)\n",
    "            \n",
    "        width_set = set(img_w_list) #집합set으로 변환\n",
    "        height_set = set(img_h_list)\n",
    "        new_widht_list = list(width_set) #list로 변환\n",
    "        new_heith_list = list(height_set)\n",
    "        \n",
    "        print(\"widht 평균: \", sum(new_widht_list) / len(new_widht_list))\n",
    "        print(\"widht 최소: \", min(new_widht_list))\n",
    "        print(\"widht 최대: \", max(new_widht_list))\n",
    "        print(\"height 평균: \", sum(new_heith_list) / len(new_heith_list))\n",
    "        print(\"height 최소: \", min(new_heith_list))\n",
    "        print(\"height 최대: \", max(new_heith_list))\n",
    "        \n",
    "except OSError as err:\n",
    "    print(\"OS error: {0}\".format(err))"
   ]
  },
  {
   "cell_type": "code",
   "execution_count": null,
   "metadata": {},
   "outputs": [],
   "source": []
  }
 ],
 "metadata": {
  "kernelspec": {
   "display_name": "Python 3",
   "language": "python",
   "name": "python3"
  },
  "language_info": {
   "codemirror_mode": {
    "name": "ipython",
    "version": 3
   },
   "file_extension": ".py",
   "mimetype": "text/x-python",
   "name": "python",
   "nbconvert_exporter": "python",
   "pygments_lexer": "ipython3",
   "version": "3.7.3"
  }
 },
 "nbformat": 4,
 "nbformat_minor": 2
}
