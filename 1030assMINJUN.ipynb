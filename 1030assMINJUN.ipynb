{
 "cells": [
  {
   "cell_type": "code",
   "execution_count": 8,
   "metadata": {},
   "outputs": [],
   "source": [
    "f=open(\"C:\\workspace/NEWT.txt\",'w')\n",
    "for i in range(0,3) :\n",
    "    data = \"%d번째 줄입니다.\\n\" %i\n",
    "    f.write(data)\n",
    "f.close()"
   ]
  },
  {
   "cell_type": "code",
   "execution_count": 11,
   "metadata": {},
   "outputs": [
    {
     "name": "stdout",
     "output_type": "stream",
     "text": [
      "[Errno 2] No such file or directory: '0000'\n"
     ]
    },
    {
     "ename": "NameError",
     "evalue": "name 'fp' is not defined",
     "output_type": "error",
     "traceback": [
      "\u001b[1;31m---------------------------------------------------------------------------\u001b[0m",
      "\u001b[1;31mNameError\u001b[0m                                 Traceback (most recent call last)",
      "\u001b[1;32m<ipython-input-11-c94e3cc1092a>\u001b[0m in \u001b[0;36m<module>\u001b[1;34m\u001b[0m\n\u001b[0;32m      5\u001b[0m     \u001b[0mprint\u001b[0m\u001b[1;33m(\u001b[0m\u001b[0me\u001b[0m\u001b[1;33m)\u001b[0m\u001b[1;33m\u001b[0m\u001b[1;33m\u001b[0m\u001b[0m\n\u001b[0;32m      6\u001b[0m \u001b[1;32mfinally\u001b[0m \u001b[1;33m:\u001b[0m\u001b[1;33m\u001b[0m\u001b[1;33m\u001b[0m\u001b[0m\n\u001b[1;32m----> 7\u001b[1;33m     \u001b[0mfp\u001b[0m\u001b[1;33m.\u001b[0m\u001b[0mclose\u001b[0m\u001b[1;33m(\u001b[0m\u001b[1;33m)\u001b[0m\u001b[1;33m\u001b[0m\u001b[1;33m\u001b[0m\u001b[0m\n\u001b[0m",
      "\u001b[1;31mNameError\u001b[0m: name 'fp' is not defined"
     ]
    }
   ],
   "source": [
    "\n",
    "try :\n",
    "    fp = open('0000', 'r')\n",
    "    \n",
    "except FileNotFoundError as e :\n",
    "    print(e)\n",
    "finally : \n",
    "    fp.close()"
   ]
  },
  {
   "cell_type": "code",
   "execution_count": 20,
   "metadata": {},
   "outputs": [
    {
     "name": "stdout",
     "output_type": "stream",
     "text": [
      "Convex,Deep Learning\n",
      "Boyd,Ian\n"
     ]
    }
   ],
   "source": [
    "class Book :\n",
    "    title1=''\n",
    "    author1=''\n",
    "    \n",
    "    def __init__(Self,title, author) :\n",
    "        Self.title1 = title\n",
    "        Self.author1 = author\n",
    "    def getTitle(Self) :\n",
    "        C=Self.title1\n",
    "        print(C[0]+','+C[1])\n",
    "    def getAuthor(Self) :\n",
    "        D=Self.author1\n",
    "        print(D[0]+','+D[1])\n",
    "\n",
    "    \n",
    "AA=Book(['Convex', 'Deep Learning'],['Boyd', 'Ian'])\n",
    "AA.getTitle()\n",
    "AA.getAuthor()"
   ]
  },
  {
   "cell_type": "code",
   "execution_count": 22,
   "metadata": {},
   "outputs": [
    {
     "name": "stdout",
     "output_type": "stream",
     "text": [
      "Convex,Deep Learning\n",
      "Boyd,Ian\n"
     ]
    }
   ],
   "source": [
    "class Book1 :\n",
    "    title1=''\n",
    "    author1=''\n",
    "    \n",
    "    def __init__(Self) :\n",
    "        Self.title1 = ['Convex', 'Deep Learning']\n",
    "        Self.author1 = ['Boyd', 'Ian']\n",
    "    def getTitle(Self) :\n",
    "        C=Self.title1\n",
    "        print(C[0]+','+C[1])\n",
    "    def getAuthor(Self) :\n",
    "        D=Self.author1\n",
    "        print(D[0]+','+D[1])\n",
    "\n",
    "    \n",
    "AA=Book1()\n",
    "AA.getTitle()\n",
    "AA.getAuthor()"
   ]
  },
  {
   "cell_type": "code",
   "execution_count": null,
   "metadata": {},
   "outputs": [],
   "source": []
  }
 ],
 "metadata": {
  "kernelspec": {
   "display_name": "Python 3",
   "language": "python",
   "name": "python3"
  },
  "language_info": {
   "codemirror_mode": {
    "name": "ipython",
    "version": 3
   },
   "file_extension": ".py",
   "mimetype": "text/x-python",
   "name": "python",
   "nbconvert_exporter": "python",
   "pygments_lexer": "ipython3",
   "version": "3.7.6"
  }
 },
 "nbformat": 4,
 "nbformat_minor": 4
}
