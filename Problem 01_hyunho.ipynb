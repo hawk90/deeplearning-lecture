{
 "cells": [
  {
   "cell_type": "code",
   "execution_count": 3,
   "metadata": {},
   "outputs": [],
   "source": [
    "import tensorflow as tf\n",
    "import pandas as pd\n",
    "import matplotlib.pyplot as plt\n",
    "import numpy as np"
   ]
  },
  {
   "cell_type": "code",
   "execution_count": 10,
   "metadata": {},
   "outputs": [],
   "source": [
    "problem_df = pd.read_csv('Friday-WorkingHours-Morning.csv', sep=',')"
   ]
  },
  {
   "cell_type": "code",
   "execution_count": 13,
   "metadata": {},
   "outputs": [
    {
     "data": {
      "text/plain": [
       "(191033, 85)"
      ]
     },
     "execution_count": 13,
     "metadata": {},
     "output_type": "execute_result"
    }
   ],
   "source": [
    "problem_df.shape"
   ]
  },
  {
   "cell_type": "code",
   "execution_count": 14,
   "metadata": {},
   "outputs": [
    {
     "data": {
      "text/plain": [
       "(10000, 85)"
      ]
     },
     "execution_count": 14,
     "metadata": {},
     "output_type": "execute_result"
    }
   ],
   "source": [
    "problem_df = Problem_df.head(10000)\n",
    "problem_df.shape"
   ]
  },
  {
   "cell_type": "code",
   "execution_count": 60,
   "metadata": {},
   "outputs": [
    {
     "data": {
      "text/plain": [
       "Index(['Flow ID', ' Source IP', ' Source Port', ' Destination IP',\n",
       "       ' Destination Port', ' Protocol', ' Timestamp', ' Flow Duration',\n",
       "       ' Total Fwd Packets', ' Total Backward Packets',\n",
       "       'Total Length of Fwd Packets', ' Total Length of Bwd Packets',\n",
       "       ' Fwd Packet Length Max', ' Fwd Packet Length Min',\n",
       "       ' Fwd Packet Length Mean', ' Fwd Packet Length Std',\n",
       "       'Bwd Packet Length Max', ' Bwd Packet Length Min',\n",
       "       ' Bwd Packet Length Mean', ' Bwd Packet Length Std', 'Flow Bytes/s',\n",
       "       ' Flow Packets/s', ' Flow IAT Mean', ' Flow IAT Std', ' Flow IAT Max',\n",
       "       ' Flow IAT Min', 'Fwd IAT Total', ' Fwd IAT Mean', ' Fwd IAT Std',\n",
       "       ' Fwd IAT Max', ' Fwd IAT Min', 'Bwd IAT Total', ' Bwd IAT Mean',\n",
       "       ' Bwd IAT Std', ' Bwd IAT Max', ' Bwd IAT Min', 'Fwd PSH Flags',\n",
       "       ' Bwd PSH Flags', ' Fwd URG Flags', ' Bwd URG Flags',\n",
       "       ' Fwd Header Length', ' Bwd Header Length', 'Fwd Packets/s',\n",
       "       ' Bwd Packets/s', ' Min Packet Length', ' Max Packet Length',\n",
       "       ' Packet Length Mean', ' Packet Length Std', ' Packet Length Variance',\n",
       "       'FIN Flag Count', ' SYN Flag Count', ' RST Flag Count',\n",
       "       ' PSH Flag Count', ' ACK Flag Count', ' URG Flag Count',\n",
       "       ' CWE Flag Count', ' ECE Flag Count', ' Down/Up Ratio',\n",
       "       ' Average Packet Size', ' Avg Fwd Segment Size',\n",
       "       ' Avg Bwd Segment Size', ' Fwd Header Length.1', 'Fwd Avg Bytes/Bulk',\n",
       "       ' Fwd Avg Packets/Bulk', ' Fwd Avg Bulk Rate', ' Bwd Avg Bytes/Bulk',\n",
       "       ' Bwd Avg Packets/Bulk', 'Bwd Avg Bulk Rate', 'Subflow Fwd Packets',\n",
       "       ' Subflow Fwd Bytes', ' Subflow Bwd Packets', ' Subflow Bwd Bytes',\n",
       "       'Init_Win_bytes_forward', ' Init_Win_bytes_backward',\n",
       "       ' act_data_pkt_fwd', ' min_seg_size_forward', 'Active Mean',\n",
       "       ' Active Std', ' Active Max', ' Active Min', 'Idle Mean', ' Idle Std',\n",
       "       ' Idle Max', ' Idle Min', ' Label'],\n",
       "      dtype='object')"
      ]
     },
     "execution_count": 60,
     "metadata": {},
     "output_type": "execute_result"
    }
   ],
   "source": [
    "problem_df.dtypes\n",
    "problem_df.columns"
   ]
  },
  {
   "cell_type": "code",
   "execution_count": 61,
   "metadata": {},
   "outputs": [
    {
     "name": "stderr",
     "output_type": "stream",
     "text": [
      "<ipython-input-61-d7949d9ccff7>:8: SettingWithCopyWarning: \n",
      "A value is trying to be set on a copy of a slice from a DataFrame\n",
      "\n",
      "See the caveats in the documentation: https://pandas.pydata.org/pandas-docs/stable/user_guide/indexing.html#returning-a-view-versus-a-copy\n",
      "  problem_df[' Destination IP'][i] = socket.inet_aton(problem_df[' Destination IP'][i])\n",
      "/opt/conda/lib/python3.8/site-packages/IPython/core/interactiveshell.py:3417: SettingWithCopyWarning: \n",
      "A value is trying to be set on a copy of a slice from a DataFrame\n",
      "\n",
      "See the caveats in the documentation: https://pandas.pydata.org/pandas-docs/stable/user_guide/indexing.html#returning-a-view-versus-a-copy\n",
      "  exec(code_obj, self.user_global_ns, self.user_ns)\n"
     ]
    }
   ],
   "source": [
    "problem_df.head(10)\n",
    "import socket\n",
    "import struct\n",
    "\n",
    "problem_df.columns\n",
    "for i in range(0,10000):\n",
    "    #problem_df[' Source IP'][i] = socket.inet_aton(problem_df[' Source IP'][i])\n",
    "    problem_df[' Destination IP'][i] = socket.inet_aton(problem_df[' Destination IP'][i])"
   ]
  },
  {
   "cell_type": "code",
   "execution_count": 62,
   "metadata": {},
   "outputs": [
    {
     "data": {
      "text/html": [
       "<div>\n",
       "<style scoped>\n",
       "    .dataframe tbody tr th:only-of-type {\n",
       "        vertical-align: middle;\n",
       "    }\n",
       "\n",
       "    .dataframe tbody tr th {\n",
       "        vertical-align: top;\n",
       "    }\n",
       "\n",
       "    .dataframe thead th {\n",
       "        text-align: right;\n",
       "    }\n",
       "</style>\n",
       "<table border=\"1\" class=\"dataframe\">\n",
       "  <thead>\n",
       "    <tr style=\"text-align: right;\">\n",
       "      <th></th>\n",
       "      <th>Flow ID</th>\n",
       "      <th>Source IP</th>\n",
       "      <th>Source Port</th>\n",
       "      <th>Destination IP</th>\n",
       "      <th>Destination Port</th>\n",
       "      <th>Protocol</th>\n",
       "      <th>Timestamp</th>\n",
       "      <th>Flow Duration</th>\n",
       "      <th>Total Fwd Packets</th>\n",
       "      <th>Total Backward Packets</th>\n",
       "      <th>...</th>\n",
       "      <th>min_seg_size_forward</th>\n",
       "      <th>Active Mean</th>\n",
       "      <th>Active Std</th>\n",
       "      <th>Active Max</th>\n",
       "      <th>Active Min</th>\n",
       "      <th>Idle Mean</th>\n",
       "      <th>Idle Std</th>\n",
       "      <th>Idle Max</th>\n",
       "      <th>Idle Min</th>\n",
       "      <th>Label</th>\n",
       "    </tr>\n",
       "  </thead>\n",
       "  <tbody>\n",
       "    <tr>\n",
       "      <th>0</th>\n",
       "      <td>192.168.10.3-192.168.10.50-3268-56108-6</td>\n",
       "      <td>b'\\xc0\\xa8\\n2'</td>\n",
       "      <td>56108</td>\n",
       "      <td>b'\\xc0\\xa8\\n\\x03'</td>\n",
       "      <td>3268</td>\n",
       "      <td>6</td>\n",
       "      <td>7/7/2017 8:59</td>\n",
       "      <td>112740690</td>\n",
       "      <td>32</td>\n",
       "      <td>16</td>\n",
       "      <td>...</td>\n",
       "      <td>32</td>\n",
       "      <td>3.594286e+02</td>\n",
       "      <td>1.199802e+01</td>\n",
       "      <td>380.0</td>\n",
       "      <td>343.0</td>\n",
       "      <td>16100000.0</td>\n",
       "      <td>4.988048e+05</td>\n",
       "      <td>16400000.0</td>\n",
       "      <td>15400000.0</td>\n",
       "      <td>BENIGN</td>\n",
       "    </tr>\n",
       "    <tr>\n",
       "      <th>1</th>\n",
       "      <td>192.168.10.3-192.168.10.50-389-42144-6</td>\n",
       "      <td>b'\\xc0\\xa8\\n2'</td>\n",
       "      <td>42144</td>\n",
       "      <td>b'\\xc0\\xa8\\n\\x03'</td>\n",
       "      <td>389</td>\n",
       "      <td>6</td>\n",
       "      <td>7/7/2017 8:59</td>\n",
       "      <td>112740560</td>\n",
       "      <td>32</td>\n",
       "      <td>16</td>\n",
       "      <td>...</td>\n",
       "      <td>32</td>\n",
       "      <td>3.202857e+02</td>\n",
       "      <td>1.574499e+01</td>\n",
       "      <td>330.0</td>\n",
       "      <td>285.0</td>\n",
       "      <td>16100000.0</td>\n",
       "      <td>4.987937e+05</td>\n",
       "      <td>16400000.0</td>\n",
       "      <td>15400000.0</td>\n",
       "      <td>BENIGN</td>\n",
       "    </tr>\n",
       "    <tr>\n",
       "      <th>2</th>\n",
       "      <td>8.0.6.4-8.6.0.1-0-0-0</td>\n",
       "      <td>b'\\x08\\x06\\x00\\x01'</td>\n",
       "      <td>0</td>\n",
       "      <td>b'\\x08\\x00\\x06\\x04'</td>\n",
       "      <td>0</td>\n",
       "      <td>0</td>\n",
       "      <td>7/7/2017 9:00</td>\n",
       "      <td>113757377</td>\n",
       "      <td>545</td>\n",
       "      <td>0</td>\n",
       "      <td>...</td>\n",
       "      <td>0</td>\n",
       "      <td>9.361829e+06</td>\n",
       "      <td>7.324646e+06</td>\n",
       "      <td>18900000.0</td>\n",
       "      <td>19.0</td>\n",
       "      <td>12200000.0</td>\n",
       "      <td>6.935824e+06</td>\n",
       "      <td>20800000.0</td>\n",
       "      <td>5504997.0</td>\n",
       "      <td>BENIGN</td>\n",
       "    </tr>\n",
       "    <tr>\n",
       "      <th>3</th>\n",
       "      <td>192.168.10.9-224.0.0.252-63210-5355-17</td>\n",
       "      <td>b'\\xc0\\xa8\\n\\t'</td>\n",
       "      <td>63210</td>\n",
       "      <td>b'\\xe0\\x00\\x00\\xfc'</td>\n",
       "      <td>5355</td>\n",
       "      <td>17</td>\n",
       "      <td>7/7/2017 9:00</td>\n",
       "      <td>100126</td>\n",
       "      <td>22</td>\n",
       "      <td>0</td>\n",
       "      <td>...</td>\n",
       "      <td>32</td>\n",
       "      <td>0.000000e+00</td>\n",
       "      <td>0.000000e+00</td>\n",
       "      <td>0.0</td>\n",
       "      <td>0.0</td>\n",
       "      <td>0.0</td>\n",
       "      <td>0.000000e+00</td>\n",
       "      <td>0.0</td>\n",
       "      <td>0.0</td>\n",
       "      <td>BENIGN</td>\n",
       "    </tr>\n",
       "    <tr>\n",
       "      <th>4</th>\n",
       "      <td>192.168.10.9-224.0.0.22-0-0-0</td>\n",
       "      <td>b'\\xc0\\xa8\\n\\t'</td>\n",
       "      <td>0</td>\n",
       "      <td>b'\\xe0\\x00\\x00\\x16'</td>\n",
       "      <td>0</td>\n",
       "      <td>0</td>\n",
       "      <td>7/7/2017 9:00</td>\n",
       "      <td>54760</td>\n",
       "      <td>4</td>\n",
       "      <td>0</td>\n",
       "      <td>...</td>\n",
       "      <td>0</td>\n",
       "      <td>0.000000e+00</td>\n",
       "      <td>0.000000e+00</td>\n",
       "      <td>0.0</td>\n",
       "      <td>0.0</td>\n",
       "      <td>0.0</td>\n",
       "      <td>0.000000e+00</td>\n",
       "      <td>0.0</td>\n",
       "      <td>0.0</td>\n",
       "      <td>BENIGN</td>\n",
       "    </tr>\n",
       "  </tbody>\n",
       "</table>\n",
       "<p>5 rows × 85 columns</p>\n",
       "</div>"
      ],
      "text/plain": [
       "                                   Flow ID            Source IP   Source Port  \\\n",
       "0  192.168.10.3-192.168.10.50-3268-56108-6       b'\\xc0\\xa8\\n2'         56108   \n",
       "1   192.168.10.3-192.168.10.50-389-42144-6       b'\\xc0\\xa8\\n2'         42144   \n",
       "2                    8.0.6.4-8.6.0.1-0-0-0  b'\\x08\\x06\\x00\\x01'             0   \n",
       "3   192.168.10.9-224.0.0.252-63210-5355-17      b'\\xc0\\xa8\\n\\t'         63210   \n",
       "4            192.168.10.9-224.0.0.22-0-0-0      b'\\xc0\\xa8\\n\\t'             0   \n",
       "\n",
       "        Destination IP   Destination Port   Protocol      Timestamp  \\\n",
       "0    b'\\xc0\\xa8\\n\\x03'               3268          6  7/7/2017 8:59   \n",
       "1    b'\\xc0\\xa8\\n\\x03'                389          6  7/7/2017 8:59   \n",
       "2  b'\\x08\\x00\\x06\\x04'                  0          0  7/7/2017 9:00   \n",
       "3  b'\\xe0\\x00\\x00\\xfc'               5355         17  7/7/2017 9:00   \n",
       "4  b'\\xe0\\x00\\x00\\x16'                  0          0  7/7/2017 9:00   \n",
       "\n",
       "    Flow Duration   Total Fwd Packets   Total Backward Packets  ...  \\\n",
       "0       112740690                  32                       16  ...   \n",
       "1       112740560                  32                       16  ...   \n",
       "2       113757377                 545                        0  ...   \n",
       "3          100126                  22                        0  ...   \n",
       "4           54760                   4                        0  ...   \n",
       "\n",
       "    min_seg_size_forward   Active Mean    Active Std   Active Max  \\\n",
       "0                     32  3.594286e+02  1.199802e+01        380.0   \n",
       "1                     32  3.202857e+02  1.574499e+01        330.0   \n",
       "2                      0  9.361829e+06  7.324646e+06   18900000.0   \n",
       "3                     32  0.000000e+00  0.000000e+00          0.0   \n",
       "4                      0  0.000000e+00  0.000000e+00          0.0   \n",
       "\n",
       "    Active Min   Idle Mean      Idle Std    Idle Max    Idle Min   Label  \n",
       "0        343.0  16100000.0  4.988048e+05  16400000.0  15400000.0  BENIGN  \n",
       "1        285.0  16100000.0  4.987937e+05  16400000.0  15400000.0  BENIGN  \n",
       "2         19.0  12200000.0  6.935824e+06  20800000.0   5504997.0  BENIGN  \n",
       "3          0.0         0.0  0.000000e+00         0.0         0.0  BENIGN  \n",
       "4          0.0         0.0  0.000000e+00         0.0         0.0  BENIGN  \n",
       "\n",
       "[5 rows x 85 columns]"
      ]
     },
     "execution_count": 62,
     "metadata": {},
     "output_type": "execute_result"
    }
   ],
   "source": [
    "\n",
    "\n",
    "problem_df.head()"
   ]
  },
  {
   "cell_type": "code",
   "execution_count": 68,
   "metadata": {},
   "outputs": [
    {
     "name": "stderr",
     "output_type": "stream",
     "text": [
      "<ipython-input-68-c88bf7dd9614>:10: SettingWithCopyWarning: \n",
      "A value is trying to be set on a copy of a slice from a DataFrame\n",
      "\n",
      "See the caveats in the documentation: https://pandas.pydata.org/pandas-docs/stable/user_guide/indexing.html#returning-a-view-versus-a-copy\n",
      "  problem_df[' Timestamp'][i] = time.mktime(datetime.strptime(problem_df[' Timestamp'][i],'%m/%d/%Y %H:%M').timetuple())\n",
      "/opt/conda/lib/python3.8/site-packages/IPython/core/interactiveshell.py:3417: SettingWithCopyWarning: \n",
      "A value is trying to be set on a copy of a slice from a DataFrame\n",
      "\n",
      "See the caveats in the documentation: https://pandas.pydata.org/pandas-docs/stable/user_guide/indexing.html#returning-a-view-versus-a-copy\n",
      "  exec(code_obj, self.user_global_ns, self.user_ns)\n"
     ]
    },
    {
     "data": {
      "text/plain": [
       "0       1.49942e+09\n",
       "1       1.49942e+09\n",
       "2       1.49942e+09\n",
       "3       1.49942e+09\n",
       "4       1.49942e+09\n",
       "           ...     \n",
       "9995    1.49942e+09\n",
       "9996    1.49942e+09\n",
       "9997    1.49942e+09\n",
       "9998    1.49942e+09\n",
       "9999    1.49942e+09\n",
       "Name:  Timestamp, Length: 10000, dtype: object"
      ]
     },
     "execution_count": 68,
     "metadata": {},
     "output_type": "execute_result"
    }
   ],
   "source": [
    "problem_df[' Source IP']\n",
    "problem_df[' Timestamp']\n",
    "\n",
    "from datetime import datetime\n",
    "import time\n",
    "\n",
    "\n",
    "ss = \"7/7/2017 8:59\"\n",
    "for i in range(0,10000):\n",
    "    problem_df[' Timestamp'][i] = time.mktime(datetime.strptime(problem_df[' Timestamp'][i],'%m/%d/%Y %H:%M').timetuple())\n",
    "# timestamp = time.mktime(datetime.strptime(ss,'%m/%d/%Y %H:%M').timetuple())\n",
    "# print(timestamp)\n",
    "\n",
    "problem_df[' Timestamp']\n",
    "\n"
   ]
  },
  {
   "cell_type": "code",
   "execution_count": 77,
   "metadata": {},
   "outputs": [
    {
     "data": {
      "text/plain": [
       "(3601, 85)"
      ]
     },
     "execution_count": 77,
     "metadata": {},
     "output_type": "execute_result"
    }
   ],
   "source": [
    "problem_df['Init_Win_bytes_forward']\n",
    "problem_df[' Init_Win_bytes_backward']\n",
    "\n",
    "problem_df = problem_df[problem_df['Init_Win_bytes_forward'] != -1]\n",
    "problem_df = problem_df[problem_df[' Init_Win_bytes_backward'] != -1]\n",
    "problem_df.shape"
   ]
  },
  {
   "cell_type": "code",
   "execution_count": 97,
   "metadata": {
    "scrolled": false
   },
   "outputs": [
    {
     "data": {
      "text/plain": [
       "Flow ID              False\n",
       " Source IP           False\n",
       " Source Port          True\n",
       " Destination IP      False\n",
       " Destination Port     True\n",
       "                     ...  \n",
       "Idle Mean            False\n",
       " Idle Std            False\n",
       " Idle Max            False\n",
       " Idle Min            False\n",
       " Label               False\n",
       "Length: 85, dtype: bool"
      ]
     },
     "execution_count": 97,
     "metadata": {},
     "output_type": "execute_result"
    }
   ],
   "source": [
    "from sklearn.preprocessing import StandardScaler\n",
    "sc = StandardScaler()\n",
    "# try:\n",
    "#     sc.fit(problem_df)\n",
    "    \n",
    "# except ValueError as e:\n",
    "#     print(e)\n",
    "    \n",
    "\n",
    "# problem_df = pd.DataFrame(sc.transform(problem_df), columns=problem_df.columns)\n",
    "# problem_df.head()\n",
    "\n",
    "# problem_df_sc = problem_df[problem_df[problem_df.dtypes=='int64' | problem_df.dtypes=='float64']]\n",
    "# problem_df_sc.head()"
   ]
  }
 ],
 "metadata": {
  "kernelspec": {
   "display_name": "Python 3",
   "language": "python",
   "name": "python3"
  },
  "language_info": {
   "codemirror_mode": {
    "name": "ipython",
    "version": 3
   },
   "file_extension": ".py",
   "mimetype": "text/x-python",
   "name": "python",
   "nbconvert_exporter": "python",
   "pygments_lexer": "ipython3",
   "version": "3.8.6"
  }
 },
 "nbformat": 4,
 "nbformat_minor": 4
}
