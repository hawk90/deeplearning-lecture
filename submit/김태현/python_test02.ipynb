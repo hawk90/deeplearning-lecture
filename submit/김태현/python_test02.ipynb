{
 "cells": [
  {
   "cell_type": "markdown",
   "metadata": {},
   "source": [
    "# Problem 01\n",
    "\n",
    "1. zoo.py 파일에서 'Open 9-5 daily' 문자열을 반환하는 hours 함수를 정의하라. buzz.py에서 hours() 함수를 호출 하라."
   ]
  },
  {
   "cell_type": "code",
   "execution_count": null,
   "metadata": {},
   "outputs": [],
   "source": []
  },
  {
   "cell_type": "markdown",
   "metadata": {},
   "source": [
    "# Problem 02\n",
    "\n",
    "1. things 리스트를 만들어라. 이 리스트는 \"mozzarella\", \"cinderella\", \"salomonella\" 세 문자열을 요소로 갖는다.\n",
    "2. things 리스트에서 첫 글자를 대문자로 바꿔서 출력하라.\n",
    "3. things 리스트에서 모두 대문자로 바꿔서 출력하라.\n",
    "4. things 리스트에서 마지막 요소를 제거한 뒤 출력하라.\n",
    "5. suprise 리스트를 생성하라. 이 리스트는 \"Groucho\", \"Chico\", \"Harpo\" 세 문자열을 요소로 갖는다.\n",
    "6. suprise 리스트의 마지막 요소를 소문자로 변경하고, 단어를 역전시킨 후, 첫 글자를 대문자로 바꿔라.\n",
    "\n",
    "\n",
    "\n",
    "# Problem 03\n",
    "\n",
    "1. ['Harry', 'Ron', 'Hermione'] 리스트를 반환하는 함수를 정의하라.\n",
    "\n",
    "2. 두 리스트를 짝으로 하는 movies 딕셔너리를 만들어라. \n",
    "\n",
    "   title = ['Creature of Habit', 'Crewel Fate']\n",
    "\n",
    "   plots = ['A turns into a mon ster', 'A haunted yarn shop']\n",
    "\n",
    "3. 두 리스트를 짝으로 하는 movies2 딕셔너리를 만들어라. (키 값이 비어있을 경우 '' 공백으로 처리)\n",
    "\n",
    "   title = ['Creature of Habit', 'Crewel Fate', 'Apple']\n",
    "\n",
    "   plots = ['A turns into a mon ster', 'A haunted yarn shop']\n",
    "\n",
    "4. movies2 딕셔너리를 출력하여라(에러가 날 경우 수정 할 것)\n",
    "\n",
    "   for key in movies2.kesy()\n",
    "\n",
    "   ​\tprint(movies2[key])"
   ]
  }
 ],
 "metadata": {
  "kernelspec": {
   "display_name": "Python 3",
   "language": "python",
   "name": "python3"
  },
  "language_info": {
   "codemirror_mode": {
    "name": "ipython",
    "version": 3
   },
   "file_extension": ".py",
   "mimetype": "text/x-python",
   "name": "python",
   "nbconvert_exporter": "python",
   "pygments_lexer": "ipython3",
   "version": "3.7.3"
  }
 },
 "nbformat": 4,
 "nbformat_minor": 2
}
