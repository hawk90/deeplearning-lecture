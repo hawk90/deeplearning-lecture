{
 "cells": [
  {
   "cell_type": "code",
   "execution_count": 3,
   "metadata": {},
   "outputs": [
    {
     "name": "stdout",
     "output_type": "stream",
     "text": [
      "파일이 없어요\n"
     ]
    }
   ],
   "source": [
    "# Problem 01\n",
    "\n",
    "try:\n",
    "    fp = open('0000', 'r')\n",
    "    \n",
    "except FileNotFoundError :\n",
    "        print(\"파일이 없어요\")\n"
   ]
  },
  {
   "cell_type": "code",
   "execution_count": 10,
   "metadata": {},
   "outputs": [
    {
     "name": "stdout",
     "output_type": "stream",
     "text": [
      "The king konan\n",
      "['Convex', 'Deep Learning'] ['Boyd', 'lan']\n"
     ]
    }
   ],
   "source": [
    "# Problem 02\n",
    "\n",
    "class Book:\n",
    "    title = \"\"\n",
    "    author = \"\"\n",
    "    \n",
    "    def getTitle(this):\n",
    "        return this.title\n",
    "    def getAuthor(this):\n",
    "        return this.author\n",
    "    \n",
    "    def __init__(this):\n",
    "        this.title = [\"Convex\", \"Deep Learning\"]\n",
    "        this.author = [\"Boyd\", 'lan']\n",
    "\n",
    "book1 = Book()\n",
    "book1.title = \"The king\"\n",
    "book1.author = \"konan\"\n",
    "\n",
    "print(book1.getTitle(),book1.getAuthor())\n",
    "\n",
    "book2 = Book()\n",
    "print(book2.getTitle(),book2.getAuthor())\n",
    "\n",
    "\n"
   ]
  }
 ],
 "metadata": {
  "kernelspec": {
   "display_name": "Python 3",
   "language": "python",
   "name": "python3"
  },
  "language_info": {
   "codemirror_mode": {
    "name": "ipython",
    "version": 3
   },
   "file_extension": ".py",
   "mimetype": "text/x-python",
   "name": "python",
   "nbconvert_exporter": "python",
   "pygments_lexer": "ipython3",
   "version": "3.8.6"
  }
 },
 "nbformat": 4,
 "nbformat_minor": 4
}
