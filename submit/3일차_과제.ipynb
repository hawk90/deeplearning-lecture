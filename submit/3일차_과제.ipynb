{
 "cells": [
  {
   "cell_type": "markdown",
   "metadata": {},
   "source": [
    "# Problem 01\n",
    "\n",
    "1. 1시간은 몇 초인가?\n",
    "2. 계산한 결과를 seconds_per_hour 변수에 저장\n",
    "3. 1일은 몇초인가?  seconds_per_hour 변수를 사용\n",
    "4. 계산한 결과를 seconds_per_day 변수에 저장\n",
    "5. 나눗셈을 사용해서 sconds_per_day를 seconds_per_hour로 나누기"
   ]
  },
  {
   "cell_type": "code",
   "execution_count": 1,
   "metadata": {},
   "outputs": [
    {
     "name": "stdout",
     "output_type": "stream",
     "text": [
      "sconds_per_day를 seconds_per_hour로 나누기 : 24.0\n"
     ]
    }
   ],
   "source": [
    "seconds_per_hour = 60* 60\n",
    "seconds_per_day = seconds_per_hour *24\n",
    "print(\"sconds_per_day를 seconds_per_hour로 나누기 :\", seconds_per_day/ seconds_per_hour)"
   ]
  },
  {
   "cell_type": "markdown",
   "metadata": {},
   "source": [
    "# Problem 02\n",
    "\n",
    "1. 출생년도에 대한 리스트 year_lis\n",
    "ts를 만들어라 출생연도를 첫 번째 요소로 하고 1년씩 장가한는 다섯번째 생일까지의 요소를 넣는다. 출생년도가 1980이라고 가정한다.\n",
    "2. years_list의 오프셋 3의 생일의 년도는? 참고로 오프셋 0은 출생년도\n",
    "3. years_list중 가장 나이가 많을 때의 년도는? if와 max변수를 활용"
   ]
  },
  {
   "cell_type": "code",
   "execution_count": 8,
   "metadata": {},
   "outputs": [
    {
     "name": "stdout",
     "output_type": "stream",
     "text": [
      "오프셋 3의 생일 년도는 :  1983\n"
     ]
    },
    {
     "data": {
      "text/plain": [
       "1980"
      ]
     },
     "execution_count": 8,
     "metadata": {},
     "output_type": "execute_result"
    }
   ],
   "source": [
    "year_lists =[i for i in range(1980,1985)]\n",
    "print('오프셋 3의 생일 년도는 : ',year_lists[3])\n",
    "max_year = min(year_lists)\n",
    "max_year"
   ]
  },
  {
   "cell_type": "markdown",
   "metadata": {},
   "source": [
    "# Problem 03\n",
    "\n",
    "1. 영어-프랑스어 사전을 의미하는 f2e 딕셔너리를 만들어라. 영어의 dog는 프랑스어 chien이고, cat은 chat, walrus는 morse다. 딕셔너리를 출력해보라.\n",
    "2. f2e 딕셔너리에서 영어 walrus를 프랑스어로 출력하라.\n",
    "3. f2e 딕셔너리를 사용해서 프랑스어 chien을 의미하는 영어를 출력하라.\n",
    "4. f2e의 키 값을 출력하라\n",
    "5. f2e의 밸류 값을 출력하라. "
   ]
  },
  {
   "cell_type": "code",
   "execution_count": 9,
   "metadata": {
    "scrolled": true
   },
   "outputs": [
    {
     "name": "stdout",
     "output_type": "stream",
     "text": [
      "dict_items([('dog', 'chien'), ('cat', 'chat'), ('walrus', 'morse')])\n",
      "morse\n",
      "dog\n",
      "dict_keys(['dog', 'cat', 'walrus'])\n",
      "dict_values(['chien', 'chat', 'morse'])\n"
     ]
    }
   ],
   "source": [
    "f2e = {'dog' : 'chien', 'cat' : 'chat', 'walrus' :'morse'}\n",
    "print(f2e.items())\n",
    "print(f2e['walrus'])\n",
    "for k,v in f2e.items():\n",
    "    if v == 'chien':\n",
    "        print(k)\n",
    "print(f2e.keys())\n",
    "print(f2e.values())"
   ]
  },
  {
   "cell_type": "markdown",
   "metadata": {},
   "source": [
    "# Problem 04\n",
    "\n",
    "1. 리스트 컴프리헨션을 이용하여 range(10)에서 짝수 리스트를 만들어라\n",
    "2. 딕셔너리 컴프리헨션을 이용하여 range(10)의 키 값은 range(10), 밸류 값은 range(10)의 제곱 값"
   ]
  },
  {
   "cell_type": "code",
   "execution_count": 4,
   "metadata": {},
   "outputs": [],
   "source": [
    "evens = [i for i in range(10) if i % 2==0]\n",
    "dict1 = {i:i**2 for i in range(10)}"
   ]
  }
 ],
 "metadata": {
  "kernelspec": {
   "display_name": "Python 3",
   "language": "python",
   "name": "python3"
  },
  "language_info": {
   "codemirror_mode": {
    "name": "ipython",
    "version": 3
   },
   "file_extension": ".py",
   "mimetype": "text/x-python",
   "name": "python",
   "nbconvert_exporter": "python",
   "pygments_lexer": "ipython3",
   "version": "3.8.6"
  }
 },
 "nbformat": 4,
 "nbformat_minor": 4
}
