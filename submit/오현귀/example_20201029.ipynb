{
 "cells": [
  {
   "cell_type": "code",
   "execution_count": null,
   "metadata": {},
   "outputs": [],
   "source": [
    "# Problem 01\n",
    "\n",
    "#1. zoo.py 파일에서 'Open 9-5 daily' 문자열을 반환하는 hours 함수를 정의하라. buzz.py에서 hours() 함수를 호출 하라.\n",
    "#zoo.py\n",
    "def hours():\n",
    "    retrun 'Open 9-5 daily'\n",
    "    \n",
    "#buzz.py\n",
    "import zoo\n",
    "    zoo.hours()\n"
   ]
  },
  {
   "cell_type": "code",
   "execution_count": null,
   "metadata": {},
   "outputs": [],
   "source": [
    "#Problem 02\n",
    "#1. things 리스트를 만들어라. 이 리스트는 \"mozzarella\", \"cinderella\", \"salomonella\" 세 문자열을 요소로 갖는다.\n",
    "things = [\"mozzarella\", \"cinderella\", \"salomonella\"]\n",
    "print(things)"
   ]
  },
  {
   "cell_type": "code",
   "execution_count": null,
   "metadata": {},
   "outputs": [],
   "source": [
    "#2. things 리스트에서 첫 글자를 대문자로 바꿔서 출력하라.\n",
    "for i in things:\n",
    "    print(i.capitalize())\n"
   ]
  },
  {
   "cell_type": "code",
   "execution_count": null,
   "metadata": {},
   "outputs": [],
   "source": [
    "#3. things 리스트에서 모두 대문자로 바꿔서 출력하라.\n",
    "for i in things:\n",
    "    print(i.upper())\n"
   ]
  },
  {
   "cell_type": "code",
   "execution_count": null,
   "metadata": {},
   "outputs": [],
   "source": [
    "#4. things 리스트에서 마지막 요소를 제거한 뒤 출력하라.\n",
    "things.pop()\n",
    "print(things)\n"
   ]
  },
  {
   "cell_type": "code",
   "execution_count": null,
   "metadata": {},
   "outputs": [],
   "source": [
    "\n",
    "#5. suprise 리스트를 생성하라. 이 리스트는 \"Groucho\", \"Chico\", \"Harpo\" 세 문자열을 요소로 갖는다.\n",
    "suprise = [\"Groucho\", \"Chico\", \"Harpo\"]\n",
    "print(suprise)\n"
   ]
  },
  {
   "cell_type": "code",
   "execution_count": null,
   "metadata": {},
   "outputs": [],
   "source": [
    "#6. suprise 리스트의 마지막 요소를 소문자로 변경하고, 단어를 역전시킨 후, 첫 글자를 대문자로 바꿔라.\n",
    "cnt =len(suprise)\n",
    "suprise[cnt-1] = suprise[cnt-1].lower()\n",
    "print(suprise)\n",
    "\n",
    "suprise.reverse()\n",
    "print(suprise)\n",
    "\n",
    "for i in suprise:\n",
    "    i.capitalize()\n",
    "print(suprise) \n"
   ]
  },
  {
   "cell_type": "code",
   "execution_count": 1,
   "metadata": {},
   "outputs": [],
   "source": [
    "# Problem 03\n",
    "\n",
    "#1. ['Harry', 'Ron', 'Hermione'] 리스트를 반환하는 함수를 정의하라.\n",
    "def Test:\n",
    "    list = ['Harry', 'Ron', 'Hermione'] \n",
    "\n",
    "return list\n"
   ]
  },
  {
   "cell_type": "code",
   "execution_count": 6,
   "metadata": {},
   "outputs": [
    {
     "name": "stdout",
     "output_type": "stream",
     "text": [
      "{'Creature of Habit': 'A haunted yarn shop', 'Crewel Fate': 'A haunted yarn shop'}\n"
     ]
    }
   ],
   "source": [
    "#2. 두 리스트를 짝으로 하는 movies 딕셔너리를 만들어라. \n",
    "#\n",
    "#   title = ['Creature of Habit', 'Crewel Fate']\n",
    "#\n",
    "#   plots = ['A turns into a mon ster', 'A haunted yarn shop']\n",
    "\n",
    "title = ['Creature of Habit', 'Crewel Fate']\n",
    "plots = ['A turns into a mon ster', 'A haunted yarn shop']\n",
    "\n",
    "movies = {i:j for i in title for j in plots}\n",
    "\n",
    "print(movies)"
   ]
  },
  {
   "cell_type": "code",
   "execution_count": 3,
   "metadata": {},
   "outputs": [],
   "source": [
    "#3. 두 리스트를 짝으로 하는 movies2 딕셔너리를 만들어라. (키 값이 비어있을 경우 '' 공백으로 처리)\n",
    "#\n",
    "#   title = ['Creature of Habit', 'Crewel Fate', 'Apple']\n",
    "#\n",
    "#   plots = ['A turns into a mon ster', 'A haunted yarn shop']\n",
    "\n",
    "title = ['Creature of Habit', 'Crewel Fate', 'Apple']\n",
    "plots = ['A turns into a mon ster', 'A haunted yarn shop']\n",
    "\n",
    "movies2 = {i:j for i in title for j in plots}\n"
   ]
  },
  {
   "cell_type": "code",
   "execution_count": null,
   "metadata": {},
   "outputs": [],
   "source": [
    "#4. movies2 딕셔너리를 출력하여라(에러가 날 경우 수정 할 것)\n",
    "#\n",
    "#   for key in movies2.kesy()\n",
    "#\n",
    "#       print(movies2[key])\n",
    "\n"
   ]
  }
 ],
 "metadata": {
  "kernelspec": {
   "display_name": "Python 3",
   "language": "python",
   "name": "python3"
  },
  "language_info": {
   "codemirror_mode": {
    "name": "ipython",
    "version": 3
   },
   "file_extension": ".py",
   "mimetype": "text/x-python",
   "name": "python",
   "nbconvert_exporter": "python",
   "pygments_lexer": "ipython3",
   "version": "3.8.6"
  }
 },
 "nbformat": 4,
 "nbformat_minor": 4
}
