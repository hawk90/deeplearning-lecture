{
 "cells": [
  {
   "cell_type": "code",
   "execution_count": 7,
   "metadata": {},
   "outputs": [
    {
     "name": "stdout",
     "output_type": "stream",
     "text": [
      "파일을 찾을수 없습니다.\n"
     ]
    }
   ],
   "source": [
    "# Problem 01\n",
    "# 1. try, except문을 통해 다음의 에러를 해결하여라.\n",
    "#    fp = open('0000', 'r')\n",
    "#    Problem 02\n",
    "\n",
    "try:\n",
    "    fp = open('0000', 'r')\n",
    "except FileNotFoundError as e:\n",
    "    print(\"파일을 찾을수 없습니다.\")\n",
    "    pass"
   ]
  },
  {
   "cell_type": "code",
   "execution_count": 8,
   "metadata": {},
   "outputs": [
    {
     "name": "stdout",
     "output_type": "stream",
     "text": [
      "Convex Boyd\n"
     ]
    }
   ],
   "source": [
    "# Problem 01\n",
    "# 1. class Book을 만들고 titile, author의 속성을 가지고 getTitle(), getAuthor()의 메소드를 가지게 하여라.    \n",
    "# 2. 생성자를 가지게 하여라.\n",
    "# 3. 인스턴스를 생성할때 아래의 리스트를 값으로 즉시 초기화 하여라.(생성자를 사용)\n",
    "#    titles: ['Convex', 'Deep Learning']\n",
    "#    authors:['Boyd', 'Ian']\n",
    "# 4. getTitle(), getAuthor()로 인스턴스의 title과 author를 출력하여라\n",
    "\n",
    "\n",
    "class Book:\n",
    "    \n",
    "    def __init__(self, title, author):\n",
    "        self.title = title\n",
    "        self.author = author\n",
    "        \n",
    "    def getTitle(self):\n",
    "        return self.title\n",
    "    def getAuthor(self):\n",
    "        return self.author\n",
    "    \n",
    "book1 = Book('Convex', 'Boyd')\n",
    "book2 = Book('Deep Learning','Ian')\n",
    "\n",
    "print(book1.getTitle(), book1.getAuthor())\n",
    "print(book2.getTitle(), book2.getAuthor())\n",
    "\n"
   ]
  },
  {
   "cell_type": "code",
   "execution_count": null,
   "metadata": {},
   "outputs": [],
   "source": []
  }
 ],
 "metadata": {
  "kernelspec": {
   "display_name": "Python 3",
   "language": "python",
   "name": "python3"
  },
  "language_info": {
   "codemirror_mode": {
    "name": "ipython",
    "version": 3
   },
   "file_extension": ".py",
   "mimetype": "text/x-python",
   "name": "python",
   "nbconvert_exporter": "python",
   "pygments_lexer": "ipython3",
   "version": "3.8.3"
  }
 },
 "nbformat": 4,
 "nbformat_minor": 4
}
