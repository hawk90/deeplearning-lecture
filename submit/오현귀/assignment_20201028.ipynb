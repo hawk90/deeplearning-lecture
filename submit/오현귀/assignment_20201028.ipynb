{
 "cells": [
  {
   "cell_type": "code",
   "execution_count": null,
   "metadata": {},
   "outputs": [],
   "source": [
    "#Problem 01\n",
    "\n",
    "#1. 1시간은 몇 초인가?\n",
    "hour = 60*60\n",
    "#2. 계산한 결과를 seconds_per_hour 변수에 저장\n",
    "seconds_per_hour = hour\n",
    "#3. 1일은 몇초인가?  seconds_per_hour 변수를 사용\n",
    "seconds_per_hour = seconds_per_hour*24\n",
    "#4. 계산한 결과를 seconds_per_day 변수에 저장\n",
    "seconds_per_day = seconds_per_hour\n",
    "#5. 나눗셈을 사용해서 sconds_per_day를 seconds_per_hour로 나누기\n",
    "int(seconds_per_day/seconds_per_hour)"
   ]
  },
  {
   "cell_type": "code",
   "execution_count": null,
   "metadata": {},
   "outputs": [],
   "source": [
    "#Problem 02\n",
    "\n",
    "#1. 출생년도에 대한 리스트 year_lists를 만들어라 출생연도를 첫 번째 요소로 하고\n",
    "#1년씩 장가한는 다섯번째 생일까지의 요소를 넣는다. 출생년도가 1980이라고 가정한다.\n",
    "birth_year = 1980\n",
    "year_list = [year for year in range(birth_year, birth_year + 5)]\n",
    "\n",
    "#2. years_list의 오프셋 3의 생일의 년도는? 참고로 오프셋 0은 출생년도\n",
    "print(year_list[3])\n",
    "\n",
    "#3. years_list중 가장 나이가 많을 때의 년도는? if와 max변수를 활용\n",
    "\n",
    "print(max(year_list))"
   ]
  },
  {
   "cell_type": "code",
   "execution_count": 9,
   "metadata": {},
   "outputs": [
    {
     "name": "stdout",
     "output_type": "stream",
     "text": [
      "{'dog': 'chein', 'cat': 'chat', 'walrus': 'morse'}\n",
      "morse\n",
      "['dog']\n",
      "dict_keys(['dog', 'cat', 'walrus'])\n",
      "dict_values(['chein', 'chat', 'morse'])\n"
     ]
    }
   ],
   "source": [
    "#Problem 03\n",
    "\n",
    "#1. 영어-프랑스어 사전을 의미하는 f2e 딕셔너리를 만들어라. 영어의 dog는 프랑스어 chien이고, cat은 chat, walrus는 morse다. \n",
    "#   딕셔너리를 출력해보라.\n",
    "f2e = {'dog': 'chein', 'cat': 'chat', 'walrus': 'morse'}\n",
    "print(f2e)\n",
    "#2. f2e 딕셔너리에서 영어 walrus를 프랑스어로 출력하라.\n",
    "print(f2e['walrus'])\n",
    "\n",
    "\n",
    "#3. f2e 딕셔너리를 사용해서 프랑스어 chien을 의미하는 영어를 출력하라.\n",
    "print([key for key, value in f2e.items() if value == 'chein'])\n",
    "#4. f2e의 키 값을 출력하라\n",
    "print(f2e.keys())\n",
    "#5. f2e의 밸류 값을 출력하라. \n",
    "print(f2e.values())"
   ]
  },
  {
   "cell_type": "code",
   "execution_count": 10,
   "metadata": {},
   "outputs": [
    {
     "name": "stdout",
     "output_type": "stream",
     "text": [
      "[0, 2, 4, 6, 8]\n",
      "{0: 0, 1: 1, 2: 4, 3: 9, 4: 16, 5: 25, 6: 36, 7: 49, 8: 64, 9: 81}\n"
     ]
    }
   ],
   "source": [
    "#Problem 04\n",
    "\n",
    "#1. 리스트 컴프리헨션을 이용하여 range(10)에서 짝수 리스트를 만들어라\n",
    "even_list = [e for e in range(10) if e % 2 == 0]\n",
    "print(even_list) \n",
    "#2. 딕셔너리 컴프리헨션을 이용하여 range(10)의 키 값은 range(10), 밸류 값은 range(10)의 제곱 값\n",
    "\n",
    "dict_list = {ee : pow(ee, 2) for ee in range(10)}\n",
    "\n",
    "print(dict_list)"
   ]
  },
  {
   "cell_type": "code",
   "execution_count": null,
   "metadata": {},
   "outputs": [],
   "source": []
  }
 ],
 "metadata": {
  "kernelspec": {
   "display_name": "Python 3",
   "language": "python",
   "name": "python3"
  },
  "language_info": {
   "codemirror_mode": {
    "name": "ipython",
    "version": 3
   },
   "file_extension": ".py",
   "mimetype": "text/x-python",
   "name": "python",
   "nbconvert_exporter": "python",
   "pygments_lexer": "ipython3",
   "version": "3.8.6"
  }
 },
 "nbformat": 4,
 "nbformat_minor": 4
}
