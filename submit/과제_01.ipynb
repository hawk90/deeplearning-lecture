{
 "cells": [
  {
   "cell_type": "code",
   "execution_count": 5,
   "metadata": {},
   "outputs": [
    {
     "name": "stdout",
     "output_type": "stream",
     "text": [
      "1시간은 3600 초 \n",
      "1시간은 86400 초 \n"
     ]
    }
   ],
   "source": [
    "#Problem 01\n",
    "\n",
    "print(\"1시간은 %d 초 \" % (60*60))\n",
    "\n",
    "seconds_per_hour = 60*60\n",
    "\n",
    "print(\"1시간은 %d 초 \" % (seconds_per_hour*24))\n",
    "\n",
    "seconds_per_day = seconds_per_hour*24\n",
    "\n",
    "answer = seconds_per_day/seconds_per_hour\n"
   ]
  },
  {
   "cell_type": "code",
   "execution_count": 16,
   "metadata": {},
   "outputs": [
    {
     "name": "stdout",
     "output_type": "stream",
     "text": [
      "1984\n"
     ]
    }
   ],
   "source": [
    "# Problem 2\n",
    "\n",
    "year_lists =[]\n",
    "first_year = 1980\n",
    "for i in range(0,5):\n",
    "    year_lists.append(first_year+i)\n",
    "    \n",
    "\n",
    "max = 0\n",
    "for j in range(0,len(year_lists)):\n",
    "    if max <= year_lists[j]:\n",
    "        max = year_lists[j]\n",
    "\n",
    "\n",
    "print(max)"
   ]
  },
  {
   "cell_type": "code",
   "execution_count": 27,
   "metadata": {
    "scrolled": true
   },
   "outputs": [
    {
     "name": "stdout",
     "output_type": "stream",
     "text": [
      "영어 dog 는 프랑스어로 chien\n",
      "영어 cat 는 프랑스어로 chat\n",
      "영어 walrus 는 프랑스어로 morse\n",
      "morse\n",
      "chien은 영어로 dog\n",
      "dict_keys(['dog', 'cat', 'walrus'])\n",
      "dict_values(['chien', 'chat', 'morse'])\n"
     ]
    }
   ],
   "source": [
    "# Problem 3\n",
    "\n",
    "f2e = {'dog' : 'chien', 'cat':'chat','walrus':'morse' }\n",
    "\n",
    "for i in f2e.keys():\n",
    "    print(\"영어 %s 는 프랑스어로 %s\" %(i,f2e[i]))\n",
    "    \n",
    "print(\"%s\" % f2e.get('walrus'))\n",
    "\n",
    "for i in f2e.keys():\n",
    "    if f2e[i] == 'chien':\n",
    "        print(\"chien은 영어로 %s\" % i)\n",
    "        \n",
    "print(f2e.keys())\n",
    "print(f2e.values())"
   ]
  },
  {
   "cell_type": "code",
   "execution_count": 32,
   "metadata": {},
   "outputs": [
    {
     "name": "stdout",
     "output_type": "stream",
     "text": [
      "[0, 2, 4, 6, 8, 10, 12, 14, 16, 18]\n",
      "{0: 0, 1: 1, 2: 4, 3: 9, 4: 16, 5: 25, 6: 36, 7: 49, 8: 64, 9: 81}\n",
      "dict_keys([0, 1, 2, 3, 4, 5, 6, 7, 8, 9])\n",
      "dict_values([0, 1, 4, 9, 16, 25, 36, 49, 64, 81])\n"
     ]
    }
   ],
   "source": [
    "# Problem 04\n",
    "\n",
    "answer_list = [i*2 for i in range(0,10)]\n",
    "print(answer_list)\n",
    "\n",
    "answer_dict = {i:i**2 for i in range(0,10)}\n",
    "print(answer_dict)\n",
    "print(answer_dict.keys())\n",
    "print(answer_dict.values())\n",
    "\n"
   ]
  },
  {
   "cell_type": "code",
   "execution_count": null,
   "metadata": {},
   "outputs": [],
   "source": []
  }
 ],
 "metadata": {
  "kernelspec": {
   "display_name": "Python 3",
   "language": "python",
   "name": "python3"
  },
  "language_info": {
   "codemirror_mode": {
    "name": "ipython",
    "version": 3
   },
   "file_extension": ".py",
   "mimetype": "text/x-python",
   "name": "python",
   "nbconvert_exporter": "python",
   "pygments_lexer": "ipython3",
   "version": "3.8.6"
  }
 },
 "nbformat": 4,
 "nbformat_minor": 4
}
