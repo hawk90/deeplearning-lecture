{
 "cells": [
  {
   "cell_type": "code",
   "execution_count": 1,
   "metadata": {},
   "outputs": [],
   "source": [
    "#Problem 01\n"
   ]
  },
  {
   "cell_type": "code",
   "execution_count": 37,
   "metadata": {},
   "outputs": [
    {
     "name": "stdout",
     "output_type": "stream",
     "text": [
      "Mozzarella\n",
      "Cinderella\n",
      "Salomonella\n",
      "MOZZARELLA\n",
      "CINDERELLA\n",
      "SALOMONELLA\n",
      "mozzarell\n",
      "cinderell\n",
      "salomonell\n",
      "Oprah\n"
     ]
    }
   ],
   "source": [
    "# Problem 02\n",
    "things = [\"mozzarella\", \"cinderella\", \"salomonella\"]\n",
    "\n",
    "for i in range(len(things)):\n",
    "    print(things[i].capitalize())\n",
    "    \n",
    "for i in range(len(things)):\n",
    "    print(things[i].upper())\n",
    "    \n",
    "for i in range(len(things)):\n",
    "    tmpList = things[i]\n",
    "    print(tmpList[:-1])\n",
    "    \n",
    "surprise = [\"Groucho\", \"Chico\", \"Harpo\"]\n",
    "\n",
    "tmpList = surprise[2].lower()\n",
    "\n",
    "tmpList = list(reversed(tmpList))\n",
    "tmpList[0] = tmpList[0].upper()\n",
    "print(''.join(tmpList))\n",
    "\n",
    "\n",
    "# surprise[i] = surprise[i].capitalize()\n",
    "#     print(surprise[i])\n"
   ]
  },
  {
   "cell_type": "code",
   "execution_count": 38,
   "metadata": {},
   "outputs": [
    {
     "name": "stdout",
     "output_type": "stream",
     "text": [
      "{'Creature of Habit': 'A turns into a monster', 'Crewel Fate': 'A haunted yarn shop'}\n"
     ]
    }
   ],
   "source": [
    "# Problem 03\n",
    "def retList():\n",
    "    tmpList = [\"Harry\", \"Ron\", \"Hermione\"]\n",
    "    return tmpList\n",
    "\n",
    "title = ['Creature of Habit', 'Crewel Fate']\n",
    "plots = ['A turns into a monster', 'A haunted yarn shop']\n",
    "\n",
    "movies = dict(zip(title, plots))\n",
    "print(movies)"
   ]
  },
  {
   "cell_type": "code",
   "execution_count": 40,
   "metadata": {},
   "outputs": [
    {
     "name": "stdout",
     "output_type": "stream",
     "text": [
      "{'Creature of Habit': 'A turns into a monster', 'Crewel Fate': 'A haunted yarn shop'}\n"
     ]
    }
   ],
   "source": [
    "title = ['Creature of Habit', 'Crewel Fate', 'Apple']\n",
    "plots = ['A turns into a monster', 'A haunted yarn shop']\n",
    "\n",
    "movies2 = dict(zip(title, plots))\n",
    "print(movies2)"
   ]
  },
  {
   "cell_type": "code",
   "execution_count": 41,
   "metadata": {},
   "outputs": [
    {
     "name": "stdout",
     "output_type": "stream",
     "text": [
      "A turns into a monster\n",
      "A haunted yarn shop\n"
     ]
    }
   ],
   "source": [
    "for key in movies2.keys():\n",
    "    print(movies2[key])"
   ]
  },
  {
   "cell_type": "code",
   "execution_count": null,
   "metadata": {},
   "outputs": [],
   "source": []
  }
 ],
 "metadata": {
  "kernelspec": {
   "display_name": "tf2",
   "language": "python",
   "name": "tf2"
  },
  "language_info": {
   "codemirror_mode": {
    "name": "ipython",
    "version": 3
   },
   "file_extension": ".py",
   "mimetype": "text/x-python",
   "name": "python",
   "nbconvert_exporter": "python",
   "pygments_lexer": "ipython3",
   "version": "3.7.7"
  }
 },
 "nbformat": 4,
 "nbformat_minor": 4
}
