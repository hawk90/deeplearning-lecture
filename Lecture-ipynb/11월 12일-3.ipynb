{
 "cells": [
  {
   "cell_type": "markdown",
   "metadata": {},
   "source": [
    "### 6-3．훈련 데이터의 작성\n",
    "#### 데이터 리드"
   ]
  },
  {
   "cell_type": "code",
   "execution_count": 1,
   "metadata": {},
   "outputs": [
    {
     "data": {
      "text/html": [
       "<div>\n",
       "<style scoped>\n",
       "    .dataframe tbody tr th:only-of-type {\n",
       "        vertical-align: middle;\n",
       "    }\n",
       "\n",
       "    .dataframe tbody tr th {\n",
       "        vertical-align: top;\n",
       "    }\n",
       "\n",
       "    .dataframe thead th {\n",
       "        text-align: right;\n",
       "    }\n",
       "</style>\n",
       "<table border=\"1\" class=\"dataframe\">\n",
       "  <thead>\n",
       "    <tr style=\"text-align: right;\">\n",
       "      <th></th>\n",
       "      <th>date</th>\n",
       "      <th>Appliances</th>\n",
       "    </tr>\n",
       "  </thead>\n",
       "  <tbody>\n",
       "    <tr>\n",
       "      <th>0</th>\n",
       "      <td>2016-01-11 17:00:00</td>\n",
       "      <td>60</td>\n",
       "    </tr>\n",
       "    <tr>\n",
       "      <th>1</th>\n",
       "      <td>2016-01-11 17:10:00</td>\n",
       "      <td>60</td>\n",
       "    </tr>\n",
       "    <tr>\n",
       "      <th>2</th>\n",
       "      <td>2016-01-11 17:20:00</td>\n",
       "      <td>50</td>\n",
       "    </tr>\n",
       "    <tr>\n",
       "      <th>3</th>\n",
       "      <td>2016-01-11 17:30:00</td>\n",
       "      <td>50</td>\n",
       "    </tr>\n",
       "    <tr>\n",
       "      <th>4</th>\n",
       "      <td>2016-01-11 17:40:00</td>\n",
       "      <td>60</td>\n",
       "    </tr>\n",
       "  </tbody>\n",
       "</table>\n",
       "</div>"
      ],
      "text/plain": [
       "                 date  Appliances\n",
       "0 2016-01-11 17:00:00          60\n",
       "1 2016-01-11 17:10:00          60\n",
       "2 2016-01-11 17:20:00          50\n",
       "3 2016-01-11 17:30:00          50\n",
       "4 2016-01-11 17:40:00          60"
      ]
     },
     "execution_count": 1,
     "metadata": {},
     "output_type": "execute_result"
    }
   ],
   "source": [
    "import pandas as pd\n",
    "\n",
    "# 파일 리드\n",
    "dat_df = pd.read_csv('./datasets/energy/energy.csv', sep=',')[['date', 'Appliances']]\n",
    "\n",
    "# date를 object형에서 datetime형으로 변환\n",
    "dat_df['date'] = pd.to_datetime(dat_df['date'], format='%Y-%m-%d %H:%M:%S')\n",
    "\n",
    "# 선두에서 5행까지 표시\n",
    "dat_df.head()"
   ]
  },
  {
   "cell_type": "code",
   "execution_count": 2,
   "metadata": {},
   "outputs": [
    {
     "data": {
      "image/png": "[encoded data removed]",
      "text/plain": [
       "<Figure size 432x288 with 1 Axes>"
      ]
     },
     "metadata": {
      "needs_background": "light"
     },
     "output_type": "display_data"
    }
   ],
   "source": [
    "import matplotlib.pyplot as plt\n",
    "%matplotlib inline\n",
    "\n",
    "plt.plot(dat_df['date'], dat_df['Appliances'])\n",
    "plt.xlabel('date')\n",
    "plt.xticks(rotation=30)\n",
    "plt.ylabel('Appliances')\n",
    "plt.show()"
   ]
  },
  {
   "cell_type": "markdown",
   "metadata": {},
   "source": [
    "#### k 최근접 이웃 알고리즘에 의한 이상 검출"
   ]
  },
  {
   "cell_type": "code",
   "execution_count": 3,
   "metadata": {},
   "outputs": [
    {
     "name": "stdout",
     "output_type": "stream",
     "text": [
      "(13104, 2)\n",
      "(4320, 2)\n"
     ]
    }
   ],
   "source": [
    "# 훈련데이터로 3개월분을 추출\n",
    "train = dat_df[dat_df['date'] < '2016-04-11 17:00:00']\n",
    "print(train.shape)\n",
    "\n",
    "# 데스트 데이터로 1개월분을 추출\n",
    "test = dat_df[dat_df['date'] >= '2016-04-11 17:00:00']\n",
    "print(test.shape)"
   ]
  },
  {
   "cell_type": "code",
   "execution_count": 4,
   "metadata": {},
   "outputs": [],
   "source": [
    "# MinMaxScaler 를 로드\n",
    "from sklearn.preprocessing import MinMaxScaler\n",
    "\n",
    "# 훈련 데이터와 테스트 데이터의 범위변환\n",
    "mc = MinMaxScaler()\n",
    "train = mc.fit_transform(train[['Appliances']])\n",
    "test = mc.fit_transform(test[['Appliances']])"
   ]
  },
  {
   "cell_type": "code",
   "execution_count": 5,
   "metadata": {},
   "outputs": [
    {
     "name": "stdout",
     "output_type": "stream",
     "text": [
      "(12960, 144)\n"
     ]
    },
    {
     "data": {
      "text/html": [
       "<div>\n",
       "<style scoped>\n",
       "    .dataframe tbody tr th:only-of-type {\n",
       "        vertical-align: middle;\n",
       "    }\n",
       "\n",
       "    .dataframe tbody tr th {\n",
       "        vertical-align: top;\n",
       "    }\n",
       "\n",
       "    .dataframe thead th {\n",
       "        text-align: right;\n",
       "    }\n",
       "</style>\n",
       "<table border=\"1\" class=\"dataframe\">\n",
       "  <thead>\n",
       "    <tr style=\"text-align: right;\">\n",
       "      <th></th>\n",
       "      <th>0</th>\n",
       "      <th>1</th>\n",
       "      <th>2</th>\n",
       "      <th>3</th>\n",
       "      <th>4</th>\n",
       "      <th>5</th>\n",
       "      <th>6</th>\n",
       "      <th>7</th>\n",
       "      <th>8</th>\n",
       "      <th>9</th>\n",
       "      <th>...</th>\n",
       "      <th>134</th>\n",
       "      <th>135</th>\n",
       "      <th>136</th>\n",
       "      <th>137</th>\n",
       "      <th>138</th>\n",
       "      <th>139</th>\n",
       "      <th>140</th>\n",
       "      <th>141</th>\n",
       "      <th>142</th>\n",
       "      <th>143</th>\n",
       "    </tr>\n",
       "  </thead>\n",
       "  <tbody>\n",
       "    <tr>\n",
       "      <th>0</th>\n",
       "      <td>0.046729</td>\n",
       "      <td>0.046729</td>\n",
       "      <td>0.037383</td>\n",
       "      <td>0.037383</td>\n",
       "      <td>0.046729</td>\n",
       "      <td>0.037383</td>\n",
       "      <td>0.046729</td>\n",
       "      <td>0.046729</td>\n",
       "      <td>0.046729</td>\n",
       "      <td>0.056075</td>\n",
       "      <td>...</td>\n",
       "      <td>0.028037</td>\n",
       "      <td>0.018692</td>\n",
       "      <td>0.018692</td>\n",
       "      <td>0.018692</td>\n",
       "      <td>0.018692</td>\n",
       "      <td>0.028037</td>\n",
       "      <td>0.037383</td>\n",
       "      <td>0.028037</td>\n",
       "      <td>0.028037</td>\n",
       "      <td>0.028037</td>\n",
       "    </tr>\n",
       "    <tr>\n",
       "      <th>1</th>\n",
       "      <td>0.046729</td>\n",
       "      <td>0.037383</td>\n",
       "      <td>0.037383</td>\n",
       "      <td>0.046729</td>\n",
       "      <td>0.037383</td>\n",
       "      <td>0.046729</td>\n",
       "      <td>0.046729</td>\n",
       "      <td>0.046729</td>\n",
       "      <td>0.056075</td>\n",
       "      <td>0.205607</td>\n",
       "      <td>...</td>\n",
       "      <td>0.018692</td>\n",
       "      <td>0.018692</td>\n",
       "      <td>0.018692</td>\n",
       "      <td>0.018692</td>\n",
       "      <td>0.028037</td>\n",
       "      <td>0.037383</td>\n",
       "      <td>0.028037</td>\n",
       "      <td>0.028037</td>\n",
       "      <td>0.028037</td>\n",
       "      <td>0.046729</td>\n",
       "    </tr>\n",
       "    <tr>\n",
       "      <th>2</th>\n",
       "      <td>0.037383</td>\n",
       "      <td>0.037383</td>\n",
       "      <td>0.046729</td>\n",
       "      <td>0.037383</td>\n",
       "      <td>0.046729</td>\n",
       "      <td>0.046729</td>\n",
       "      <td>0.046729</td>\n",
       "      <td>0.056075</td>\n",
       "      <td>0.205607</td>\n",
       "      <td>0.532710</td>\n",
       "      <td>...</td>\n",
       "      <td>0.018692</td>\n",
       "      <td>0.018692</td>\n",
       "      <td>0.018692</td>\n",
       "      <td>0.028037</td>\n",
       "      <td>0.037383</td>\n",
       "      <td>0.028037</td>\n",
       "      <td>0.028037</td>\n",
       "      <td>0.028037</td>\n",
       "      <td>0.046729</td>\n",
       "      <td>0.046729</td>\n",
       "    </tr>\n",
       "    <tr>\n",
       "      <th>3</th>\n",
       "      <td>0.037383</td>\n",
       "      <td>0.046729</td>\n",
       "      <td>0.037383</td>\n",
       "      <td>0.046729</td>\n",
       "      <td>0.046729</td>\n",
       "      <td>0.046729</td>\n",
       "      <td>0.056075</td>\n",
       "      <td>0.205607</td>\n",
       "      <td>0.532710</td>\n",
       "      <td>0.392523</td>\n",
       "      <td>...</td>\n",
       "      <td>0.018692</td>\n",
       "      <td>0.018692</td>\n",
       "      <td>0.028037</td>\n",
       "      <td>0.037383</td>\n",
       "      <td>0.028037</td>\n",
       "      <td>0.028037</td>\n",
       "      <td>0.028037</td>\n",
       "      <td>0.046729</td>\n",
       "      <td>0.046729</td>\n",
       "      <td>0.186916</td>\n",
       "    </tr>\n",
       "    <tr>\n",
       "      <th>4</th>\n",
       "      <td>0.046729</td>\n",
       "      <td>0.037383</td>\n",
       "      <td>0.046729</td>\n",
       "      <td>0.046729</td>\n",
       "      <td>0.046729</td>\n",
       "      <td>0.056075</td>\n",
       "      <td>0.205607</td>\n",
       "      <td>0.532710</td>\n",
       "      <td>0.392523</td>\n",
       "      <td>0.224299</td>\n",
       "      <td>...</td>\n",
       "      <td>0.018692</td>\n",
       "      <td>0.028037</td>\n",
       "      <td>0.037383</td>\n",
       "      <td>0.028037</td>\n",
       "      <td>0.028037</td>\n",
       "      <td>0.028037</td>\n",
       "      <td>0.046729</td>\n",
       "      <td>0.046729</td>\n",
       "      <td>0.186916</td>\n",
       "      <td>0.345794</td>\n",
       "    </tr>\n",
       "  </tbody>\n",
       "</table>\n",
       "<p>5 rows × 144 columns</p>\n",
       "</div>"
      ],
      "text/plain": [
       "        0         1         2         3         4         5         6    \\\n",
       "0  0.046729  0.046729  0.037383  0.037383  0.046729  0.037383  0.046729   \n",
       "1  0.046729  0.037383  0.037383  0.046729  0.037383  0.046729  0.046729   \n",
       "2  0.037383  0.037383  0.046729  0.037383  0.046729  0.046729  0.046729   \n",
       "3  0.037383  0.046729  0.037383  0.046729  0.046729  0.046729  0.056075   \n",
       "4  0.046729  0.037383  0.046729  0.046729  0.046729  0.056075  0.205607   \n",
       "\n",
       "        7         8         9    ...       134       135       136       137  \\\n",
       "0  0.046729  0.046729  0.056075  ...  0.028037  0.018692  0.018692  0.018692   \n",
       "1  0.046729  0.056075  0.205607  ...  0.018692  0.018692  0.018692  0.018692   \n",
       "2  0.056075  0.205607  0.532710  ...  0.018692  0.018692  0.018692  0.028037   \n",
       "3  0.205607  0.532710  0.392523  ...  0.018692  0.018692  0.028037  0.037383   \n",
       "4  0.532710  0.392523  0.224299  ...  0.018692  0.028037  0.037383  0.028037   \n",
       "\n",
       "        138       139       140       141       142       143  \n",
       "0  0.018692  0.028037  0.037383  0.028037  0.028037  0.028037  \n",
       "1  0.028037  0.037383  0.028037  0.028037  0.028037  0.046729  \n",
       "2  0.037383  0.028037  0.028037  0.028037  0.046729  0.046729  \n",
       "3  0.028037  0.028037  0.028037  0.046729  0.046729  0.186916  \n",
       "4  0.028037  0.028037  0.046729  0.046729  0.186916  0.345794  \n",
       "\n",
       "[5 rows x 144 columns]"
      ]
     },
     "execution_count": 5,
     "metadata": {},
     "output_type": "execute_result"
    }
   ],
   "source": [
    "width = 144 # 슬라이드 창의 폭\n",
    "\n",
    "train = train.flatten()\n",
    "train_vec = []\n",
    "\n",
    "# 부분시계열을 추출\n",
    "for i in range(len(train)-width):\n",
    "    train_vec.append(train[i:i+width])\n",
    "\n",
    "# 부분시계열의 사이즈를 확인\n",
    "print(pd.DataFrame(train_vec).shape)\n",
    "# 부분시계열의 일부를 표시\n",
    "pd.DataFrame(train_vec).head()"
   ]
  },
  {
   "cell_type": "code",
   "execution_count": 6,
   "metadata": {},
   "outputs": [
    {
     "name": "stdout",
     "output_type": "stream",
     "text": [
      "(4176, 144)\n"
     ]
    },
    {
     "data": {
      "text/html": [
       "<div>\n",
       "<style scoped>\n",
       "    .dataframe tbody tr th:only-of-type {\n",
       "        vertical-align: middle;\n",
       "    }\n",
       "\n",
       "    .dataframe tbody tr th {\n",
       "        vertical-align: top;\n",
       "    }\n",
       "\n",
       "    .dataframe thead th {\n",
       "        text-align: right;\n",
       "    }\n",
       "</style>\n",
       "<table border=\"1\" class=\"dataframe\">\n",
       "  <thead>\n",
       "    <tr style=\"text-align: right;\">\n",
       "      <th></th>\n",
       "      <th>0</th>\n",
       "      <th>1</th>\n",
       "      <th>2</th>\n",
       "      <th>3</th>\n",
       "      <th>4</th>\n",
       "      <th>5</th>\n",
       "      <th>6</th>\n",
       "      <th>7</th>\n",
       "      <th>8</th>\n",
       "      <th>9</th>\n",
       "      <th>...</th>\n",
       "      <th>134</th>\n",
       "      <th>135</th>\n",
       "      <th>136</th>\n",
       "      <th>137</th>\n",
       "      <th>138</th>\n",
       "      <th>139</th>\n",
       "      <th>140</th>\n",
       "      <th>141</th>\n",
       "      <th>142</th>\n",
       "      <th>143</th>\n",
       "    </tr>\n",
       "  </thead>\n",
       "  <tbody>\n",
       "    <tr>\n",
       "      <th>0</th>\n",
       "      <td>0.070588</td>\n",
       "      <td>0.070588</td>\n",
       "      <td>0.341176</td>\n",
       "      <td>0.400000</td>\n",
       "      <td>0.411765</td>\n",
       "      <td>0.129412</td>\n",
       "      <td>0.082353</td>\n",
       "      <td>0.105882</td>\n",
       "      <td>0.105882</td>\n",
       "      <td>0.094118</td>\n",
       "      <td>...</td>\n",
       "      <td>0.035294</td>\n",
       "      <td>0.047059</td>\n",
       "      <td>0.047059</td>\n",
       "      <td>0.035294</td>\n",
       "      <td>0.058824</td>\n",
       "      <td>0.047059</td>\n",
       "      <td>0.047059</td>\n",
       "      <td>0.058824</td>\n",
       "      <td>0.082353</td>\n",
       "      <td>0.435294</td>\n",
       "    </tr>\n",
       "    <tr>\n",
       "      <th>1</th>\n",
       "      <td>0.070588</td>\n",
       "      <td>0.341176</td>\n",
       "      <td>0.400000</td>\n",
       "      <td>0.411765</td>\n",
       "      <td>0.129412</td>\n",
       "      <td>0.082353</td>\n",
       "      <td>0.105882</td>\n",
       "      <td>0.105882</td>\n",
       "      <td>0.094118</td>\n",
       "      <td>0.094118</td>\n",
       "      <td>...</td>\n",
       "      <td>0.047059</td>\n",
       "      <td>0.047059</td>\n",
       "      <td>0.035294</td>\n",
       "      <td>0.058824</td>\n",
       "      <td>0.047059</td>\n",
       "      <td>0.047059</td>\n",
       "      <td>0.058824</td>\n",
       "      <td>0.082353</td>\n",
       "      <td>0.435294</td>\n",
       "      <td>0.235294</td>\n",
       "    </tr>\n",
       "    <tr>\n",
       "      <th>2</th>\n",
       "      <td>0.341176</td>\n",
       "      <td>0.400000</td>\n",
       "      <td>0.411765</td>\n",
       "      <td>0.129412</td>\n",
       "      <td>0.082353</td>\n",
       "      <td>0.105882</td>\n",
       "      <td>0.105882</td>\n",
       "      <td>0.094118</td>\n",
       "      <td>0.094118</td>\n",
       "      <td>0.082353</td>\n",
       "      <td>...</td>\n",
       "      <td>0.047059</td>\n",
       "      <td>0.035294</td>\n",
       "      <td>0.058824</td>\n",
       "      <td>0.047059</td>\n",
       "      <td>0.047059</td>\n",
       "      <td>0.058824</td>\n",
       "      <td>0.082353</td>\n",
       "      <td>0.435294</td>\n",
       "      <td>0.235294</td>\n",
       "      <td>0.129412</td>\n",
       "    </tr>\n",
       "    <tr>\n",
       "      <th>3</th>\n",
       "      <td>0.400000</td>\n",
       "      <td>0.411765</td>\n",
       "      <td>0.129412</td>\n",
       "      <td>0.082353</td>\n",
       "      <td>0.105882</td>\n",
       "      <td>0.105882</td>\n",
       "      <td>0.094118</td>\n",
       "      <td>0.094118</td>\n",
       "      <td>0.082353</td>\n",
       "      <td>0.129412</td>\n",
       "      <td>...</td>\n",
       "      <td>0.035294</td>\n",
       "      <td>0.058824</td>\n",
       "      <td>0.047059</td>\n",
       "      <td>0.047059</td>\n",
       "      <td>0.058824</td>\n",
       "      <td>0.082353</td>\n",
       "      <td>0.435294</td>\n",
       "      <td>0.235294</td>\n",
       "      <td>0.129412</td>\n",
       "      <td>0.529412</td>\n",
       "    </tr>\n",
       "    <tr>\n",
       "      <th>4</th>\n",
       "      <td>0.411765</td>\n",
       "      <td>0.129412</td>\n",
       "      <td>0.082353</td>\n",
       "      <td>0.105882</td>\n",
       "      <td>0.105882</td>\n",
       "      <td>0.094118</td>\n",
       "      <td>0.094118</td>\n",
       "      <td>0.082353</td>\n",
       "      <td>0.129412</td>\n",
       "      <td>0.141176</td>\n",
       "      <td>...</td>\n",
       "      <td>0.058824</td>\n",
       "      <td>0.047059</td>\n",
       "      <td>0.047059</td>\n",
       "      <td>0.058824</td>\n",
       "      <td>0.082353</td>\n",
       "      <td>0.435294</td>\n",
       "      <td>0.235294</td>\n",
       "      <td>0.129412</td>\n",
       "      <td>0.529412</td>\n",
       "      <td>0.705882</td>\n",
       "    </tr>\n",
       "  </tbody>\n",
       "</table>\n",
       "<p>5 rows × 144 columns</p>\n",
       "</div>"
      ],
      "text/plain": [
       "        0         1         2         3         4         5         6    \\\n",
       "0  0.070588  0.070588  0.341176  0.400000  0.411765  0.129412  0.082353   \n",
       "1  0.070588  0.341176  0.400000  0.411765  0.129412  0.082353  0.105882   \n",
       "2  0.341176  0.400000  0.411765  0.129412  0.082353  0.105882  0.105882   \n",
       "3  0.400000  0.411765  0.129412  0.082353  0.105882  0.105882  0.094118   \n",
       "4  0.411765  0.129412  0.082353  0.105882  0.105882  0.094118  0.094118   \n",
       "\n",
       "        7         8         9    ...       134       135       136       137  \\\n",
       "0  0.105882  0.105882  0.094118  ...  0.035294  0.047059  0.047059  0.035294   \n",
       "1  0.105882  0.094118  0.094118  ...  0.047059  0.047059  0.035294  0.058824   \n",
       "2  0.094118  0.094118  0.082353  ...  0.047059  0.035294  0.058824  0.047059   \n",
       "3  0.094118  0.082353  0.129412  ...  0.035294  0.058824  0.047059  0.047059   \n",
       "4  0.082353  0.129412  0.141176  ...  0.058824  0.047059  0.047059  0.058824   \n",
       "\n",
       "        138       139       140       141       142       143  \n",
       "0  0.058824  0.047059  0.047059  0.058824  0.082353  0.435294  \n",
       "1  0.047059  0.047059  0.058824  0.082353  0.435294  0.235294  \n",
       "2  0.047059  0.058824  0.082353  0.435294  0.235294  0.129412  \n",
       "3  0.058824  0.082353  0.435294  0.235294  0.129412  0.529412  \n",
       "4  0.082353  0.435294  0.235294  0.129412  0.529412  0.705882  \n",
       "\n",
       "[5 rows x 144 columns]"
      ]
     },
     "execution_count": 6,
     "metadata": {},
     "output_type": "execute_result"
    }
   ],
   "source": [
    "# 연습문제7\n",
    "test = test.flatten()\n",
    "test_vec = []\n",
    "\n",
    "# 부분시계열을 추출\n",
    "for i in range(len(test)-width):\n",
    "    test_vec.append(test[i:i+width])\n",
    "\n",
    "# 부분시계열의 사이즈를 확인\n",
    "print(pd.DataFrame(test_vec).shape)\n",
    "# 부분시계열의 일부를 표시\n",
    "pd.DataFrame(test_vec).head()"
   ]
  },
  {
   "cell_type": "code",
   "execution_count": 7,
   "metadata": {},
   "outputs": [
    {
     "data": {
      "image/png": "[encoded data removed]",
      "text/plain": [
       "<Figure size 432x288 with 1 Axes>"
      ]
     },
     "metadata": {
      "needs_background": "light"
     },
     "output_type": "display_data"
    }
   ],
   "source": [
    "from sklearn.neighbors import NearestNeighbors\n",
    "import numpy as np\n",
    "\n",
    "# Numpy 배열의 변환\n",
    "train_vec = np.array(train_vec)\n",
    "test_vec = np.array(test_vec)\n",
    "\n",
    "# k=1의 최근접 이웃 모델을 작성\n",
    "model = NearestNeighbors(n_neighbors=1)\n",
    "model.fit(train_vec)\n",
    "\n",
    "# 모델을 테스트 데이터에 적용\n",
    "dist, _ = model.kneighbors(test_vec)\n",
    "dist = dist / np.max(dist)\n",
    "\n",
    "# 이상 스코어의 가시화\n",
    "plt.plot(dist)\n",
    "plt.show()"
   ]
  },
  {
   "cell_type": "markdown",
   "metadata": {},
   "source": [
    "#### 오토 인코더에 의한 이상 검출"
   ]
  },
  {
   "cell_type": "code",
   "execution_count": 8,
   "metadata": {},
   "outputs": [
    {
     "name": "stdout",
     "output_type": "stream",
     "text": [
      "Collecting keras\n",
      "  Downloading Keras-2.4.3-py2.py3-none-any.whl (36 kB)\n",
      "Collecting pyyaml\n",
      "  Using cached PyYAML-5.3.1.tar.gz (269 kB)\n",
      "Requirement already satisfied: scipy>=0.14 in /Users/hawk90/.pyenv/versions/3.6.10/envs/Workspace/lib/python3.6/site-packages (from keras) (1.5.4)\n",
      "Requirement already satisfied: numpy>=1.9.1 in /Users/hawk90/.pyenv/versions/3.6.10/envs/Workspace/lib/python3.6/site-packages (from keras) (1.19.4)\n",
      "Requirement already satisfied: h5py in /Users/hawk90/.pyenv/versions/3.6.10/envs/Workspace/lib/python3.6/site-packages (from keras) (3.1.0)\n",
      "Requirement already satisfied: cached-property; python_version < \"3.8\" in /Users/hawk90/.pyenv/versions/3.6.10/envs/Workspace/lib/python3.6/site-packages (from h5py->keras) (1.5.2)\n",
      "Building wheels for collected packages: pyyaml\n",
      "  Building wheel for pyyaml (setup.py) ... \u001b[?25ldone\n",
      "\u001b[?25h  Created wheel for pyyaml: filename=PyYAML-5.3.1-cp36-cp36m-macosx_10_15_x86_64.whl size=150335 sha256=bdab089937795c7c7f2f561f8fac51f72dcae52fb0955c010858dfe39049feb4\n",
      "  Stored in directory: /Users/hawk90/Library/Caches/pip/wheels/e5/9d/ad/2ee53cf262cba1ffd8afe1487eef788ea3f260b7e6232a80fc\n",
      "Successfully built pyyaml\n",
      "Installing collected packages: pyyaml, keras\n",
      "Successfully installed keras-2.4.3 pyyaml-5.3.1\n"
     ]
    }
   ],
   "source": [
    "!pip install keras"
   ]
  },
  {
   "cell_type": "code",
   "execution_count": 9,
   "metadata": {},
   "outputs": [
    {
     "name": "stdout",
     "output_type": "stream",
     "text": [
      "Model: \"sequential\"\n",
      "_________________________________________________________________\n",
      "Layer (type)                 Output Shape              Param #   \n",
      "=================================================================\n",
      "dense (Dense)                (None, 128)               18560     \n",
      "_________________________________________________________________\n",
      "dense_1 (Dense)              (None, 64)                8256      \n",
      "_________________________________________________________________\n",
      "dense_2 (Dense)              (None, 32)                2080      \n",
      "_________________________________________________________________\n",
      "dense_3 (Dense)              (None, 64)                2112      \n",
      "_________________________________________________________________\n",
      "dense_4 (Dense)              (None, 128)               8320      \n",
      "_________________________________________________________________\n",
      "dense_5 (Dense)              (None, 144)               18576     \n",
      "=================================================================\n",
      "Total params: 57,904\n",
      "Trainable params: 57,904\n",
      "Non-trainable params: 0\n",
      "_________________________________________________________________\n"
     ]
    }
   ],
   "source": [
    "# keras 를 로드\n",
    "from keras.models import Sequential\n",
    "from keras.layers import Dense\n",
    "\n",
    "model = Sequential()\n",
    "# 인코드\n",
    "model.add(Dense(128, activation='relu', input_shape=(144,)))\n",
    "model.add(Dense(64, activation='relu'))\n",
    "model.add(Dense(32, activation='relu'))\n",
    "# 디코드\n",
    "model.add(Dense(64, activation='relu'))\n",
    "model.add(Dense(128, activation='relu'))\n",
    "# 출력층\n",
    "model.add(Dense(144, activation='sigmoid'))\n",
    "\n",
    "# 작성한 네트워크의 확인\n",
    "model.summary()"
   ]
  },
  {
   "cell_type": "code",
   "execution_count": 10,
   "metadata": {},
   "outputs": [
    {
     "name": "stdout",
     "output_type": "stream",
     "text": [
      "Epoch 1/20\n",
      "81/81 [==============================] - 2s 21ms/step - loss: 0.0477 - val_loss: 0.0169\n",
      "Epoch 2/20\n",
      "81/81 [==============================] - 1s 8ms/step - loss: 0.0167 - val_loss: 0.0169\n",
      "Epoch 3/20\n",
      "81/81 [==============================] - 1s 6ms/step - loss: 0.0167 - val_loss: 0.0166\n",
      "Epoch 4/20\n",
      "81/81 [==============================] - 1s 8ms/step - loss: 0.0152 - val_loss: 0.0143\n",
      "Epoch 5/20\n",
      "81/81 [==============================] - 1s 8ms/step - loss: 0.0113 - val_loss: 0.0086\n",
      "Epoch 6/20\n",
      "81/81 [==============================] - 1s 7ms/step - loss: 0.0089 - val_loss: 0.0069\n",
      "Epoch 7/20\n",
      "81/81 [==============================] - 1s 8ms/step - loss: 0.0074 - val_loss: 0.0056\n",
      "Epoch 8/20\n",
      "81/81 [==============================] - 1s 7ms/step - loss: 0.0069 - val_loss: 0.0054\n",
      "Epoch 9/20\n",
      "81/81 [==============================] - 1s 8ms/step - loss: 0.0065 - val_loss: 0.0053\n",
      "Epoch 10/20\n",
      "81/81 [==============================] - 1s 8ms/step - loss: 0.0063 - val_loss: 0.0052\n",
      "Epoch 11/20\n",
      "81/81 [==============================] - 1s 8ms/step - loss: 0.0060 - val_loss: 0.0050\n",
      "Epoch 12/20\n",
      "81/81 [==============================] - 1s 7ms/step - loss: 0.0057 - val_loss: 0.0047\n",
      "Epoch 13/20\n",
      "81/81 [==============================] - 1s 7ms/step - loss: 0.0054 - val_loss: 0.0045\n",
      "Epoch 14/20\n",
      "81/81 [==============================] - 1s 6ms/step - loss: 0.0051 - val_loss: 0.0044\n",
      "Epoch 15/20\n",
      "81/81 [==============================] - 0s 6ms/step - loss: 0.0049 - val_loss: 0.0043\n",
      "Epoch 16/20\n",
      "81/81 [==============================] - 1s 7ms/step - loss: 0.0048 - val_loss: 0.0042\n",
      "Epoch 17/20\n",
      "81/81 [==============================] - 1s 8ms/step - loss: 0.0046 - val_loss: 0.0041\n",
      "Epoch 18/20\n",
      "81/81 [==============================] - 1s 8ms/step - loss: 0.0045 - val_loss: 0.0040\n",
      "Epoch 19/20\n",
      "81/81 [==============================] - 1s 7ms/step - loss: 0.0043 - val_loss: 0.0039\n",
      "Epoch 20/20\n",
      "81/81 [==============================] - 1s 10ms/step - loss: 0.0042 - val_loss: 0.0038\n"
     ]
    }
   ],
   "source": [
    "# 학습조건의 설정, 오차함수 = 평균제곱오차, 최적화방법 = Adam\n",
    "model.compile(loss='mse', optimizer='adam')\n",
    "\n",
    "# 학습의 실행\n",
    "hist = model.fit(train_vec, train_vec, batch_size=128, \n",
    "                 verbose=1, epochs=20, validation_split=0.2)"
   ]
  },
  {
   "cell_type": "code",
   "execution_count": 11,
   "metadata": {},
   "outputs": [
    {
     "data": {
      "image/png": "[encoded data removed]",
      "text/plain": [
       "<Figure size 432x288 with 1 Axes>"
      ]
     },
     "metadata": {
      "needs_background": "light"
     },
     "output_type": "display_data"
    }
   ],
   "source": [
    "# 오차의 수렴상태를 플로트\n",
    "plt.plot(hist.history['loss'], label='loss')\n",
    "plt.plot(hist.history['val_loss'], label='val_loss')\n",
    "plt.ylabel('loss')\n",
    "plt.xlabel('epoch')\n",
    "plt.legend()\n",
    "plt.show()"
   ]
  },
  {
   "cell_type": "code",
   "execution_count": 12,
   "metadata": {},
   "outputs": [
    {
     "data": {
      "image/png": "[encoded data removed]",
      "text/plain": [
       "<Figure size 432x288 with 1 Axes>"
      ]
     },
     "metadata": {
      "needs_background": "light"
     },
     "output_type": "display_data"
    }
   ],
   "source": [
    "# 모델을 테스트 데이터에 적용\n",
    "pred = model.predict(test_vec)\n",
    "\n",
    "# 테스트 데이터와 출력 데이터의 가시화\n",
    "plt.plot(test_vec[:,0], label='test')\n",
    "plt.plot(pred[:,0], label='pred')\n",
    "plt.legend()\n",
    "plt.show()"
   ]
  },
  {
   "cell_type": "code",
   "execution_count": 13,
   "metadata": {},
   "outputs": [
    {
     "data": {
      "image/png": "[encoded data removed]",
      "text/plain": [
       "<Figure size 432x288 with 1 Axes>"
      ]
     },
     "metadata": {
      "needs_background": "light"
     },
     "output_type": "display_data"
    }
   ],
   "source": [
    "# 예측오차(이상 스코어)의 계산\n",
    "dist = test_vec[:,0] - pred[:,0]\n",
    "dist = pow(dist, 2)\n",
    "dist = dist / np.max(dist)\n",
    "\n",
    "# 이상 스코어를 가시화\n",
    "plt.plot(dist)\n",
    "plt.show()"
   ]
  }
 ],
 "metadata": {
  "kernelspec": {
   "display_name": "Python 3",
   "language": "python",
   "name": "python3"
  },
  "language_info": {
   "codemirror_mode": {
    "name": "ipython",
    "version": 3
   },
   "file_extension": ".py",
   "mimetype": "text/x-python",
   "name": "python",
   "nbconvert_exporter": "python",
   "pygments_lexer": "ipython3",
   "version": "3.6.10"
  }
 },
 "nbformat": 4,
 "nbformat_minor": 4
}
