{
 "cells": [
  {
   "cell_type": "code",
   "execution_count": 1,
   "metadata": {},
   "outputs": [
    {
     "name": "stdout",
     "output_type": "stream",
     "text": [
      "Requirement already satisfied: selenium in /Users/hawk90/.pyenv/versions/3.6.10/envs/Workspace/lib/python3.6/site-packages (3.141.0)\r\n",
      "Requirement already satisfied: urllib3 in /Users/hawk90/.pyenv/versions/3.6.10/envs/Workspace/lib/python3.6/site-packages (from selenium) (1.25.11)\r\n"
     ]
    }
   ],
   "source": [
    "!pip install selenium"
   ]
  },
  {
   "cell_type": "markdown",
   "metadata": {},
   "source": [
    "find_element_by_id <br />\n",
    "find_element_by_class_name <br />\n",
    "find_element_by_xpath <br />\n",
    "find_element_by_tag_name <br />\n",
    "find_elements_by_css_selector <br />"
   ]
  },
  {
   "cell_type": "markdown",
   "metadata": {},
   "source": [
    "### 네이버 뉴스 크롤링"
   ]
  },
  {
   "cell_type": "code",
   "execution_count": 2,
   "metadata": {},
   "outputs": [],
   "source": [
    "from selenium import webdriver\n",
    "chrome = webdriver.Chrome('./chromedriver')      # 크롬 드라이버 로드\n",
    "chrome.get(\"http://news.naver.com/main/home.nhn\")"
   ]
  },
  {
   "cell_type": "code",
   "execution_count": 3,
   "metadata": {},
   "outputs": [],
   "source": [
    "things = chrome.find_elements_by_css_selector(\".mlist2.no_bg\") # '이 시각 주요뉴스'의 엘리먼트를 수집 (복수)"
   ]
  },
  {
   "cell_type": "code",
   "execution_count": 4,
   "metadata": {},
   "outputs": [
    {
     "name": "stdout",
     "output_type": "stream",
     "text": [
      "특활비 공방…秋 “검찰총장 쌈짓돈 50억” VS 野 “단정짓지 말라” 동영상기사 KBS\n",
      "김해신공항 검증 결과 내일 발표…확장 사실상 폐기? 동영상기사 KBS\n",
      "\"노무현 공항으로 하자\"…또 표계산에 휘둘리는 가덕도 신공항 포토 중앙일보\n",
      "유승민에 힘 실어준 김종인…'당내 후보 띄우기' 본격화 포토 뉴스1\n",
      "文 대통령, 이르면 이달말 1차 개각 단행...강경화·김현미 유임 유력 포토 서울신문\n",
      "세계 최대 RCEP 체결…대구·경북 수출기업 ‘청신호’ 동영상기사 KBS\n",
      "구미 해평습지 야생조류서 H7N7형 AI항원 검출…고병원성 확인중(종합) 포토 연합뉴스\n",
      "“10년새 대-중소기업 임금격차 줄었지만 과제는 늘었죠” 포토 한겨레\n",
      "산은의 복잡한 지분 출자 셈법…주주반발·자금조달 등 첩첩산중 포토 한겨레\n",
      "창원 30평 10억 육박···'풍선효과’에 지방 중소도시 들썩 포토 서울경제\n",
      "보건소 여직원 껴안은 포천 50대女 확진자, 영장 기각 포토 중앙일보\n",
      "[단독] 철로에 매달린 휠체어 노인, 몸 던져 구조한 환경미화원 포토 부산일보\n",
      "심판대 오른 '8촌 이내 결혼 금지'... 근친혼의 정치학 포토 오마이뉴스\n",
      "대학병원 ‘동일집단 격리’…지역감염 확산세 지속 동영상기사 KBS\n",
      "정부 내일 수도권·강원 거리두기 격상 여부 확정안 발표 동영상기사 KBS\n",
      "황금알 `플라잉카` 시장 뛰어든 車기업 포토 디지털타임스\n",
      "한국지엠 노조, 나흘간 부분 파업 돌입…'총력투쟁' 선언 포토 이데일리\n",
      "사흘째 쌓인 초미세먼지...내일 낮까지 계속 동영상기사 YTN\n",
      "신천지 탈퇴자 \"신도들 사이서 이만희는 하나님과 같아\" 포토 연합뉴스\n",
      "[영상] 코로나 방역 어쩌나…이슬람 지도자 딸 결혼식에 1만명 운집 포토 연합뉴스\n",
      "대서양에 올해 벌써 30차례 허리케인…배후엔 기후변화 포토 연합뉴스\n",
      "코로나에 '죽을 고비' 넘겼던 영국 존슨, 확진자 접촉에 또 격리(종합) 포토 연합뉴스\n",
      "다시 탁해진 중국 공기...수도권 54개 도시 오염 경보 동영상기사 YTN\n",
      "中 대학 강의서 BTS 검열 주장 논란 포토 파이낸셜뉴스\n",
      "세상에서 제일 비싼 비둘기…21억원에 중국인이 낙찰 포토 아시아경제\n",
      "삼성전자 5대 매출처, 화웨이 빠지고 여기가 떴다 포토 조선일보\n",
      "\"성범죄자 차단\" 고영욱·정준영·최종훈 인스타그램 막혔다 포토 머니투데이\n",
      "트럼프 물러나지만...웃지 못하는 中 화웨이 포토 디지털타임스\n",
      "“아이폰12 역대급 호황? 파리만 날려요ㅠㅠ” [IT선빵!] 포토 헤럴드경제\n",
      "끝모를 코로나19 확산 미국·유럽 의료시스템이 무너지고 있다 포토 동아사이언스\n"
     ]
    }
   ],
   "source": [
    "for thing in things :   # for문으로 thing(원하는 것)만 추출\n",
    "    print(thing.text)   # text화 후 출력"
   ]
  },
  {
   "cell_type": "code",
   "execution_count": 5,
   "metadata": {},
   "outputs": [
    {
     "name": "stdout",
     "output_type": "stream",
     "text": [
      "<selenium.webdriver.remote.webelement.WebElement (session=\"a83738d915603c08204921f1085e7702\", element=\"6bd2f42c-1262-4952-b0c4-8c97c368965b\")>\n",
      "\n",
      "\n",
      "<selenium.webdriver.remote.webelement.WebElement (session=\"a83738d915603c08204921f1085e7702\", element=\"ba67f707-ba06-4894-8f71-e799cccc0b6b\")>\n",
      "\n",
      "\n",
      "<selenium.webdriver.remote.webelement.WebElement (session=\"a83738d915603c08204921f1085e7702\", element=\"bc8e3a19-1fa1-4143-9674-8cf8deac70c5\")>\n",
      "\n",
      "\n",
      "<selenium.webdriver.remote.webelement.WebElement (session=\"a83738d915603c08204921f1085e7702\", element=\"5ec37292-07d4-498e-bafb-8f77239c53e0\")>\n",
      "\n",
      "\n",
      "<selenium.webdriver.remote.webelement.WebElement (session=\"a83738d915603c08204921f1085e7702\", element=\"72399497-2745-4cc8-acbf-b2412be989c4\")>\n",
      "\n",
      "\n",
      "<selenium.webdriver.remote.webelement.WebElement (session=\"a83738d915603c08204921f1085e7702\", element=\"9f09c4bf-1d2a-4cd0-a56c-f9bdb3ddf925\")>\n",
      "\n",
      "\n"
     ]
    }
   ],
   "source": [
    "for thing in things :   # for문으로 thing(원하는 것)만 추출\n",
    "    print(str(thing)+\"\\n\\n\")"
   ]
  },
  {
   "cell_type": "code",
   "execution_count": 6,
   "metadata": {},
   "outputs": [],
   "source": [
    "chrome.get(\"file:///Users/hawk90/Desktop/Syllabus%20_%20CS%20231N.htm\")"
   ]
  },
  {
   "cell_type": "code",
   "execution_count": 7,
   "metadata": {},
   "outputs": [
    {
     "name": "stdout",
     "output_type": "stream",
     "text": [
      "<selenium.webdriver.remote.webelement.WebElement (session=\"a83738d915603c08204921f1085e7702\", element=\"c913a3e0-59a7-48e7-a8ca-e2e9d90a10f7\")>\n",
      "<selenium.webdriver.remote.webelement.WebElement (session=\"a83738d915603c08204921f1085e7702\", element=\"823f3a69-8a84-4b0e-a092-0de99b27577f\")>\n"
     ]
    }
   ],
   "source": [
    "table = chrome.find_element_by_class_name('table')\n",
    "print(table)\n",
    "tbody = table.find_element_by_tag_name('tbody')\n",
    "print(tbody)"
   ]
  },
  {
   "cell_type": "code",
   "execution_count": 8,
   "metadata": {},
   "outputs": [
    {
     "name": "stdout",
     "output_type": "stream",
     "text": [
      "<selenium.webdriver.remote.webelement.WebElement (session=\"a83738d915603c08204921f1085e7702\", element=\"823f3a69-8a84-4b0e-a092-0de99b27577f\")>\n"
     ]
    }
   ],
   "source": [
    "tbody.find_element_by_tag_name(\"tr\")\n",
    "print(tbody)"
   ]
  },
  {
   "cell_type": "code",
   "execution_count": 9,
   "metadata": {},
   "outputs": [],
   "source": [
    "tbody = chrome.find_element_by_xpath(\"//table/tbody\").get_attribute('outerHTML')"
   ]
  },
  {
   "cell_type": "code",
   "execution_count": 10,
   "metadata": {},
   "outputs": [
    {
     "name": "stdout",
     "output_type": "stream",
     "text": [
      "Requirement already satisfied: html5lib in /Users/hawk90/.pyenv/versions/3.6.10/envs/Workspace/lib/python3.6/site-packages (1.1)\r\n",
      "Requirement already satisfied: six>=1.9 in /Users/hawk90/.pyenv/versions/3.6.10/envs/Workspace/lib/python3.6/site-packages (from html5lib) (1.15.0)\r\n",
      "Requirement already satisfied: webencodings in /Users/hawk90/.pyenv/versions/3.6.10/envs/Workspace/lib/python3.6/site-packages (from html5lib) (0.5.1)\r\n"
     ]
    }
   ],
   "source": [
    "!pip install html5lib"
   ]
  },
  {
   "cell_type": "code",
   "execution_count": 11,
   "metadata": {},
   "outputs": [
    {
     "ename": "ValueError",
     "evalue": "No tables found",
     "output_type": "error",
     "traceback": [
      "\u001b[0;31m---------------------------------------------------------------------------\u001b[0m",
      "\u001b[0;31mValueError\u001b[0m                                Traceback (most recent call last)",
      "\u001b[0;32m<ipython-input-11-be06db48e769>\u001b[0m in \u001b[0;36m<module>\u001b[0;34m\u001b[0m\n\u001b[1;32m      2\u001b[0m \u001b[0;32mfrom\u001b[0m \u001b[0mbs4\u001b[0m \u001b[0;32mimport\u001b[0m \u001b[0mBeautifulSoup\u001b[0m\u001b[0;34m\u001b[0m\u001b[0;34m\u001b[0m\u001b[0m\n\u001b[1;32m      3\u001b[0m \u001b[0;32mimport\u001b[0m \u001b[0mpandas\u001b[0m \u001b[0;32mas\u001b[0m \u001b[0mpd\u001b[0m\u001b[0;34m\u001b[0m\u001b[0;34m\u001b[0m\u001b[0m\n\u001b[0;32m----> 4\u001b[0;31m \u001b[0mdf\u001b[0m \u001b[0;34m=\u001b[0m \u001b[0mpd\u001b[0m\u001b[0;34m.\u001b[0m\u001b[0mread_html\u001b[0m\u001b[0;34m(\u001b[0m\u001b[0mtbody\u001b[0m\u001b[0;34m)\u001b[0m\u001b[0;34m\u001b[0m\u001b[0;34m\u001b[0m\u001b[0m\n\u001b[0m",
      "\u001b[0;32m~/.pyenv/versions/3.6.10/envs/Workspace/lib/python3.6/site-packages/pandas/util/_decorators.py\u001b[0m in \u001b[0;36mwrapper\u001b[0;34m(*args, **kwargs)\u001b[0m\n\u001b[1;32m    294\u001b[0m                 )\n\u001b[1;32m    295\u001b[0m                 \u001b[0mwarnings\u001b[0m\u001b[0;34m.\u001b[0m\u001b[0mwarn\u001b[0m\u001b[0;34m(\u001b[0m\u001b[0mmsg\u001b[0m\u001b[0;34m,\u001b[0m \u001b[0mFutureWarning\u001b[0m\u001b[0;34m,\u001b[0m \u001b[0mstacklevel\u001b[0m\u001b[0;34m=\u001b[0m\u001b[0mstacklevel\u001b[0m\u001b[0;34m)\u001b[0m\u001b[0;34m\u001b[0m\u001b[0;34m\u001b[0m\u001b[0m\n\u001b[0;32m--> 296\u001b[0;31m             \u001b[0;32mreturn\u001b[0m \u001b[0mfunc\u001b[0m\u001b[0;34m(\u001b[0m\u001b[0;34m*\u001b[0m\u001b[0margs\u001b[0m\u001b[0;34m,\u001b[0m \u001b[0;34m**\u001b[0m\u001b[0mkwargs\u001b[0m\u001b[0;34m)\u001b[0m\u001b[0;34m\u001b[0m\u001b[0;34m\u001b[0m\u001b[0m\n\u001b[0m\u001b[1;32m    297\u001b[0m \u001b[0;34m\u001b[0m\u001b[0m\n\u001b[1;32m    298\u001b[0m         \u001b[0;32mreturn\u001b[0m \u001b[0mwrapper\u001b[0m\u001b[0;34m\u001b[0m\u001b[0;34m\u001b[0m\u001b[0m\n",
      "\u001b[0;32m~/.pyenv/versions/3.6.10/envs/Workspace/lib/python3.6/site-packages/pandas/io/html.py\u001b[0m in \u001b[0;36mread_html\u001b[0;34m(io, match, flavor, header, index_col, skiprows, attrs, parse_dates, thousands, encoding, decimal, converters, na_values, keep_default_na, displayed_only)\u001b[0m\n\u001b[1;32m   1099\u001b[0m         \u001b[0mna_values\u001b[0m\u001b[0;34m=\u001b[0m\u001b[0mna_values\u001b[0m\u001b[0;34m,\u001b[0m\u001b[0;34m\u001b[0m\u001b[0;34m\u001b[0m\u001b[0m\n\u001b[1;32m   1100\u001b[0m         \u001b[0mkeep_default_na\u001b[0m\u001b[0;34m=\u001b[0m\u001b[0mkeep_default_na\u001b[0m\u001b[0;34m,\u001b[0m\u001b[0;34m\u001b[0m\u001b[0;34m\u001b[0m\u001b[0m\n\u001b[0;32m-> 1101\u001b[0;31m         \u001b[0mdisplayed_only\u001b[0m\u001b[0;34m=\u001b[0m\u001b[0mdisplayed_only\u001b[0m\u001b[0;34m,\u001b[0m\u001b[0;34m\u001b[0m\u001b[0;34m\u001b[0m\u001b[0m\n\u001b[0m\u001b[1;32m   1102\u001b[0m     )\n",
      "\u001b[0;32m~/.pyenv/versions/3.6.10/envs/Workspace/lib/python3.6/site-packages/pandas/io/html.py\u001b[0m in \u001b[0;36m_parse\u001b[0;34m(flavor, io, match, attrs, encoding, displayed_only, **kwargs)\u001b[0m\n\u001b[1;32m    915\u001b[0m             \u001b[0;32mbreak\u001b[0m\u001b[0;34m\u001b[0m\u001b[0;34m\u001b[0m\u001b[0m\n\u001b[1;32m    916\u001b[0m     \u001b[0;32melse\u001b[0m\u001b[0;34m:\u001b[0m\u001b[0;34m\u001b[0m\u001b[0;34m\u001b[0m\u001b[0m\n\u001b[0;32m--> 917\u001b[0;31m         \u001b[0;32mraise\u001b[0m \u001b[0mretained\u001b[0m\u001b[0;34m\u001b[0m\u001b[0;34m\u001b[0m\u001b[0m\n\u001b[0m\u001b[1;32m    918\u001b[0m \u001b[0;34m\u001b[0m\u001b[0m\n\u001b[1;32m    919\u001b[0m     \u001b[0mret\u001b[0m \u001b[0;34m=\u001b[0m \u001b[0;34m[\u001b[0m\u001b[0;34m]\u001b[0m\u001b[0;34m\u001b[0m\u001b[0;34m\u001b[0m\u001b[0m\n",
      "\u001b[0;32m~/.pyenv/versions/3.6.10/envs/Workspace/lib/python3.6/site-packages/pandas/io/html.py\u001b[0m in \u001b[0;36m_parse\u001b[0;34m(flavor, io, match, attrs, encoding, displayed_only, **kwargs)\u001b[0m\n\u001b[1;32m    896\u001b[0m \u001b[0;34m\u001b[0m\u001b[0m\n\u001b[1;32m    897\u001b[0m         \u001b[0;32mtry\u001b[0m\u001b[0;34m:\u001b[0m\u001b[0;34m\u001b[0m\u001b[0;34m\u001b[0m\u001b[0m\n\u001b[0;32m--> 898\u001b[0;31m             \u001b[0mtables\u001b[0m \u001b[0;34m=\u001b[0m \u001b[0mp\u001b[0m\u001b[0;34m.\u001b[0m\u001b[0mparse_tables\u001b[0m\u001b[0;34m(\u001b[0m\u001b[0;34m)\u001b[0m\u001b[0;34m\u001b[0m\u001b[0;34m\u001b[0m\u001b[0m\n\u001b[0m\u001b[1;32m    899\u001b[0m         \u001b[0;32mexcept\u001b[0m \u001b[0mValueError\u001b[0m \u001b[0;32mas\u001b[0m \u001b[0mcaught\u001b[0m\u001b[0;34m:\u001b[0m\u001b[0;34m\u001b[0m\u001b[0;34m\u001b[0m\u001b[0m\n\u001b[1;32m    900\u001b[0m             \u001b[0;31m# if `io` is an io-like object, check if it's seekable\u001b[0m\u001b[0;34m\u001b[0m\u001b[0;34m\u001b[0m\u001b[0;34m\u001b[0m\u001b[0m\n",
      "\u001b[0;32m~/.pyenv/versions/3.6.10/envs/Workspace/lib/python3.6/site-packages/pandas/io/html.py\u001b[0m in \u001b[0;36mparse_tables\u001b[0;34m(self)\u001b[0m\n\u001b[1;32m    215\u001b[0m         \u001b[0mlist\u001b[0m \u001b[0mof\u001b[0m \u001b[0mparsed\u001b[0m \u001b[0;34m(\u001b[0m\u001b[0mheader\u001b[0m\u001b[0;34m,\u001b[0m \u001b[0mbody\u001b[0m\u001b[0;34m,\u001b[0m \u001b[0mfooter\u001b[0m\u001b[0;34m)\u001b[0m \u001b[0mtuples\u001b[0m \u001b[0;32mfrom\u001b[0m \u001b[0mtables\u001b[0m\u001b[0;34m.\u001b[0m\u001b[0;34m\u001b[0m\u001b[0;34m\u001b[0m\u001b[0m\n\u001b[1;32m    216\u001b[0m         \"\"\"\n\u001b[0;32m--> 217\u001b[0;31m         \u001b[0mtables\u001b[0m \u001b[0;34m=\u001b[0m \u001b[0mself\u001b[0m\u001b[0;34m.\u001b[0m\u001b[0m_parse_tables\u001b[0m\u001b[0;34m(\u001b[0m\u001b[0mself\u001b[0m\u001b[0;34m.\u001b[0m\u001b[0m_build_doc\u001b[0m\u001b[0;34m(\u001b[0m\u001b[0;34m)\u001b[0m\u001b[0;34m,\u001b[0m \u001b[0mself\u001b[0m\u001b[0;34m.\u001b[0m\u001b[0mmatch\u001b[0m\u001b[0;34m,\u001b[0m \u001b[0mself\u001b[0m\u001b[0;34m.\u001b[0m\u001b[0mattrs\u001b[0m\u001b[0;34m)\u001b[0m\u001b[0;34m\u001b[0m\u001b[0;34m\u001b[0m\u001b[0m\n\u001b[0m\u001b[1;32m    218\u001b[0m         \u001b[0;32mreturn\u001b[0m \u001b[0;34m(\u001b[0m\u001b[0mself\u001b[0m\u001b[0;34m.\u001b[0m\u001b[0m_parse_thead_tbody_tfoot\u001b[0m\u001b[0;34m(\u001b[0m\u001b[0mtable\u001b[0m\u001b[0;34m)\u001b[0m \u001b[0;32mfor\u001b[0m \u001b[0mtable\u001b[0m \u001b[0;32min\u001b[0m \u001b[0mtables\u001b[0m\u001b[0;34m)\u001b[0m\u001b[0;34m\u001b[0m\u001b[0;34m\u001b[0m\u001b[0m\n\u001b[1;32m    219\u001b[0m \u001b[0;34m\u001b[0m\u001b[0m\n",
      "\u001b[0;32m~/.pyenv/versions/3.6.10/envs/Workspace/lib/python3.6/site-packages/pandas/io/html.py\u001b[0m in \u001b[0;36m_parse_tables\u001b[0;34m(self, doc, match, attrs)\u001b[0m\n\u001b[1;32m    545\u001b[0m \u001b[0;34m\u001b[0m\u001b[0m\n\u001b[1;32m    546\u001b[0m         \u001b[0;32mif\u001b[0m \u001b[0;32mnot\u001b[0m \u001b[0mtables\u001b[0m\u001b[0;34m:\u001b[0m\u001b[0;34m\u001b[0m\u001b[0;34m\u001b[0m\u001b[0m\n\u001b[0;32m--> 547\u001b[0;31m             \u001b[0;32mraise\u001b[0m \u001b[0mValueError\u001b[0m\u001b[0;34m(\u001b[0m\u001b[0;34m\"No tables found\"\u001b[0m\u001b[0;34m)\u001b[0m\u001b[0;34m\u001b[0m\u001b[0;34m\u001b[0m\u001b[0m\n\u001b[0m\u001b[1;32m    548\u001b[0m \u001b[0;34m\u001b[0m\u001b[0m\n\u001b[1;32m    549\u001b[0m         \u001b[0mresult\u001b[0m \u001b[0;34m=\u001b[0m \u001b[0;34m[\u001b[0m\u001b[0;34m]\u001b[0m\u001b[0;34m\u001b[0m\u001b[0;34m\u001b[0m\u001b[0m\n",
      "\u001b[0;31mValueError\u001b[0m: No tables found"
     ]
    }
   ],
   "source": [
    "import html5lib\n",
    "from bs4 import BeautifulSoup\n",
    "import pandas as pd\n",
    "df = pd.read_html(tbody)"
   ]
  },
  {
   "cell_type": "code",
   "execution_count": null,
   "metadata": {},
   "outputs": [],
   "source": []
  }
 ],
 "metadata": {
  "kernelspec": {
   "display_name": "Python 3",
   "language": "python",
   "name": "python3"
  },
  "language_info": {
   "codemirror_mode": {
    "name": "ipython",
    "version": 3
   },
   "file_extension": ".py",
   "mimetype": "text/x-python",
   "name": "python",
   "nbconvert_exporter": "python",
   "pygments_lexer": "ipython3",
   "version": "3.6.10"
  }
 },
 "nbformat": 4,
 "nbformat_minor": 4
}
