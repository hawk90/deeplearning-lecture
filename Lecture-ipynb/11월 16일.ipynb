{
 "cells": [
  {
   "cell_type": "code",
   "execution_count": 1,
   "metadata": {},
   "outputs": [
    {
     "name": "stdout",
     "output_type": "stream",
     "text": [
      "Requirement already satisfied: selenium in /Users/hawk90/.pyenv/versions/3.6.10/envs/Workspace/lib/python3.6/site-packages (3.141.0)\r\n",
      "Requirement already satisfied: urllib3 in /Users/hawk90/.pyenv/versions/3.6.10/envs/Workspace/lib/python3.6/site-packages (from selenium) (1.25.11)\r\n"
     ]
    }
   ],
   "source": [
    "!pip install selenium"
   ]
  },
  {
   "cell_type": "markdown",
   "metadata": {},
   "source": [
    "find_element_by_id <br />\n",
    "find_element_by_class_name <br />\n",
    "find_element_by_xpath <br />\n",
    "find_element_by_tag_name <br />\n",
    "find_elements_by_css_selector <br />"
   ]
  },
  {
   "cell_type": "markdown",
   "metadata": {},
   "source": [
    "### 네이버 뉴스 크롤링"
   ]
  },
  {
   "cell_type": "code",
   "execution_count": 2,
   "metadata": {},
   "outputs": [],
   "source": [
    "from selenium import webdriver\n",
    "chrome = webdriver.Chrome('./chromedriver')      # 크롬 드라이버 로드\n",
    "chrome.get(\"http://news.naver.com/main/home.nhn\")"
   ]
  },
  {
   "cell_type": "code",
   "execution_count": 3,
   "metadata": {},
   "outputs": [],
   "source": [
    "things = chrome.find_elements_by_css_selector(\".mlist2.no_bg\") # '이 시각 주요뉴스'의 엘리먼트를 수집 (복수)"
   ]
  },
  {
   "cell_type": "code",
   "execution_count": 4,
   "metadata": {},
   "outputs": [
    {
     "name": "stdout",
     "output_type": "stream",
     "text": [
      "“3명 이상 사망해야 100억?” 민주 산안법 개정안에 정의 반발 동영상기사 KBS\n",
      "[사사건건] 전재수, 윤희숙 겨냥 “국민의힘, 언제부터 전태일 정신 얘기했나” 포토 KBS\n",
      "[단독] 강경화 외교장관 유임 관측 속···유명희 '파격 발탁' 가능성도 포토 서울경제\n",
      "[정면승부] \"혜민스님 정도면 재산 많은 것도 아냐, 토굴치곤 비싼 토굴\" 포토 YTN\n",
      "김종인은 ‘로또청약’ 과천行…유승민 “부동산으로 정권교체” 포토 KBS\n",
      "조원태 \"일터 지키겠다\"…양사 노조 반발 동영상기사 MBN\n",
      "초대형 대한항공 되기까지, 점유율 66% 독점·고용 불안 ‘뇌관’ 포토 한겨레\n",
      "선박에 항공까지 치솟는 운임에 수출회복 ‘찬물’ 동영상기사 KBS\n",
      "40대 이하가 절반 넘어…\"거리두기 격상 시급\" 동영상기사 연합뉴스TV\n",
      "경영권 분쟁·구조조정·마일리지 ‘산 넘어 산’…독점 우려도 동영상기사 채널A\n",
      "삼성 방출된 윤성환, 채무 사기 혐의로 피소 포토 서울경제\n",
      "양주시,국토부에 조정대상 지역 해제 4차례 요청…주민들 폭발 직전 포토 문화일보\n",
      "[뉴스브리핑] 가짜 QR코드 구분 못하는 제주안심코드 외 동영상기사 KBS\n",
      "박능후, 내일 긴급 브리핑…수도권-강원 1.5단계 격상 발표할듯 포토 연합뉴스\n",
      "지나가는 여성들에게 침 뱉는 시늉 20대 남성, 징역형 구형 포토 뉴스1\n",
      "쌍용車, 신형 렉스턴 흥행… 경영정상화 청신호 포토 디지털타임스\n",
      "2025년 전동화·자율주행… 2028년 UAM 상용화 발빠른 행보 포토 디지털타임스\n",
      "황금알 `플라잉카` 시장 뛰어든 車기업 포토 디지털타임스\n",
      "“람스, 주사에 지방흡입 원리 적용한 획기적 비만치료” 포토 부산일보\n",
      "한국지엠 노조, 나흘간 부분 파업 돌입…'총력투쟁' 선언 포토 이데일리\n",
      "중국의 뒤끝...이번엔 \"BTS 언급도 말라\" 대학 강의 검열 포토 중앙일보\n",
      "\"에티오피아군 '반란' 티그라이 주도 향해 진격\" 포토 연합뉴스\n",
      "대서양에 올해 벌써 30차례 허리케인…배후엔 기후변화 포토 연합뉴스\n",
      "코로나에 '죽을 고비' 넘겼던 영국 존슨, 확진자 접촉에 또 격리(종합) 포토 연합뉴스\n",
      "다시 탁해진 중국 공기...수도권 54개 도시 오염 경보 동영상기사 YTN\n",
      "삼성전자 5대 매출처, 화웨이 빠지고 여기가 떴다 포토 조선일보\n",
      "\"성범죄자 차단\" 고영욱·정준영·최종훈 인스타그램 막혔다 포토 머니투데이\n",
      "트럼프 물러나지만...웃지 못하는 中 화웨이 포토 디지털타임스\n",
      "거리두기 1.5단계 격상 초읽기… 강원도 마지막 검토단계 포토 디지털타임스\n",
      "“아이폰12 역대급 호황? 파리만 날려요ㅠㅠ” [IT선빵!] 포토 헤럴드경제\n"
     ]
    }
   ],
   "source": [
    "for thing in things :   # for문으로 thing(원하는 것)만 추출\n",
    "    print(thing.text)   # text화 후 출력"
   ]
  },
  {
   "cell_type": "code",
   "execution_count": 5,
   "metadata": {},
   "outputs": [
    {
     "name": "stdout",
     "output_type": "stream",
     "text": [
      "<selenium.webdriver.remote.webelement.WebElement (session=\"64003588d73caf76fc9f4c22056b3fbf\", element=\"bdcb29dc-b6c4-4017-b70e-fabd832584d6\")>\n",
      "\n",
      "\n",
      "<selenium.webdriver.remote.webelement.WebElement (session=\"64003588d73caf76fc9f4c22056b3fbf\", element=\"cd7d6f75-ce97-477d-9f1a-63096415a5a6\")>\n",
      "\n",
      "\n",
      "<selenium.webdriver.remote.webelement.WebElement (session=\"64003588d73caf76fc9f4c22056b3fbf\", element=\"0eb3f56b-c1c7-4749-bfe4-cd627fef958f\")>\n",
      "\n",
      "\n",
      "<selenium.webdriver.remote.webelement.WebElement (session=\"64003588d73caf76fc9f4c22056b3fbf\", element=\"702e5151-4f97-4cd7-a38e-f87a07d0815f\")>\n",
      "\n",
      "\n",
      "<selenium.webdriver.remote.webelement.WebElement (session=\"64003588d73caf76fc9f4c22056b3fbf\", element=\"410cb9f9-391f-4c63-986b-e922d3a762fc\")>\n",
      "\n",
      "\n",
      "<selenium.webdriver.remote.webelement.WebElement (session=\"64003588d73caf76fc9f4c22056b3fbf\", element=\"8e7f3b4b-d6cc-4021-bdfb-4f71d81b43d1\")>\n",
      "\n",
      "\n"
     ]
    }
   ],
   "source": [
    "for thing in things :   # for문으로 thing(원하는 것)만 추출\n",
    "    print(str(thing)+\"\\n\\n\")"
   ]
  },
  {
   "cell_type": "code",
   "execution_count": 6,
   "metadata": {},
   "outputs": [],
   "source": [
    "chrome.get(\"file:///Users/hawk90/Desktop/Syllabus%20_%20CS%20231N.htm\")"
   ]
  },
  {
   "cell_type": "code",
   "execution_count": 7,
   "metadata": {},
   "outputs": [
    {
     "name": "stdout",
     "output_type": "stream",
     "text": [
      "<selenium.webdriver.remote.webelement.WebElement (session=\"64003588d73caf76fc9f4c22056b3fbf\", element=\"688f9d81-d91e-4379-8927-6dfa4d99225e\")>\n",
      "<selenium.webdriver.remote.webelement.WebElement (session=\"64003588d73caf76fc9f4c22056b3fbf\", element=\"1500bf95-17e3-46e2-8ac7-e657b4d98e0f\")>\n"
     ]
    }
   ],
   "source": [
    "table = chrome.find_element_by_class_name('table')\n",
    "print(table)\n",
    "tbody = table.find_element_by_tag_name('tbody')\n",
    "print(tbody)"
   ]
  },
  {
   "cell_type": "code",
   "execution_count": 8,
   "metadata": {},
   "outputs": [
    {
     "name": "stdout",
     "output_type": "stream",
     "text": [
      "<selenium.webdriver.remote.webelement.WebElement (session=\"64003588d73caf76fc9f4c22056b3fbf\", element=\"1500bf95-17e3-46e2-8ac7-e657b4d98e0f\")>\n"
     ]
    }
   ],
   "source": [
    "tbody.find_element_by_tag_name(\"tr\")\n",
    "print(tbody)"
   ]
  },
  {
   "cell_type": "code",
   "execution_count": 9,
   "metadata": {},
   "outputs": [],
   "source": [
    "tbody = chrome.find_element_by_xpath(\"//table\").get_attribute('outerHTML')"
   ]
  },
  {
   "cell_type": "code",
   "execution_count": 10,
   "metadata": {},
   "outputs": [],
   "source": [
    "body = chrome.find_element_by_xpath(\"//table/tbody\")"
   ]
  },
  {
   "cell_type": "code",
   "execution_count": 12,
   "metadata": {},
   "outputs": [],
   "source": [
    "active = body.find_element_by_class_name('active')"
   ]
  },
  {
   "cell_type": "code",
   "execution_count": 31,
   "metadata": {},
   "outputs": [
    {
     "name": "stdout",
     "output_type": "stream",
     "text": [
      "Course Introduction\n",
      "Image Classification\n",
      "Python / numpy / Google Cloud\n",
      "Loss Functions and Optimization\n",
      "Neural Networks and Backpropagation\n",
      "Backprop tutorial\n",
      "Convolutional Neural Networks\n",
      "Assignment #1 due\n",
      "Deep Learning Hardware and Software\n",
      "Projects\n",
      "Training Neural Networks, part I\n",
      "Training Neural Networks, part II\n",
      "Intro to Pytorch and Tensorflow\n",
      "CNN Architectures\n",
      "Assignment #2 due\n",
      "Recurrent Neural Networks\n",
      "Midterm Review\n",
      "Take-home midterm\n",
      "Generative Models\n",
      "Tensorflow Tutorial\n",
      "Detection and Segmentation\n",
      "Visualizing and Understanding\n",
      "Detection Software\n",
      "Fairness Accountability Transparency and Ethics in AI\n",
      "Timnit Gebru, Emily Denton\n",
      "Timnit Gebru\n",
      "Emily Denton\n",
      "Assignment #3 due\n",
      "Human-Centered Artificial Intelligence\n",
      "Fei-Fei Li\n",
      "Learning on Videos\n",
      "3D Deep Learning\n",
      "Hao Su\n",
      "Hao Su\n",
      "Deep Reinforcement Learning\n",
      "Scene Graphs\n"
     ]
    }
   ],
   "source": [
    "for tr in body.find_elements_by_tag_name('tr'):\n",
    "    if active == tr:\n",
    "        continue\n",
    "    td = tr.find_elements_by_tag_name('td')\n",
    "    for dd in td[2].find_elements_by_tag_name('b'):\n",
    "        print(dd.text)"
   ]
  },
  {
   "cell_type": "code",
   "execution_count": null,
   "metadata": {},
   "outputs": [],
   "source": []
  }
 ],
 "metadata": {
  "kernelspec": {
   "display_name": "Python 3",
   "language": "python",
   "name": "python3"
  },
  "language_info": {
   "codemirror_mode": {
    "name": "ipython",
    "version": 3
   },
   "file_extension": ".py",
   "mimetype": "text/x-python",
   "name": "python",
   "nbconvert_exporter": "python",
   "pygments_lexer": "ipython3",
   "version": "3.6.10"
  }
 },
 "nbformat": 4,
 "nbformat_minor": 4
}
