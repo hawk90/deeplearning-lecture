{
 "cells": [
  {
   "cell_type": "markdown",
   "metadata": {},
   "source": [
    "### 7-4．토픽추출을 위한 데이터 준비\n",
    "#### 전 기사의 형태소 분석"
   ]
  },
  {
   "cell_type": "code",
   "execution_count": 1,
   "metadata": {},
   "outputs": [
    {
     "name": "stdout",
     "output_type": "stream",
     "text": [
      "Collecting konlpy\n",
      "  Downloading konlpy-0.5.2-py2.py3-none-any.whl (19.4 MB)\n",
      "\u001b[K     |████████████████████████████████| 19.4 MB 2.9 MB/s eta 0:00:01\n",
      "\u001b[?25hRequirement already satisfied: numpy>=1.6 in /Users/hawk90/.pyenv/versions/3.6.10/envs/Workspace/lib/python3.6/site-packages (from konlpy) (1.19.4)\n",
      "Collecting beautifulsoup4==4.6.0\n",
      "  Downloading beautifulsoup4-4.6.0-py3-none-any.whl (86 kB)\n",
      "\u001b[K     |██████████████████████████████▏ | 81 kB 8.2 MB/s eta 0:00:011     |████████████████████████████████| 86 kB 4.9 MB/s \n",
      "\u001b[?25hCollecting tweepy>=3.7.0\n",
      "  Downloading tweepy-3.9.0-py2.py3-none-any.whl (30 kB)\n",
      "Collecting JPype1>=0.7.0\n",
      "  Downloading JPype1-1.1.2-cp36-cp36m-macosx_10_9_x86_64.whl (372 kB)\n",
      "\u001b[K     |████████████████████████████████| 372 kB 30.4 MB/s eta 0:00:01\n",
      "\u001b[?25hCollecting lxml>=4.1.0\n",
      "  Downloading lxml-4.6.1-cp36-cp36m-macosx_10_9_x86_64.whl (4.6 MB)\n",
      "\u001b[K     |████████████████████████████████| 4.6 MB 5.6 MB/s eta 0:00:01     |██                              | 276 kB 5.6 MB/s eta 0:00:01\n",
      "\u001b[?25hCollecting colorama\n",
      "  Downloading colorama-0.4.4-py2.py3-none-any.whl (16 kB)\n",
      "Requirement already satisfied: requests[socks]>=2.11.1 in /Users/hawk90/.pyenv/versions/3.6.10/envs/Workspace/lib/python3.6/site-packages (from tweepy>=3.7.0->konlpy) (2.24.0)\n",
      "Requirement already satisfied: requests-oauthlib>=0.7.0 in /Users/hawk90/.pyenv/versions/3.6.10/envs/Workspace/lib/python3.6/site-packages (from tweepy>=3.7.0->konlpy) (1.3.0)\n",
      "Requirement already satisfied: six>=1.10.0 in /Users/hawk90/.pyenv/versions/3.6.10/envs/Workspace/lib/python3.6/site-packages (from tweepy>=3.7.0->konlpy) (1.15.0)\n",
      "Collecting typing-extensions; python_version < \"3.8\"\n",
      "  Downloading typing_extensions-3.7.4.3-py3-none-any.whl (22 kB)\n",
      "Requirement already satisfied: idna<3,>=2.5 in /Users/hawk90/.pyenv/versions/3.6.10/envs/Workspace/lib/python3.6/site-packages (from requests[socks]>=2.11.1->tweepy>=3.7.0->konlpy) (2.10)\n",
      "Requirement already satisfied: chardet<4,>=3.0.2 in /Users/hawk90/.pyenv/versions/3.6.10/envs/Workspace/lib/python3.6/site-packages (from requests[socks]>=2.11.1->tweepy>=3.7.0->konlpy) (3.0.4)\n",
      "Requirement already satisfied: urllib3!=1.25.0,!=1.25.1,<1.26,>=1.21.1 in /Users/hawk90/.pyenv/versions/3.6.10/envs/Workspace/lib/python3.6/site-packages (from requests[socks]>=2.11.1->tweepy>=3.7.0->konlpy) (1.25.11)\n",
      "Requirement already satisfied: certifi>=2017.4.17 in /Users/hawk90/.pyenv/versions/3.6.10/envs/Workspace/lib/python3.6/site-packages (from requests[socks]>=2.11.1->tweepy>=3.7.0->konlpy) (2020.6.20)\n",
      "Collecting PySocks!=1.5.7,>=1.5.6; extra == \"socks\"\n",
      "  Downloading PySocks-1.7.1-py3-none-any.whl (16 kB)\n",
      "Requirement already satisfied: oauthlib>=3.0.0 in /Users/hawk90/.pyenv/versions/3.6.10/envs/Workspace/lib/python3.6/site-packages (from requests-oauthlib>=0.7.0->tweepy>=3.7.0->konlpy) (3.1.0)\n",
      "Installing collected packages: beautifulsoup4, tweepy, typing-extensions, JPype1, lxml, colorama, konlpy, PySocks\n",
      "  Attempting uninstall: beautifulsoup4\n",
      "    Found existing installation: beautifulsoup4 4.9.3\n",
      "    Uninstalling beautifulsoup4-4.9.3:\n",
      "      Successfully uninstalled beautifulsoup4-4.9.3\n",
      "Successfully installed JPype1-1.1.2 PySocks-1.7.1 beautifulsoup4-4.6.0 colorama-0.4.4 konlpy-0.5.2 lxml-4.6.1 tweepy-3.9.0 typing-extensions-3.7.4.3\n"
     ]
    }
   ],
   "source": [
    "# konlpy의 인스톨\n",
    "!pip install konlpy"
   ]
  },
  {
   "cell_type": "code",
   "execution_count": 2,
   "metadata": {},
   "outputs": [
    {
     "name": "stdout",
     "output_type": "stream",
     "text": [
      "Collecting nltk\n",
      "  Downloading nltk-3.5.zip (1.4 MB)\n",
      "\u001b[K     |████████████████████████████████| 1.4 MB 1.4 MB/s eta 0:00:01     |███████████▏                    | 501 kB 1.4 MB/s eta 0:00:01\n",
      "\u001b[?25hCollecting click\n",
      "  Downloading click-7.1.2-py2.py3-none-any.whl (82 kB)\n",
      "\u001b[K     |████████████████████████████████| 82 kB 1.4 MB/s  eta 0:00:01\n",
      "\u001b[?25hRequirement already satisfied: joblib in /Users/hawk90/.pyenv/versions/3.6.10/envs/Workspace/lib/python3.6/site-packages (from nltk) (0.17.0)\n",
      "Collecting regex\n",
      "  Downloading regex-2020.11.11-cp36-cp36m-macosx_10_9_x86_64.whl (284 kB)\n",
      "\u001b[K     |████████████████████████████████| 284 kB 24.2 MB/s eta 0:00:01\n",
      "\u001b[?25hRequirement already satisfied: tqdm in /Users/hawk90/.pyenv/versions/3.6.10/envs/Workspace/lib/python3.6/site-packages (from nltk) (4.51.0)\n",
      "Building wheels for collected packages: nltk\n",
      "  Building wheel for nltk (setup.py) ... \u001b[?25ldone\n",
      "\u001b[?25h  Created wheel for nltk: filename=nltk-3.5-py3-none-any.whl size=1434675 sha256=4b7499ff19458f7e09dd2a7a4d8aafb599d3b7433f391c9e28c96eec6abe6906\n",
      "  Stored in directory: /Users/hawk90/Library/Caches/pip/wheels/de/5e/42/64abaeca668161c3e2cecc24f864a8fc421e3d07a104fc8a51\n",
      "Successfully built nltk\n",
      "Installing collected packages: click, regex, nltk\n",
      "Successfully installed click-7.1.2 nltk-3.5 regex-2020.11.11\n"
     ]
    }
   ],
   "source": [
    "# nltk의 인스톨\n",
    "!pip install nltk"
   ]
  },
  {
   "cell_type": "code",
   "execution_count": 3,
   "metadata": {},
   "outputs": [
    {
     "ename": "JVMNotFoundException",
     "evalue": "No JVM shared library file (libjli.dylib) found. Try setting up the JAVA_HOME environment variable properly.",
     "output_type": "error",
     "traceback": [
      "\u001b[0;31m---------------------------------------------------------------------------\u001b[0m",
      "\u001b[0;31mJVMNotFoundException\u001b[0m                      Traceback (most recent call last)",
      "\u001b[0;32m<ipython-input-3-7e77d9255534>\u001b[0m in \u001b[0;36m<module>\u001b[0;34m\u001b[0m\n\u001b[1;32m      2\u001b[0m \u001b[0;32mimport\u001b[0m \u001b[0mre\u001b[0m\u001b[0;34m\u001b[0m\u001b[0;34m\u001b[0m\u001b[0m\n\u001b[1;32m      3\u001b[0m \u001b[0;32mfrom\u001b[0m \u001b[0mkonlpy\u001b[0m\u001b[0;34m.\u001b[0m\u001b[0mtag\u001b[0m \u001b[0;32mimport\u001b[0m \u001b[0mOkt\u001b[0m\u001b[0;34m\u001b[0m\u001b[0;34m\u001b[0m\u001b[0m\n\u001b[0;32m----> 4\u001b[0;31m \u001b[0mokt\u001b[0m \u001b[0;34m=\u001b[0m \u001b[0mOkt\u001b[0m\u001b[0;34m(\u001b[0m\u001b[0;34m)\u001b[0m\u001b[0;34m\u001b[0m\u001b[0;34m\u001b[0m\u001b[0m\n\u001b[0m\u001b[1;32m      5\u001b[0m \u001b[0;34m\u001b[0m\u001b[0m\n\u001b[1;32m      6\u001b[0m \u001b[0;31m# 기사 폴더의 지정\u001b[0m\u001b[0;34m\u001b[0m\u001b[0;34m\u001b[0m\u001b[0;34m\u001b[0m\u001b[0m\n",
      "\u001b[0;32m~/.pyenv/versions/3.6.10/envs/Workspace/lib/python3.6/site-packages/konlpy/tag/_okt.py\u001b[0m in \u001b[0;36m__init__\u001b[0;34m(self, jvmpath, max_heap_size)\u001b[0m\n\u001b[1;32m     89\u001b[0m     \u001b[0;32mdef\u001b[0m \u001b[0m__init__\u001b[0m\u001b[0;34m(\u001b[0m\u001b[0mself\u001b[0m\u001b[0;34m,\u001b[0m \u001b[0mjvmpath\u001b[0m\u001b[0;34m=\u001b[0m\u001b[0;32mNone\u001b[0m\u001b[0;34m,\u001b[0m \u001b[0mmax_heap_size\u001b[0m\u001b[0;34m=\u001b[0m\u001b[0;36m1024\u001b[0m\u001b[0;34m)\u001b[0m\u001b[0;34m:\u001b[0m\u001b[0;34m\u001b[0m\u001b[0;34m\u001b[0m\u001b[0m\n\u001b[1;32m     90\u001b[0m         \u001b[0;32mif\u001b[0m \u001b[0;32mnot\u001b[0m \u001b[0mjpype\u001b[0m\u001b[0;34m.\u001b[0m\u001b[0misJVMStarted\u001b[0m\u001b[0;34m(\u001b[0m\u001b[0;34m)\u001b[0m\u001b[0;34m:\u001b[0m\u001b[0;34m\u001b[0m\u001b[0;34m\u001b[0m\u001b[0m\n\u001b[0;32m---> 91\u001b[0;31m             \u001b[0mjvm\u001b[0m\u001b[0;34m.\u001b[0m\u001b[0minit_jvm\u001b[0m\u001b[0;34m(\u001b[0m\u001b[0mjvmpath\u001b[0m\u001b[0;34m,\u001b[0m \u001b[0mmax_heap_size\u001b[0m\u001b[0;34m)\u001b[0m\u001b[0;34m\u001b[0m\u001b[0;34m\u001b[0m\u001b[0m\n\u001b[0m\u001b[1;32m     92\u001b[0m \u001b[0;34m\u001b[0m\u001b[0m\n\u001b[1;32m     93\u001b[0m         \u001b[0moktJavaPackage\u001b[0m \u001b[0;34m=\u001b[0m \u001b[0mjpype\u001b[0m\u001b[0;34m.\u001b[0m\u001b[0mJPackage\u001b[0m\u001b[0;34m(\u001b[0m\u001b[0;34m'kr.lucypark.okt'\u001b[0m\u001b[0;34m)\u001b[0m\u001b[0;34m\u001b[0m\u001b[0;34m\u001b[0m\u001b[0m\n",
      "\u001b[0;32m~/.pyenv/versions/3.6.10/envs/Workspace/lib/python3.6/site-packages/konlpy/jvm.py\u001b[0m in \u001b[0;36minit_jvm\u001b[0;34m(jvmpath, max_heap_size)\u001b[0m\n\u001b[1;32m     53\u001b[0m     \u001b[0mclasspath\u001b[0m \u001b[0;34m=\u001b[0m \u001b[0mos\u001b[0m\u001b[0;34m.\u001b[0m\u001b[0mpathsep\u001b[0m\u001b[0;34m.\u001b[0m\u001b[0mjoin\u001b[0m\u001b[0;34m(\u001b[0m\u001b[0mf\u001b[0m\u001b[0;34m.\u001b[0m\u001b[0mformat\u001b[0m\u001b[0;34m(\u001b[0m\u001b[0;34m*\u001b[0m\u001b[0margs\u001b[0m\u001b[0;34m)\u001b[0m \u001b[0;32mfor\u001b[0m \u001b[0mf\u001b[0m \u001b[0;32min\u001b[0m \u001b[0mfolder_suffix\u001b[0m\u001b[0;34m)\u001b[0m\u001b[0;34m\u001b[0m\u001b[0;34m\u001b[0m\u001b[0m\n\u001b[1;32m     54\u001b[0m \u001b[0;34m\u001b[0m\u001b[0m\n\u001b[0;32m---> 55\u001b[0;31m     \u001b[0mjvmpath\u001b[0m \u001b[0;34m=\u001b[0m \u001b[0mjvmpath\u001b[0m \u001b[0;32mor\u001b[0m \u001b[0mjpype\u001b[0m\u001b[0;34m.\u001b[0m\u001b[0mgetDefaultJVMPath\u001b[0m\u001b[0;34m(\u001b[0m\u001b[0;34m)\u001b[0m\u001b[0;34m\u001b[0m\u001b[0;34m\u001b[0m\u001b[0m\n\u001b[0m\u001b[1;32m     56\u001b[0m \u001b[0;34m\u001b[0m\u001b[0m\n\u001b[1;32m     57\u001b[0m     \u001b[0;31m# NOTE: Temporary patch for Issue #76. Erase when possible.\u001b[0m\u001b[0;34m\u001b[0m\u001b[0;34m\u001b[0m\u001b[0;34m\u001b[0m\u001b[0m\n",
      "\u001b[0;32m~/.pyenv/versions/3.6.10/envs/Workspace/lib/python3.6/site-packages/jpype/_jvmfinder.py\u001b[0m in \u001b[0;36mgetDefaultJVMPath\u001b[0;34m()\u001b[0m\n\u001b[1;32m     72\u001b[0m     \u001b[0;32melse\u001b[0m\u001b[0;34m:\u001b[0m\u001b[0;34m\u001b[0m\u001b[0;34m\u001b[0m\u001b[0m\n\u001b[1;32m     73\u001b[0m         \u001b[0mfinder\u001b[0m \u001b[0;34m=\u001b[0m \u001b[0mLinuxJVMFinder\u001b[0m\u001b[0;34m(\u001b[0m\u001b[0;34m)\u001b[0m\u001b[0;34m\u001b[0m\u001b[0;34m\u001b[0m\u001b[0m\n\u001b[0;32m---> 74\u001b[0;31m     \u001b[0;32mreturn\u001b[0m \u001b[0mfinder\u001b[0m\u001b[0;34m.\u001b[0m\u001b[0mget_jvm_path\u001b[0m\u001b[0;34m(\u001b[0m\u001b[0;34m)\u001b[0m\u001b[0;34m\u001b[0m\u001b[0;34m\u001b[0m\u001b[0m\n\u001b[0m\u001b[1;32m     75\u001b[0m \u001b[0;34m\u001b[0m\u001b[0m\n\u001b[1;32m     76\u001b[0m \u001b[0;34m\u001b[0m\u001b[0m\n",
      "\u001b[0;32m~/.pyenv/versions/3.6.10/envs/Workspace/lib/python3.6/site-packages/jpype/_jvmfinder.py\u001b[0m in \u001b[0;36mget_jvm_path\u001b[0;34m(self)\u001b[0m\n\u001b[1;32m    213\u001b[0m                                    \u001b[0;34m\"found. Try setting up the JAVA_HOME \"\u001b[0m\u001b[0;34m\u001b[0m\u001b[0;34m\u001b[0m\u001b[0m\n\u001b[1;32m    214\u001b[0m                                    \u001b[0;34m\"environment variable properly.\"\u001b[0m\u001b[0;34m\u001b[0m\u001b[0;34m\u001b[0m\u001b[0m\n\u001b[0;32m--> 215\u001b[0;31m                                    .format(self._libfile))\n\u001b[0m\u001b[1;32m    216\u001b[0m \u001b[0;34m\u001b[0m\u001b[0m\n\u001b[1;32m    217\u001b[0m     \u001b[0;32mdef\u001b[0m \u001b[0m_get_from_java_home\u001b[0m\u001b[0;34m(\u001b[0m\u001b[0mself\u001b[0m\u001b[0;34m)\u001b[0m\u001b[0;34m:\u001b[0m\u001b[0;34m\u001b[0m\u001b[0;34m\u001b[0m\u001b[0m\n",
      "\u001b[0;31mJVMNotFoundException\u001b[0m: No JVM shared library file (libjli.dylib) found. Try setting up the JAVA_HOME environment variable properly."
     ]
    }
   ],
   "source": [
    "import os\n",
    "import re\n",
    "from konlpy.tag import Okt\n",
    "okt = Okt()\n",
    "\n",
    "# 기사 폴더의 지정\n",
    "dirs = ['it-life-hack', 'movie-enter']\n",
    "\n",
    "# 단어와 레이블을 보존하는 리스트를 생성\n",
    "docterm = [] # 설명변수\n",
    "label = [] # 목적변수\n",
    "tmp1 = []\n",
    "tmp2 = ''\n",
    "\n",
    "# 각 폴더의 파일을 하나씩 읽어들여서 표시\n",
    "for i, d in enumerate(dirs):\n",
    "    # 파일의 취득\n",
    "    files = os.listdir('./data/' + d)\n",
    "    \n",
    "    for file in files:\n",
    "        # 파일 오픈과 리드\n",
    "        f = open('./data/' + d + '/' + file, 'r', encoding='utf-8')\n",
    "        text = f.read()\n",
    "        \n",
    "        # 정규표현으로 불필요한 문자열을 제거하고 표시\n",
    "        reg_text = re.sub(r'[0-9a-zA-Z]+', '', text)\n",
    "        reg_text = re.sub(r'[:;/+\\.-]', '', reg_text)\n",
    "        reg_text = re.sub(r'[\\s\\n]', '', reg_text)\n",
    "        reg_text = reg_text.replace('\\n','')        \n",
    "        \n",
    "        # 필터로 형태소 분석\n",
    "        for token in okt.nouns(reg_text):\n",
    "            tmp1.append(token)\n",
    "            tmp2 = ' '.join(tmp1)\n",
    "        # 기사별로 단어를 보존\n",
    "        docterm.append(tmp2)\n",
    "        tmp1 = []\n",
    "        \n",
    "        # 기사별로 레이블을 보존\n",
    "        label.append(i)\n",
    "        \n",
    "        # 파일 크로즈\n",
    "        f.close()"
   ]
  },
  {
   "cell_type": "code",
   "execution_count": null,
   "metadata": {},
   "outputs": [],
   "source": [
    "from sklearn.feature_extraction.text import TfidfVectorizer\n",
    "import numpy as np\n",
    "import pandas as pd\n",
    "\n",
    "# 단어의 TF-IDF를 계산\n",
    "tv = TfidfVectorizer(min_df=0.05, max_df=0.5)\n",
    "docterm_tv = tv.fit_transform(np.array(docterm))\n",
    "docterm_tfidf = docterm_tv.toarray()\n",
    "\n",
    "# 데이터 프레임 형식으로 선두5행까지 표시\n",
    "docterm_tfidf = pd.DataFrame(docterm_tfidf)\n",
    "docterm_tfidf.head()"
   ]
  },
  {
   "cell_type": "code",
   "execution_count": null,
   "metadata": {},
   "outputs": [],
   "source": [
    "# 데이터 세트에 레이블열을 결합\n",
    "label = pd.DataFrame(label)\n",
    "label = label.rename(columns={0:'label'})\n",
    "\n",
    "docterm_df = pd.concat([docterm_tfidf, label], axis=1)\n",
    "docterm_df.head()"
   ]
  },
  {
   "cell_type": "markdown",
   "metadata": {},
   "source": [
    "#### 유사도의 계산"
   ]
  },
  {
   "cell_type": "code",
   "execution_count": null,
   "metadata": {},
   "outputs": [],
   "source": [
    "from sklearn.metrics.pairwise import cosine_similarity\n",
    "\n",
    "# label이 0인 단어문서행렬만 선택\n",
    "docterm_0 = docterm_df[docterm_df['label'] == 0]\n",
    "docterm_0 = docterm_0.drop('label', axis=1)\n",
    "\n",
    "# 단어 페어의 코사인 유사도를 계산\n",
    "sim0 = cosine_similarity(docterm_0.T)\n",
    "sim0_df = pd.DataFrame(sim0)\n",
    "\n",
    "# 유사도를 행렬형식으로 확인\n",
    "sim0_df"
   ]
  },
  {
   "cell_type": "markdown",
   "metadata": {},
   "source": [
    "#### 동시출현어 리스트의 작성"
   ]
  },
  {
   "cell_type": "code",
   "execution_count": null,
   "metadata": {},
   "outputs": [],
   "source": [
    "# 유사도 행렬을 리스트 형식으로 변환\n",
    "sim0_stack = sim0_df.stack()\n",
    "\n",
    "# 단어 인덱스와 유사도를 분리\n",
    "index = pd.Series(sim0_stack.index.values)\n",
    "value = pd.Series(sim0_stack.values)\n",
    "\n",
    "print(index.head())\n",
    "print(value.head())"
   ]
  },
  {
   "cell_type": "code",
   "execution_count": null,
   "metadata": {},
   "outputs": [],
   "source": [
    "tmp3 = []\n",
    "tmp4 = []\n",
    "for i in range(len(index)):\n",
    "    # 유사도가 0.5이상 0.9이하인 단어 페어를 추출\n",
    "    if value[i] >=0.5 and value[i] <= 0.9:\n",
    "        # 단어 페어를 추출\n",
    "        tmp1 = str(index[i][0]) + ' ' + str(index[i][1])\n",
    "        tmp2 = [int(s) for s in tmp1.split()]\n",
    "        tmp3.append(tmp2)\n",
    "        # 유사도를 추출\n",
    "        tmp4 = np.append(tmp4, value[i])\n",
    "\n",
    "# 동시 출현어 리스트를 작성\n",
    "tmp3 = pd.DataFrame(tmp3)\n",
    "tmp3 = tmp3.rename(columns={0:'node1', 1:'node2'})\n",
    "tmp4 = pd.DataFrame(tmp4)\n",
    "tmp4 = tmp4.rename(columns={0:'weight'})\n",
    "sim0_list = pd.concat([tmp3, tmp4], axis=1)\n",
    "\n",
    "# 작성한 리스트를 확인\n",
    "sim0_list.head()"
   ]
  },
  {
   "cell_type": "code",
   "execution_count": null,
   "metadata": {},
   "outputs": [],
   "source": [
    "# 연습문제5\n",
    "# label이 1인 단어 문서행렬만 선택\n",
    "docterm_1 = docterm_df[docterm_df['label'] == 1]\n",
    "docterm_1 = docterm_1.drop('label', axis=1)\n",
    "\n",
    "# 단어 페어의 코사인 유사도를 계산\n",
    "sim1 = cosine_similarity(docterm_1.T)\n",
    "sim1_df = pd.DataFrame(sim1)\n",
    "\n",
    "# 유사도를 행렬형식으로 확인\n",
    "sim1_df"
   ]
  },
  {
   "cell_type": "code",
   "execution_count": null,
   "metadata": {},
   "outputs": [],
   "source": [
    "# 연습문제6\n",
    "# 유사도 행렬을 리스트형식으로 변환\n",
    "sim1_stack = sim1_df.stack()\n",
    "\n",
    "# 단어 인덱스와 유사도를 분리\n",
    "index = pd.Series(sim1_stack.index.values)\n",
    "value = pd.Series(sim1_stack.values)\n",
    "\n",
    "print(index.head())\n",
    "print(value.head())"
   ]
  },
  {
   "cell_type": "code",
   "execution_count": null,
   "metadata": {},
   "outputs": [],
   "source": [
    "# 연습문제 6\n",
    "tmp3 = []\n",
    "tmp4 = []\n",
    "for i in range(len(index)):\n",
    "    # 유사도가 0.5이상 0.9이하인 단어 페어를 추출\n",
    "    if value[i] >=0.5 and value[i] <= 0.9:\n",
    "        # 단어 페어를 추출\n",
    "        tmp1 = str(index[i][0]) + ' ' + str(index[i][1])\n",
    "        tmp2 = [int(s) for s in tmp1.split()]\n",
    "        tmp3.append(tmp2)\n",
    "        # 유사도를 추출\n",
    "        tmp4 = np.append(tmp4, value[i])\n",
    "\n",
    "# 동시 출현어 리스트를 작성\n",
    "tmp3 = pd.DataFrame(tmp3)\n",
    "tmp3 = tmp3.rename(columns={0:'node1', 1:'node2'})\n",
    "tmp4 = pd.DataFrame(tmp4)\n",
    "tmp4 = tmp4.rename(columns={0:'weight'})\n",
    "sim1_list = pd.concat([tmp3, tmp4], axis=1)\n",
    "\n",
    "# 작성한 리스트를 확인\n",
    "sim1_list.head()"
   ]
  }
 ],
 "metadata": {
  "kernelspec": {
   "display_name": "Python 3",
   "language": "python",
   "name": "python3"
  },
  "language_info": {
   "codemirror_mode": {
    "name": "ipython",
    "version": 3
   },
   "file_extension": ".py",
   "mimetype": "text/x-python",
   "name": "python",
   "nbconvert_exporter": "python",
   "pygments_lexer": "ipython3",
   "version": "3.6.10"
  }
 },
 "nbformat": 4,
 "nbformat_minor": 4
}
